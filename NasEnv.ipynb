{
 "cells": [
  {
   "cell_type": "code",
   "execution_count": 2,
   "id": "661d31ff",
   "metadata": {
    "collapsed": true
   },
   "outputs": [],
   "source": [
    "import gym\n",
    "from gym import spaces\n",
    "import numpy as np\n",
    "from nasbench import api"
   ]
  },
  {
   "cell_type": "code",
   "execution_count": null,
   "id": "ed26a6e0",
   "metadata": {
    "pycharm": {
     "is_executing": true
    }
   },
   "outputs": [
    {
     "name": "stdout",
     "output_type": "stream",
     "text": [
      "Loading dataset from file... This may take a few minutes...\n",
      "WARNING:tensorflow:From /home/sem22h2/Documents/nasbench/nasbench/api.py:146: tf_record_iterator (from tensorflow.python.lib.io.tf_record) is deprecated and will be removed in a future version.\n",
      "Instructions for updating:\n",
      "Use eager execution and: \n",
      "`tf.data.TFRecordDataset(path)`\n"
     ]
    }
   ],
   "source": [
    "dataset = api.NASBench(\"/scratch2/sem22hs2/nasbench_full.tfrecord\")"
   ]
  },
  {
   "cell_type": "code",
   "execution_count": 5,
   "id": "9b2533f4",
   "metadata": {
    "collapsed": true
   },
   "outputs": [],
   "source": [
    "def objective_function(adjacency_mat,labeling, budget=108):\n",
    "    labeling = ['input'] + list(labeling) + ['output']\n",
    "    model_spec = api.ModelSpec(adjacency_mat, labeling)\n",
    "    try:\n",
    "        data = dataset.query(model_spec, epochs=budget)\n",
    "    except api.OutOfDomainError:\n",
    "        # self.record_invalid(adjacency_mat, labeling, 1, 1, 0)\n",
    "        return 0, 0\n",
    "\n",
    "    # self.record_valid(adjacency_mat, labeling, data, model_spec)\n",
    "    return data[\"validation_accuracy\"], data[\"training_time\"]"
   ]
  },
  {
   "cell_type": "code",
   "execution_count": 6,
   "id": "0950bd08",
   "metadata": {
    "collapsed": true
   },
   "outputs": [],
   "source": [
    "# Todo: sample architecture\n",
    "# Todo: Check architecture validity. Neg reward if not.\n",
    "\n",
    "class NasBench101(gym.Env):\n",
    "    metadata = {\"render_modes\": [], \"render_fps\": 1}\n",
    "    def __init__(self, v=7, e=9, ops=['conv1x1-bn-relu', 'conv3x3-bn-relu', 'maxpool3x3'], step_max=1000, \n",
    "                 render_mode: Optional[str] = None):\n",
    "        assert render_mode is None # or render_mode in self.metadata[\"render_modes\"]\n",
    "        # Environment definition\n",
    "        self.max_edges = e\n",
    "        self.vertices = v\n",
    "        self.ops = ops\n",
    "\n",
    "        # Current state\n",
    "        self.adjacency_mat = np.zeros([v,v])\n",
    "        self.labeling = (v-2)*[ops[0]] # Initialize op for all layers that are not input or output layer\n",
    "        \n",
    "        # Helper\n",
    "        self.idx_upper = np.triu_indices(v) # Indices of upper triangular matrix\n",
    "\n",
    "        self.num_step = 0\n",
    "        self.step_max =  step_max\n",
    "        num_indecies_triu = len(self.idx_upper[0])\n",
    "        self.observation_space = spaces.Dict(\n",
    "            {\n",
    "                \"adjacency_mat\": spaces.MultiBinary(num_indecies_triu),\n",
    "                \"labels\": spaces.MultiDiscrete(np.array((v-2)*[len(ops)])),\n",
    "            }\n",
    "        )\n",
    "\n",
    "        \n",
    "    def step(self, action):\n",
    "        e=self.max_edges\n",
    "        v=self.vertices\n",
    "        n = (v*(v+1)/2) # Number of indices in upper triag. part of matrix\n",
    "        if action < n:\n",
    "            # Todo: Check this changes matrix at right place\n",
    "            iu = self.idx_upper\n",
    "            self.adjacency_mat[iu[0][action],iu[1][action]] = not self.adjacency_mat[iu[0][action],iu[1][action]]\n",
    "        else:\n",
    "            o=len(self.ops)\n",
    "            action = action - n\n",
    "            [label_row, op] = np.unravel_index(action,[v, o])\n",
    "            self.labeling[label_row] = op\n",
    "\n",
    "        y, c = objective_function(self.adjacency_mat, self.labeling)\n",
    "        reward = y\n",
    "        if self.step == self.step_max:\n",
    "            done = 1\n",
    "        else: done = 0\n",
    "\n",
    "        observation = None\n",
    "        info = None\n",
    "        return observation, reward, done, info\n",
    "\n",
    "    def reset(self):\n",
    "        self.adjacency_mat[self.idx_upper] = np.random.randint(0,2,len(self.idx_upper))\n",
    "        self.labeling = np.random.randint(0,3,len(self.labeling))"
   ]
  },
  {
   "cell_type": "code",
   "execution_count": 52,
   "id": "1b4bec0d",
   "metadata": {},
   "outputs": [],
   "source": [
    "# Create the API instance for the topology search space in NATS\n",
    "from nats_bench import create\n",
    "api = create(\"/scratch2/sem22hs2/NATS-tss-v1_0-3ffb9-simple\", 'tss', fast_mode=True, verbose=False)"
   ]
  },
  {
   "cell_type": "code",
   "execution_count": null,
   "id": "45841e36",
   "metadata": {
    "collapsed": true
   },
   "outputs": [],
   "source": [
    "Show the architecture topology string of the 12-th architecture\n",
    "# For the topology search space, the string is interpreted as\n",
    "# arch = '|{}~0|+|{}~0|{}~1|+|{}~0|{}~1|{}~2|'.format(\n",
    "#         edge_node_0_to_node_1,\n",
    "#         edge_node_0_to_node_2,\n",
    "#         edge_node_1_to_node_2,\n",
    "#         edge_node_0_to_node_3,\n",
    "#         edge_node_1_to_node_3,\n",
    "#         edge_node_2_to_node_3,\n",
    "#         )"
   ]
  },
  {
   "cell_type": "code",
   "execution_count": 76,
   "id": "43324290",
   "metadata": {},
   "outputs": [
    {
     "name": "stdout",
     "output_type": "stream",
     "text": [
      "|none~0|+|none~0|none~1|+|none~0|nor_conv_3x3~1|avg_pool_3x3~2|\n"
     ]
    }
   ],
   "source": [
    "architecture_str = api.arch(12)\n",
    "print(architecture_str)"
   ]
  },
  {
   "cell_type": "code",
   "execution_count": 78,
   "id": "17d05653",
   "metadata": {},
   "outputs": [
    {
     "name": "stdout",
     "output_type": "stream",
     "text": [
      "0.1\n"
     ]
    }
   ],
   "source": [
    "info = api.get_more_info(architecture_str, 'cifar10')\n",
    "print(info[\"test-accuracy\"]/100)\n"
   ]
  },
  {
   "cell_type": "code",
   "execution_count": 84,
   "id": "c3c9f6e7",
   "metadata": {},
   "outputs": [
    {
     "ename": "IndentationError",
     "evalue": "expected an indented block (3114960485.py, line 96)",
     "output_type": "error",
     "traceback": [
      "\u001b[0;36m  Input \u001b[0;32mIn [84]\u001b[0;36m\u001b[0m\n\u001b[0;31m    \u001b[0m\n\u001b[0m    ^\u001b[0m\n\u001b[0;31mIndentationError\u001b[0m\u001b[0;31m:\u001b[0m expected an indented block\n"
     ]
    }
   ],
   "source": [
    "class NasBench201Tensor(gym.Env):\n",
    "    metadata = {\"render_modes\": [], \"render_fps\": 1}\n",
    "    def __init__(self, step_max=1000, render_mode: Optional[str] = None):\n",
    "        assert render_mode is None # or render_mode in self.metadata[\"render_modes\"]\n",
    "        \n",
    "        # Environment definition\n",
    "        self.vertices = 4\n",
    "        self.ops = ['nor_conv_1x1', 'nor_conv_3x3', 'avg_pool_3x3', 'skip_connect']\n",
    "\n",
    "        # Current state\n",
    "        v = self.vertices\n",
    "        no_ops = len(self.ops)\n",
    "        self.adjacency_tensor = np.zeros([v,v,no_ops])\n",
    "        \n",
    "        # Helper\n",
    "        self.triu_y, self.triu_x = np.triu_indices(v, 1) # Indices of upper triangular matrix\n",
    "        self.no_triu = len(self.triu_y[0]) # Number of upper triangular elements in matrix\n",
    "        num_triu = len(self.self.no_triu)\n",
    "        self._label_to_op = {\n",
    "            0: 'nor_conv_1x1',\n",
    "            1: 'nor_conv_3x3',\n",
    "            2: 'avg_pool_3x3',\n",
    "            3: 'skip_connect',\n",
    "        }\n",
    "        self.observation_space = spaces.MultiBinary(no_ops * num_triu)\n",
    "        self.action_space = spaces.Discrete(no_ops * num_triu)\n",
    "        \n",
    "        # Len intervals\n",
    "        self.num_step = 0\n",
    "        self.step_max =  step_max\n",
    "        \n",
    "        if self.render_mode == \"human\":\n",
    "            pass\n",
    "        \n",
    "        \n",
    "    def _tensor2obs(self, tensor):\n",
    "        obs=[]\n",
    "        for i in range(adjacency_tensor.shape[2]):\n",
    "            obs.extend(adjacency_tensor[self.triu_x,self.triu_y,i])\n",
    "        return obs\n",
    "    \n",
    "    def _action2tensor(self, action):\n",
    "        no_triu = self.no_triu\n",
    "        tensor_z = int(action/no_triu)\n",
    "        triu_idx = action%no_triu\n",
    "        tensor_x = self.triu_x[triu_idx]\n",
    "        tensor_y = self.triu_y[triu_idx]\n",
    "        \n",
    "        element =  self.observation_space[action]\n",
    "        new_element = not element\n",
    "        if new_element is True:\n",
    "            # Enforce whole row to be zero\n",
    "            self.adjacency_tensor[tensor_y, tensor_x, :] = np.zeros(4, dtype=int)\n",
    "        self.adjacency_tensor[tensor_y, tensor_x, tensor_z] = new_element\n",
    "        return\n",
    "    \n",
    "    def ten2str(tensor):\n",
    "        adj_str = \"|\"\n",
    "        for j in range(tensor.shape[1]): #to\n",
    "            for k in range(tensor.shape[0]): #from\n",
    "                if j <= k:\n",
    "                    continue\n",
    "                if k==0 and j != 1:\n",
    "                    adj_str += \"+|\"\n",
    "                    \n",
    "                for i in range(tensor.shape[2]):#op\n",
    "                    if not tensor[:,k,j].any():\n",
    "                        adj_str += \"none~\"+str(k)+\"|\"\n",
    "                        break\n",
    "                    if tensor[i,k,j] == 1:\n",
    "                        adj_str +=_label_to_op[i] +\"~\"+str(k)+ \"|\"\n",
    "        return adj_str\n",
    "    \n",
    "    def nb201_lookup(tensor):\n",
    "        arch=ten2str(tensor)\n",
    "        acc=api.get_more_info(architecture_str, 'cifar10')\n",
    "        return acc\n",
    "                           \n",
    "                       \n",
    "    def step(self, action):\n",
    "        # Determine new adjacency matrix and observation space\n",
    "        _action2tensor(action)\n",
    "        self.observation = self._tensor2obs(self.adjacency_tensor)\n",
    "        # Calculate reward\n",
    "        acc = nb201_lookup(self.adjacency_tensor)\n",
    "        reward = acc\n",
    "        if self.step == self.step_max:\n",
    "            done = 1\n",
    "        else: done = 0\n",
    "\n",
    "        observation = self.observation\n",
    "        info = None\n",
    "        return observation, reward, done, info\n",
    "\n",
    "    def reset(self):\n",
    "        "
   ]
  },
  {
   "cell_type": "code",
   "execution_count": null,
   "id": "4c8be146",
   "metadata": {
    "pycharm": {
     "name": "#%%\n"
    }
   },
   "outputs": [],
   "source": [
    "import ray\n",
    "from ray.tune.integration.wandb import WandbLoggerCallback"
   ]
  },
  {
   "cell_type": "code",
   "execution_count": 82,
   "id": "97aa4074",
   "metadata": {
    "pycharm": {
     "name": "#%%\n"
    }
   },
   "outputs": [
    {
     "ename": "NameError",
     "evalue": "name 'NasBench201Tensor' is not defined",
     "output_type": "error",
     "traceback": [
      "\u001b[0;31m---------------------------------------------------------------------------\u001b[0m",
      "\u001b[0;31mNameError\u001b[0m                                 Traceback (most recent call last)",
      "Input \u001b[0;32mIn [82]\u001b[0m, in \u001b[0;36m<cell line: 1>\u001b[0;34m()\u001b[0m\n\u001b[0;32m----> 1\u001b[0m SELECT_ENV \u001b[38;5;241m=\u001b[39m \u001b[43mNasBench201Tensor\u001b[49m\n\u001b[1;32m      2\u001b[0m N_ITER \u001b[38;5;241m=\u001b[39m \u001b[38;5;241m20\u001b[39m\n\u001b[1;32m      5\u001b[0m ray\u001b[38;5;241m.\u001b[39minit()\n",
      "\u001b[0;31mNameError\u001b[0m: name 'NasBench201Tensor' is not defined"
     ]
    }
   ],
   "source": [
    "SELECT_ENV = NasBench201Tensor\n",
    "N_ITER = 20\n",
    "\n",
    "\n",
    "ray.init()\n",
    "ray.tune.run(\n",
    "    \"PPO\",\n",
    "    stop={\"training_iteration\": 15},\n",
    "    config={\n",
    "        \"env\": SELECT_ENV,\n",
    "        \"record_env\": True,\n",
    "        \"framework\": \"torch\",\n",
    "        \"num_cpus_per_worker\": 2,\n",
    "        \"num_gpus\": 2,\n",
    "        \"num_workers\": 4,\n",
    "    },\n",
    "    #local_dir=\"logs\",\n",
    "    #callbacks=[WandbLoggerCallback(api_key=\"c36c598399c6c7f2f0b446aac164da6c7956a263\", project=\"NasBenchV1\")],\n",
    ")\n",
    "\n",
    "\n",
    "trainer.evaluate()"
   ]
  },
  {
   "cell_type": "code",
   "execution_count": 9,
   "id": "9fc10d56",
   "metadata": {
    "collapsed": true
   },
   "outputs": [],
   "source": [
    "ray.shutdown()"
   ]
  },
  {
   "cell_type": "code",
   "execution_count": 12,
   "id": "2e9a36c1",
   "metadata": {
    "collapsed": true
   },
   "outputs": [],
   "source": [
    "b = NasBench(v=3)"
   ]
  },
  {
   "cell_type": "code",
   "execution_count": 14,
   "id": "2197ddee",
   "metadata": {},
   "outputs": [
    {
     "data": {
      "text/plain": [
       "(None, 0, 0, None)"
      ]
     },
     "execution_count": 14,
     "metadata": {},
     "output_type": "execute_result"
    }
   ],
   "source": [
    "b.step(1)"
   ]
  },
  {
   "cell_type": "code",
   "execution_count": 16,
   "id": "f52bc268",
   "metadata": {
    "collapsed": true
   },
   "outputs": [],
   "source": [
    "b=[1,2,3]"
   ]
  },
  {
   "cell_type": "code",
   "execution_count": 16,
   "id": "5f48084e",
   "metadata": {
    "collapsed": true
   },
   "outputs": [],
   "source": [
    "import numpy as np\n",
    "y,x =np.triu_indices(4,1)\n",
    "mat=np.arange(16).reshape(4, 4)"
   ]
  },
  {
   "cell_type": "code",
   "execution_count": 20,
   "id": "51afb5b0",
   "metadata": {
    "collapsed": true
   },
   "outputs": [],
   "source": [
    "mat[y[0],x[0]]=90"
   ]
  },
  {
   "cell_type": "code",
   "execution_count": 39,
   "id": "217e9a38",
   "metadata": {
    "collapsed": true
   },
   "outputs": [],
   "source": [
    "from gym import spaces\n",
    "b=spaces.MultiBinary(3 * 3)"
   ]
  },
  {
   "cell_type": "code",
   "execution_count": 56,
   "id": "06ec1498",
   "metadata": {},
   "outputs": [
    {
     "data": {
      "text/plain": [
       "'henpl'"
      ]
     },
     "execution_count": 56,
     "metadata": {},
     "output_type": "execute_result"
    }
   ],
   "source": []
  },
  {
   "cell_type": "code",
   "execution_count": 37,
   "id": "580b25da",
   "metadata": {},
   "outputs": [],
   "source": [
    "import numpy as np\n",
    "p=np.array([[[0,1,0],[0,0,0],[0,0,0]], [[0,0,0],[0,0,1],[0,0,0]], [[0,0,0],[0,0,0],[0,0,0]]])\n",
    "_label_to_op = {\n",
    "            0: 'nor_conv_1x1',\n",
    "            1: 'nor_conv_3x3',\n",
    "            2: 'avg_pool_3x3',\n",
    "            3: 'skip_connect',\n",
    "        }"
   ]
  },
  {
   "cell_type": "code",
   "execution_count": 50,
   "id": "c779cdea",
   "metadata": {},
   "outputs": [],
   "source": []
  },
  {
   "cell_type": "code",
   "execution_count": 51,
   "id": "59900052",
   "metadata": {},
   "outputs": [
    {
     "name": "stdout",
     "output_type": "stream",
     "text": [
      "0 2\n",
      "[0 0 0]\n"
     ]
    },
    {
     "data": {
      "text/plain": [
       "'|nor_conv_1x1~0|+|none~0|nor_conv_3x3~1|'"
      ]
     },
     "execution_count": 51,
     "metadata": {},
     "output_type": "execute_result"
    }
   ],
   "source": [
    "nb201_lookup(p)"
   ]
  },
  {
   "cell_type": "code",
   "execution_count": 49,
   "id": "e2e1c6fc",
   "metadata": {},
   "outputs": [
    {
     "name": "stdout",
     "output_type": "stream",
     "text": [
      "[0 1 0]\n",
      "[[[0 1 0]\n",
      "  [0 0 0]\n",
      "  [0 0 0]]\n",
      "\n",
      " [[0 0 0]\n",
      "  [0 0 1]\n",
      "  [0 0 0]]\n",
      "\n",
      " [[0 0 0]\n",
      "  [0 0 0]\n",
      "  [0 0 0]]]\n"
     ]
    }
   ],
   "source": [
    "print(p[:,1,2])\n",
    "print(p)"
   ]
  },
  {
   "cell_type": "code",
   "execution_count": null,
   "id": "6ebf76d2",
   "metadata": {},
   "outputs": [],
   "source": []
  },
  {
   "cell_type": "code",
   "execution_count": null,
   "id": "95e84727",
   "metadata": {},
   "outputs": [],
   "source": []
  }
 ],
 "metadata": {
  "kernelspec": {
   "display_name": "Python 3 (ipykernel)",
   "language": "python",
   "name": "python3"
  },
  "language_info": {
   "codemirror_mode": {
    "name": "ipython",
    "version": 3
   },
   "file_extension": ".py",
   "mimetype": "text/x-python",
   "name": "python",
   "nbconvert_exporter": "python",
   "pygments_lexer": "ipython3",
   "version": "3.9.12"
  }
 },
 "nbformat": 4,
 "nbformat_minor": 5
}
