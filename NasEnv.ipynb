{
 "cells": [
  {
   "cell_type": "code",
   "execution_count": 1,
   "id": "b7d04a44",
   "metadata": {},
   "outputs": [
    {
     "name": "stderr",
     "output_type": "stream",
     "text": [
      "2022-07-20 14:30:04.489400: W tensorflow/stream_executor/platform/default/dso_loader.cc:64] Could not load dynamic library 'libcudart.so.11.0'; dlerror: libcudart.so.11.0: cannot open shared object file: No such file or directory\n",
      "2022-07-20 14:30:04.489446: I tensorflow/stream_executor/cuda/cudart_stub.cc:29] Ignore above cudart dlerror if you do not have a GPU set up on your machine.\n"
     ]
    }
   ],
   "source": [
    "import gym\n",
    "from gym import spaces\n",
    "import numpy as np\n",
    "from nasbench import api"
   ]
  },
  {
   "cell_type": "code",
   "execution_count": 4,
   "id": "1add60d9",
   "metadata": {},
   "outputs": [
    {
     "name": "stdout",
     "output_type": "stream",
     "text": [
      "Loading dataset from file... This may take a few minutes...\n",
      "Loaded dataset in 198 seconds\n"
     ]
    }
   ],
   "source": [
    "dataset = api.NASBench(\"/scratch2/sem22hs2/nasbench_full.tfrecord\")"
   ]
  },
  {
   "cell_type": "code",
   "execution_count": 5,
   "id": "1107d2ff",
   "metadata": {},
   "outputs": [],
   "source": [
    "def objective_function(adjacency_mat,labeling, budget=108):\n",
    "    labeling = ['input'] + list(labeling) + ['output']\n",
    "    model_spec = api.ModelSpec(adjacency_mat, labeling)\n",
    "    try:\n",
    "        data = dataset.query(model_spec, epochs=budget)\n",
    "    except api.OutOfDomainError:\n",
    "        # self.record_invalid(adjacency_mat, labeling, 1, 1, 0)\n",
    "        return 0, 0\n",
    "\n",
    "    # self.record_valid(adjacency_mat, labeling, data, model_spec)\n",
    "    return data[\"validation_accuracy\"], data[\"training_time\"]"
   ]
  },
  {
   "cell_type": "code",
   "execution_count": 6,
   "id": "91ff7ab9",
   "metadata": {},
   "outputs": [],
   "source": [
    "# Todo: sample architecture\n",
    "# Todo: Check architecture validity. Neg reward if not.\n",
    "\n",
    "class NasBench(gym.Env):\n",
    "    metadata = {\"render_modes\": [], \"render_fps\": 1}\n",
    "    def __init__(self, v=7, e=9, ops=['conv1x1-bn-relu', 'conv3x3-bn-relu', 'maxpool3x3'], step_max=1000):\n",
    "        assert render_mode is None # or render_mode in self.metadata[\"render_modes\"]\n",
    "        # Environment definition\n",
    "        self.max_edges = e\n",
    "        self.vertices = v\n",
    "        self.ops = ops\n",
    "\n",
    "        # Current state\n",
    "        self.adjacency_mat = np.zeros([v,v])\n",
    "        self.labeling = (v-2)*[ops[0]] # Initialize op for all layers that are not input or output layer\n",
    "        \n",
    "        # Helper\n",
    "        self.idx_upper = np.triu_indices(v) # Indices of upper triangular matrix\n",
    "\n",
    "        self.num_step = 0\n",
    "        self.step_max =  step_max\n",
    "        num_indecies_triu = len(self.idx_upper[0])\n",
    "        self.observation_space = spaces.Dict(\n",
    "            {\n",
    "                \"adjacency_mat\": spaces.MultiBinary(num_indecies_triu),\n",
    "                \"labels\": spaces.MultiDiscrete(np.array((v-2)*[len(ops)])),\n",
    "            }\n",
    "        )\n",
    "\n",
    "        \n",
    "    def step(self, action):\n",
    "        e=self.max_edges\n",
    "        v=self.vertices\n",
    "        n = (v*(v+1)/2) # Number of indices in upper triag. part of matrix\n",
    "        if action < n:\n",
    "            # Todo: Check this changes matrix at right place\n",
    "            iu = self.idx_upper\n",
    "            self.adjacency_mat[iu[0][action],iu[1][action]] = not self.adjacency_mat[iu[0][action],iu[1][action]]\n",
    "        else:\n",
    "            o=len(self.ops)\n",
    "            action = action - n\n",
    "            [label_row, op] = np.unravel_index(action,[v, o])\n",
    "            self.labeling[label_row] = op\n",
    "\n",
    "        y, c = objective_function(self.adjacency_mat, self.labeling)\n",
    "        reward = y\n",
    "        if self.step == self.step_max:\n",
    "            done = 1\n",
    "        else: done = 0\n",
    "\n",
    "        observation = None\n",
    "        info = None\n",
    "        return observation, reward, done, info\n",
    "\n",
    "    def reset(self):\n",
    "        self.adjacency_mat[self.idx_upper] = np.random.randint(0,2,len(self.idx_upper))\n",
    "        self.labeling = np.random.randint(0,3,len(self.labeling))"
   ]
  },
  {
   "cell_type": "code",
   "execution_count": 7,
   "id": "c7b5427d",
   "metadata": {
    "pycharm": {
     "name": "#%%\n"
    }
   },
   "outputs": [],
   "source": [
    "import ray\n",
    "from ray.tune.integration.wandb import WandbLoggerCallback"
   ]
  },
  {
   "cell_type": "code",
   "execution_count": 10,
   "id": "79d6a48c",
   "metadata": {
    "pycharm": {
     "name": "#%%\n"
    }
   },
   "outputs": [
    {
     "name": "stderr",
     "output_type": "stream",
     "text": [
      "2022-07-20 14:38:48,645\tWARNING util.py:214 -- The `start_trial` operation took 34.883 s, which may be a performance bottleneck.\n",
      "\u001b[2m\u001b[36m(PPOTrainer pid=26754)\u001b[0m 2022-07-20 14:39:16,770\tERROR worker.py:451 -- Exception raised in creation task: The actor died because of an error raised in its creation task, \u001b[36mray::PPOTrainer.__init__()\u001b[39m (pid=26754, ip=129.132.4.157, repr=PPOTrainer)\n",
      "\u001b[2m\u001b[36m(PPOTrainer pid=26754)\u001b[0m   File \"/home/sem22h2/.conda/envs/RL/lib/python3.9/site-packages/ray/rllib/agents/trainer.py\", line 806, in __init__\n",
      "\u001b[2m\u001b[36m(PPOTrainer pid=26754)\u001b[0m     self._env_id: Optional[str] = self._register_if_needed(\n",
      "\u001b[2m\u001b[36m(PPOTrainer pid=26754)\u001b[0m   File \"/home/sem22h2/.conda/envs/RL/lib/python3.9/site-packages/ray/rllib/agents/trainer.py\", line 2775, in _register_if_needed\n",
      "\u001b[2m\u001b[36m(PPOTrainer pid=26754)\u001b[0m     register_env(name, lambda cfg: env_object(cfg))\n",
      "\u001b[2m\u001b[36m(PPOTrainer pid=26754)\u001b[0m   File \"/home/sem22h2/.conda/envs/RL/lib/python3.9/site-packages/ray/tune/registry.py\", line 112, in register_env\n",
      "\u001b[2m\u001b[36m(PPOTrainer pid=26754)\u001b[0m     _global_registry.register(ENV_CREATOR, name, env_creator)\n",
      "\u001b[2m\u001b[36m(PPOTrainer pid=26754)\u001b[0m   File \"/home/sem22h2/.conda/envs/RL/lib/python3.9/site-packages/ray/tune/registry.py\", line 180, in register\n",
      "\u001b[2m\u001b[36m(PPOTrainer pid=26754)\u001b[0m     self.flush_values()\n",
      "\u001b[2m\u001b[36m(PPOTrainer pid=26754)\u001b[0m   File \"/home/sem22h2/.conda/envs/RL/lib/python3.9/site-packages/ray/tune/registry.py\", line 202, in flush_values\n",
      "\u001b[2m\u001b[36m(PPOTrainer pid=26754)\u001b[0m     _internal_kv_put(\n",
      "\u001b[2m\u001b[36m(PPOTrainer pid=26754)\u001b[0m   File \"/home/sem22h2/.conda/envs/RL/lib/python3.9/site-packages/ray/experimental/internal_kv.py\", line 88, in _internal_kv_put\n",
      "\u001b[2m\u001b[36m(PPOTrainer pid=26754)\u001b[0m     return global_gcs_client.internal_kv_put(key, value, overwrite, namespace) == 0\n",
      "\u001b[2m\u001b[36m(PPOTrainer pid=26754)\u001b[0m   File \"/home/sem22h2/.conda/envs/RL/lib/python3.9/site-packages/grpc/_channel.py\", line 946, in __call__\n",
      "\u001b[2m\u001b[36m(PPOTrainer pid=26754)\u001b[0m     return _end_unary_response_blocking(state, call, False, None)\n",
      "\u001b[2m\u001b[36m(PPOTrainer pid=26754)\u001b[0m   File \"/home/sem22h2/.conda/envs/RL/lib/python3.9/site-packages/grpc/_channel.py\", line 849, in _end_unary_response_blocking\n",
      "\u001b[2m\u001b[36m(PPOTrainer pid=26754)\u001b[0m     raise _InactiveRpcError(state)\n",
      "\u001b[2m\u001b[36m(PPOTrainer pid=26754)\u001b[0m grpc._channel._InactiveRpcError: <_InactiveRpcError of RPC that terminated with:\n",
      "\u001b[2m\u001b[36m(PPOTrainer pid=26754)\u001b[0m \tstatus = StatusCode.RESOURCE_EXHAUSTED\n",
      "\u001b[2m\u001b[36m(PPOTrainer pid=26754)\u001b[0m \tdetails = \"Sent message larger than max (695703610 vs. 536870912)\"\n",
      "\u001b[2m\u001b[36m(PPOTrainer pid=26754)\u001b[0m \tdebug_error_string = \"{\"created\":\"@1658320756.662812010\",\"description\":\"Sent message larger than max (695703610 vs. 536870912)\",\"file\":\"src/core/ext/filters/message_size/message_size_filter.cc\",\"file_line\":267,\"grpc_status\":8}\"\n",
      "\u001b[2m\u001b[36m(PPOTrainer pid=26754)\u001b[0m >\n",
      "\u001b[2m\u001b[36m(PPOTrainer pid=26754)\u001b[0m Traceback (most recent call last):\n",
      "\u001b[2m\u001b[36m(PPOTrainer pid=26754)\u001b[0m   File \"python/ray/_raylet.pyx\", line 658, in ray._raylet.execute_task\n",
      "\u001b[2m\u001b[36m(PPOTrainer pid=26754)\u001b[0m   File \"python/ray/_raylet.pyx\", line 699, in ray._raylet.execute_task\n",
      "\u001b[2m\u001b[36m(PPOTrainer pid=26754)\u001b[0m   File \"python/ray/_raylet.pyx\", line 665, in ray._raylet.execute_task\n",
      "\u001b[2m\u001b[36m(PPOTrainer pid=26754)\u001b[0m   File \"python/ray/_raylet.pyx\", line 669, in ray._raylet.execute_task\n",
      "\u001b[2m\u001b[36m(PPOTrainer pid=26754)\u001b[0m   File \"python/ray/_raylet.pyx\", line 616, in ray._raylet.execute_task.function_executor\n",
      "\u001b[2m\u001b[36m(PPOTrainer pid=26754)\u001b[0m   File \"/home/sem22h2/.conda/envs/RL/lib/python3.9/site-packages/ray/_private/function_manager.py\", line 675, in actor_method_executor\n",
      "\u001b[2m\u001b[36m(PPOTrainer pid=26754)\u001b[0m     return method(__ray_actor, *args, **kwargs)\n",
      "\u001b[2m\u001b[36m(PPOTrainer pid=26754)\u001b[0m   File \"/home/sem22h2/.conda/envs/RL/lib/python3.9/site-packages/ray/util/tracing/tracing_helper.py\", line 462, in _resume_span\n",
      "\u001b[2m\u001b[36m(PPOTrainer pid=26754)\u001b[0m     return method(self, *_args, **_kwargs)\n",
      "\u001b[2m\u001b[36m(PPOTrainer pid=26754)\u001b[0m   File \"/home/sem22h2/.conda/envs/RL/lib/python3.9/site-packages/ray/rllib/agents/trainer.py\", line 806, in __init__\n",
      "\u001b[2m\u001b[36m(PPOTrainer pid=26754)\u001b[0m     self._env_id: Optional[str] = self._register_if_needed(\n",
      "\u001b[2m\u001b[36m(PPOTrainer pid=26754)\u001b[0m   File \"/home/sem22h2/.conda/envs/RL/lib/python3.9/site-packages/ray/util/tracing/tracing_helper.py\", line 462, in _resume_span\n",
      "\u001b[2m\u001b[36m(PPOTrainer pid=26754)\u001b[0m     return method(self, *_args, **_kwargs)\n",
      "\u001b[2m\u001b[36m(PPOTrainer pid=26754)\u001b[0m   File \"/home/sem22h2/.conda/envs/RL/lib/python3.9/site-packages/ray/rllib/agents/trainer.py\", line 2775, in _register_if_needed\n",
      "\u001b[2m\u001b[36m(PPOTrainer pid=26754)\u001b[0m     register_env(name, lambda cfg: env_object(cfg))\n",
      "\u001b[2m\u001b[36m(PPOTrainer pid=26754)\u001b[0m   File \"/home/sem22h2/.conda/envs/RL/lib/python3.9/site-packages/ray/tune/registry.py\", line 112, in register_env\n",
      "\u001b[2m\u001b[36m(PPOTrainer pid=26754)\u001b[0m     _global_registry.register(ENV_CREATOR, name, env_creator)\n",
      "\u001b[2m\u001b[36m(PPOTrainer pid=26754)\u001b[0m   File \"/home/sem22h2/.conda/envs/RL/lib/python3.9/site-packages/ray/tune/registry.py\", line 180, in register\n",
      "\u001b[2m\u001b[36m(PPOTrainer pid=26754)\u001b[0m     self.flush_values()\n",
      "\u001b[2m\u001b[36m(PPOTrainer pid=26754)\u001b[0m   File \"/home/sem22h2/.conda/envs/RL/lib/python3.9/site-packages/ray/tune/registry.py\", line 202, in flush_values\n",
      "\u001b[2m\u001b[36m(PPOTrainer pid=26754)\u001b[0m     _internal_kv_put(\n",
      "\u001b[2m\u001b[36m(PPOTrainer pid=26754)\u001b[0m   File \"/home/sem22h2/.conda/envs/RL/lib/python3.9/site-packages/ray/_private/client_mode_hook.py\", line 105, in wrapper\n",
      "\u001b[2m\u001b[36m(PPOTrainer pid=26754)\u001b[0m     return func(*args, **kwargs)\n",
      "\u001b[2m\u001b[36m(PPOTrainer pid=26754)\u001b[0m   File \"/home/sem22h2/.conda/envs/RL/lib/python3.9/site-packages/ray/experimental/internal_kv.py\", line 88, in _internal_kv_put\n",
      "\u001b[2m\u001b[36m(PPOTrainer pid=26754)\u001b[0m     return global_gcs_client.internal_kv_put(key, value, overwrite, namespace) == 0\n",
      "\u001b[2m\u001b[36m(PPOTrainer pid=26754)\u001b[0m   File \"/home/sem22h2/.conda/envs/RL/lib/python3.9/site-packages/ray/_private/gcs_utils.py\", line 137, in wrapper\n",
      "\u001b[2m\u001b[36m(PPOTrainer pid=26754)\u001b[0m     return f(self, *args, **kwargs)\n",
      "\u001b[2m\u001b[36m(PPOTrainer pid=26754)\u001b[0m   File \"/home/sem22h2/.conda/envs/RL/lib/python3.9/site-packages/ray/_private/gcs_utils.py\", line 228, in internal_kv_put\n",
      "\u001b[2m\u001b[36m(PPOTrainer pid=26754)\u001b[0m     reply = self._kv_stub.InternalKVPut(req)\n",
      "\u001b[2m\u001b[36m(PPOTrainer pid=26754)\u001b[0m   File \"/home/sem22h2/.conda/envs/RL/lib/python3.9/site-packages/grpc/_channel.py\", line 946, in __call__\n",
      "\u001b[2m\u001b[36m(PPOTrainer pid=26754)\u001b[0m     return _end_unary_response_blocking(state, call, False, None)\n",
      "\u001b[2m\u001b[36m(PPOTrainer pid=26754)\u001b[0m   File \"/home/sem22h2/.conda/envs/RL/lib/python3.9/site-packages/grpc/_channel.py\", line 849, in _end_unary_response_blocking\n",
      "\u001b[2m\u001b[36m(PPOTrainer pid=26754)\u001b[0m     raise _InactiveRpcError(state)\n",
      "\u001b[2m\u001b[36m(PPOTrainer pid=26754)\u001b[0m grpc._channel._InactiveRpcError: <_InactiveRpcError of RPC that terminated with:\n",
      "\u001b[2m\u001b[36m(PPOTrainer pid=26754)\u001b[0m \tstatus = StatusCode.RESOURCE_EXHAUSTED\n",
      "\u001b[2m\u001b[36m(PPOTrainer pid=26754)\u001b[0m \tdetails = \"Sent message larger than max (695703610 vs. 536870912)\"\n",
      "\u001b[2m\u001b[36m(PPOTrainer pid=26754)\u001b[0m \tdebug_error_string = \"{\"created\":\"@1658320756.662812010\",\"description\":\"Sent message larger than max (695703610 vs. 536870912)\",\"file\":\"src/core/ext/filters/message_size/message_size_filter.cc\",\"file_line\":267,\"grpc_status\":8}\"\n",
      "\u001b[2m\u001b[36m(PPOTrainer pid=26754)\u001b[0m >\n",
      "\u001b[2m\u001b[36m(PPOTrainer pid=26754)\u001b[0m \n",
      "\u001b[2m\u001b[36m(PPOTrainer pid=26754)\u001b[0m During handling of the above exception, another exception occurred:\n",
      "\u001b[2m\u001b[36m(PPOTrainer pid=26754)\u001b[0m \n",
      "\u001b[2m\u001b[36m(PPOTrainer pid=26754)\u001b[0m Traceback (most recent call last):\n",
      "\u001b[2m\u001b[36m(PPOTrainer pid=26754)\u001b[0m   File \"python/ray/_raylet.pyx\", line 799, in ray._raylet.task_execution_handler\n",
      "\u001b[2m\u001b[36m(PPOTrainer pid=26754)\u001b[0m   File \"python/ray/_raylet.pyx\", line 618, in ray._raylet.execute_task\n",
      "\u001b[2m\u001b[36m(PPOTrainer pid=26754)\u001b[0m   File \"python/ray/_raylet.pyx\", line 762, in ray._raylet.execute_task\n",
      "\u001b[2m\u001b[36m(PPOTrainer pid=26754)\u001b[0m ray.exceptions.RayActorError: The actor died because of an error raised in its creation task, \u001b[36mray::PPOTrainer.__init__()\u001b[39m (pid=26754, ip=129.132.4.157, repr=PPOTrainer)\n",
      "\u001b[2m\u001b[36m(PPOTrainer pid=26754)\u001b[0m   File \"/home/sem22h2/.conda/envs/RL/lib/python3.9/site-packages/ray/rllib/agents/trainer.py\", line 806, in __init__\n",
      "\u001b[2m\u001b[36m(PPOTrainer pid=26754)\u001b[0m     self._env_id: Optional[str] = self._register_if_needed(\n",
      "\u001b[2m\u001b[36m(PPOTrainer pid=26754)\u001b[0m   File \"/home/sem22h2/.conda/envs/RL/lib/python3.9/site-packages/ray/rllib/agents/trainer.py\", line 2775, in _register_if_needed\n",
      "\u001b[2m\u001b[36m(PPOTrainer pid=26754)\u001b[0m     register_env(name, lambda cfg: env_object(cfg))\n",
      "\u001b[2m\u001b[36m(PPOTrainer pid=26754)\u001b[0m   File \"/home/sem22h2/.conda/envs/RL/lib/python3.9/site-packages/ray/tune/registry.py\", line 112, in register_env\n",
      "\u001b[2m\u001b[36m(PPOTrainer pid=26754)\u001b[0m     _global_registry.register(ENV_CREATOR, name, env_creator)\n",
      "\u001b[2m\u001b[36m(PPOTrainer pid=26754)\u001b[0m   File \"/home/sem22h2/.conda/envs/RL/lib/python3.9/site-packages/ray/tune/registry.py\", line 180, in register\n",
      "\u001b[2m\u001b[36m(PPOTrainer pid=26754)\u001b[0m     self.flush_values()\n",
      "\u001b[2m\u001b[36m(PPOTrainer pid=26754)\u001b[0m   File \"/home/sem22h2/.conda/envs/RL/lib/python3.9/site-packages/ray/tune/registry.py\", line 202, in flush_values\n",
      "\u001b[2m\u001b[36m(PPOTrainer pid=26754)\u001b[0m     _internal_kv_put(\n",
      "\u001b[2m\u001b[36m(PPOTrainer pid=26754)\u001b[0m   File \"/home/sem22h2/.conda/envs/RL/lib/python3.9/site-packages/ray/experimental/internal_kv.py\", line 88, in _internal_kv_put\n",
      "\u001b[2m\u001b[36m(PPOTrainer pid=26754)\u001b[0m     return global_gcs_client.internal_kv_put(key, value, overwrite, namespace) == 0\n",
      "\u001b[2m\u001b[36m(PPOTrainer pid=26754)\u001b[0m   File \"/home/sem22h2/.conda/envs/RL/lib/python3.9/site-packages/grpc/_channel.py\", line 946, in __call__\n",
      "\u001b[2m\u001b[36m(PPOTrainer pid=26754)\u001b[0m     return _end_unary_response_blocking(state, call, False, None)\n",
      "\u001b[2m\u001b[36m(PPOTrainer pid=26754)\u001b[0m   File \"/home/sem22h2/.conda/envs/RL/lib/python3.9/site-packages/grpc/_channel.py\", line 849, in _end_unary_response_blocking\n",
      "\u001b[2m\u001b[36m(PPOTrainer pid=26754)\u001b[0m     raise _InactiveRpcError(state)\n",
      "\u001b[2m\u001b[36m(PPOTrainer pid=26754)\u001b[0m grpc._channel._InactiveRpcError: <_InactiveRpcError of RPC that terminated with:\n",
      "\u001b[2m\u001b[36m(PPOTrainer pid=26754)\u001b[0m \tstatus = StatusCode.RESOURCE_EXHAUSTED\n",
      "\u001b[2m\u001b[36m(PPOTrainer pid=26754)\u001b[0m \tdetails = \"Sent message larger than max (695703610 vs. 536870912)\"\n",
      "\u001b[2m\u001b[36m(PPOTrainer pid=26754)\u001b[0m \tdebug_error_string = \"{\"created\":\"@1658320756.662812010\",\"description\":\"Sent message larger than max (695703610 vs. 536870912)\",\"file\":\"src/core/ext/filters/message_size/message_size_filter.cc\",\"file_line\":267,\"grpc_status\":8}\"\n",
      "\u001b[2m\u001b[36m(PPOTrainer pid=26754)\u001b[0m >\n",
      "\u001b[2m\u001b[36m(PPOTrainer pid=26754)\u001b[0m \n",
      "\u001b[2m\u001b[36m(PPOTrainer pid=26754)\u001b[0m During handling of the above exception, another exception occurred:\n",
      "\u001b[2m\u001b[36m(PPOTrainer pid=26754)\u001b[0m \n",
      "\u001b[2m\u001b[36m(PPOTrainer pid=26754)\u001b[0m Traceback (most recent call last):\n",
      "\u001b[2m\u001b[36m(PPOTrainer pid=26754)\u001b[0m   File \"/home/sem22h2/.conda/envs/RL/lib/python3.9/site-packages/ray/exceptions.py\", line 24, in to_bytes\n",
      "\u001b[2m\u001b[36m(PPOTrainer pid=26754)\u001b[0m     serialized_exception=pickle.dumps(self),\n",
      "\u001b[2m\u001b[36m(PPOTrainer pid=26754)\u001b[0m   File \"/home/sem22h2/.conda/envs/RL/lib/python3.9/site-packages/ray/cloudpickle/cloudpickle_fast.py\", line 73, in dumps\n",
      "\u001b[2m\u001b[36m(PPOTrainer pid=26754)\u001b[0m     cp.dump(obj)\n",
      "\u001b[2m\u001b[36m(PPOTrainer pid=26754)\u001b[0m   File \"/home/sem22h2/.conda/envs/RL/lib/python3.9/site-packages/ray/cloudpickle/cloudpickle_fast.py\", line 620, in dump\n",
      "\u001b[2m\u001b[36m(PPOTrainer pid=26754)\u001b[0m     return Pickler.dump(self, obj)\n",
      "\u001b[2m\u001b[36m(PPOTrainer pid=26754)\u001b[0m TypeError: cannot pickle '_thread.RLock' object\n",
      "\u001b[2m\u001b[36m(PPOTrainer pid=26754)\u001b[0m Exception ignored in: 'ray._raylet.ray_error_to_memory_buf'\n",
      "\u001b[2m\u001b[36m(PPOTrainer pid=26754)\u001b[0m Traceback (most recent call last):\n",
      "\u001b[2m\u001b[36m(PPOTrainer pid=26754)\u001b[0m   File \"/home/sem22h2/.conda/envs/RL/lib/python3.9/site-packages/ray/exceptions.py\", line 24, in to_bytes\n",
      "\u001b[2m\u001b[36m(PPOTrainer pid=26754)\u001b[0m     serialized_exception=pickle.dumps(self),\n",
      "\u001b[2m\u001b[36m(PPOTrainer pid=26754)\u001b[0m   File \"/home/sem22h2/.conda/envs/RL/lib/python3.9/site-packages/ray/cloudpickle/cloudpickle_fast.py\", line 73, in dumps\n",
      "\u001b[2m\u001b[36m(PPOTrainer pid=26754)\u001b[0m     cp.dump(obj)\n",
      "\u001b[2m\u001b[36m(PPOTrainer pid=26754)\u001b[0m   File \"/home/sem22h2/.conda/envs/RL/lib/python3.9/site-packages/ray/cloudpickle/cloudpickle_fast.py\", line 620, in dump\n",
      "\u001b[2m\u001b[36m(PPOTrainer pid=26754)\u001b[0m     return Pickler.dump(self, obj)\n",
      "\u001b[2m\u001b[36m(PPOTrainer pid=26754)\u001b[0m TypeError: cannot pickle '_thread.RLock' object\n"
     ]
    },
    {
     "data": {
      "text/html": [
       "== Status ==<br>Current time: 2022-07-20 14:39:56 (running for 00:01:42.77)<br>Memory usage on this node: 31.9/125.6 GiB<br>Using FIFO scheduling algorithm.<br>Resources requested: 9.0/40 CPUs, 2.0/4 GPUs, 0.0/59.97 GiB heap, 0.0/29.69 GiB objects<br>Result logdir: /home/sem22h2/ray_results/PPO<br>Number of trials: 1/1 (1 RUNNING)<br><table>\n",
       "<thead>\n",
       "<tr><th>Trial name              </th><th>status  </th><th>loc  </th></tr>\n",
       "</thead>\n",
       "<tbody>\n",
       "<tr><td>PPO_NasBench_d22f3_00000</td><td>RUNNING </td><td>     </td></tr>\n",
       "</tbody>\n",
       "</table><br><br>"
      ],
      "text/plain": [
       "<IPython.core.display.HTML object>"
      ]
     },
     "metadata": {},
     "output_type": "display_data"
    },
    {
     "name": "stderr",
     "output_type": "stream",
     "text": [
      "2022-07-20 14:39:56,423\tERROR trial_runner.py:886 -- Trial PPO_NasBench_d22f3_00000: Error processing event.\n",
      "NoneType: None\n"
     ]
    },
    {
     "name": "stdout",
     "output_type": "stream",
     "text": [
      "Result for PPO_NasBench_d22f3_00000:\n",
      "  trial_id: d22f3_00000\n",
      "  \n"
     ]
    },
    {
     "data": {
      "text/html": [
       "== Status ==<br>Current time: 2022-07-20 14:40:57 (running for 00:02:43.75)<br>Memory usage on this node: 26.6/125.6 GiB<br>Using FIFO scheduling algorithm.<br>Resources requested: 0/40 CPUs, 0/4 GPUs, 0.0/59.97 GiB heap, 0.0/29.69 GiB objects<br>Result logdir: /home/sem22h2/ray_results/PPO<br>Number of trials: 1/1 (1 ERROR)<br><table>\n",
       "<thead>\n",
       "<tr><th>Trial name              </th><th>status  </th><th>loc  </th></tr>\n",
       "</thead>\n",
       "<tbody>\n",
       "<tr><td>PPO_NasBench_d22f3_00000</td><td>ERROR   </td><td>     </td></tr>\n",
       "</tbody>\n",
       "</table><br>Number of errored trials: 1<br><table>\n",
       "<thead>\n",
       "<tr><th>Trial name              </th><th style=\"text-align: right;\">  # failures</th><th>error file                                                                            </th></tr>\n",
       "</thead>\n",
       "<tbody>\n",
       "<tr><td>PPO_NasBench_d22f3_00000</td><td style=\"text-align: right;\">           1</td><td>/home/sem22h2/ray_results/PPO/PPO_NasBench_d22f3_00000_0_2022-07-20_14-38-13/error.txt</td></tr>\n",
       "</tbody>\n",
       "</table><br>"
      ],
      "text/plain": [
       "<IPython.core.display.HTML object>"
      ]
     },
     "metadata": {},
     "output_type": "display_data"
    },
    {
     "name": "stderr",
     "output_type": "stream",
     "text": [
      "2022-07-20 14:40:57,402\tERROR ray_trial_executor.py:107 -- An exception occurred when trying to stop the Ray actor:Traceback (most recent call last):\n",
      "  File \"/home/sem22h2/.conda/envs/RL/lib/python3.9/site-packages/ray/tune/ray_trial_executor.py\", line 98, in post_stop_cleanup\n",
      "    ray.get(future, timeout=0)\n",
      "  File \"/home/sem22h2/.conda/envs/RL/lib/python3.9/site-packages/ray/_private/client_mode_hook.py\", line 105, in wrapper\n",
      "    return func(*args, **kwargs)\n",
      "  File \"/home/sem22h2/.conda/envs/RL/lib/python3.9/site-packages/ray/worker.py\", line 1833, in get\n",
      "    raise value\n",
      "ray.exceptions.RayActorError: The actor died unexpectedly before finishing this task.\n",
      "\tclass_name: PPOTrainer\n",
      "\tactor_id: 60dc2e994d94fc3326bbd68b01000000\n",
      "\tpid: 26754\n",
      "\tnamespace: de10da65-4fd9-4358-961a-f529a1711c1c\n",
      "\tip: 129.132.4.157\n",
      "The actor is dead because its worker process has died. Worker exit type: CREATION_TASK_ERROR\n",
      "\n"
     ]
    },
    {
     "ename": "TuneError",
     "evalue": "('Trials did not complete', [PPO_NasBench_d22f3_00000])",
     "output_type": "error",
     "traceback": [
      "\u001b[0;31m---------------------------------------------------------------------------\u001b[0m",
      "\u001b[0;31mTuneError\u001b[0m                                 Traceback (most recent call last)",
      "Input \u001b[0;32mIn [10]\u001b[0m, in \u001b[0;36m<cell line: 6>\u001b[0;34m()\u001b[0m\n\u001b[1;32m      2\u001b[0m N_ITER \u001b[38;5;241m=\u001b[39m \u001b[38;5;241m20\u001b[39m\n\u001b[1;32m      5\u001b[0m ray\u001b[38;5;241m.\u001b[39minit()\n\u001b[0;32m----> 6\u001b[0m \u001b[43mray\u001b[49m\u001b[38;5;241;43m.\u001b[39;49m\u001b[43mtune\u001b[49m\u001b[38;5;241;43m.\u001b[39;49m\u001b[43mrun\u001b[49m\u001b[43m(\u001b[49m\n\u001b[1;32m      7\u001b[0m \u001b[43m    \u001b[49m\u001b[38;5;124;43m\"\u001b[39;49m\u001b[38;5;124;43mPPO\u001b[39;49m\u001b[38;5;124;43m\"\u001b[39;49m\u001b[43m,\u001b[49m\n\u001b[1;32m      8\u001b[0m \u001b[43m    \u001b[49m\u001b[43mstop\u001b[49m\u001b[38;5;241;43m=\u001b[39;49m\u001b[43m{\u001b[49m\u001b[38;5;124;43m\"\u001b[39;49m\u001b[38;5;124;43mtraining_iteration\u001b[39;49m\u001b[38;5;124;43m\"\u001b[39;49m\u001b[43m:\u001b[49m\u001b[43m \u001b[49m\u001b[38;5;241;43m15\u001b[39;49m\u001b[43m}\u001b[49m\u001b[43m,\u001b[49m\n\u001b[1;32m      9\u001b[0m \u001b[43m    \u001b[49m\u001b[43mconfig\u001b[49m\u001b[38;5;241;43m=\u001b[39;49m\u001b[43m{\u001b[49m\n\u001b[1;32m     10\u001b[0m \u001b[43m        \u001b[49m\u001b[38;5;124;43m\"\u001b[39;49m\u001b[38;5;124;43menv\u001b[39;49m\u001b[38;5;124;43m\"\u001b[39;49m\u001b[43m:\u001b[49m\u001b[43m \u001b[49m\u001b[43mSELECT_ENV\u001b[49m\u001b[43m,\u001b[49m\n\u001b[1;32m     11\u001b[0m \u001b[43m        \u001b[49m\u001b[38;5;124;43m\"\u001b[39;49m\u001b[38;5;124;43mrecord_env\u001b[39;49m\u001b[38;5;124;43m\"\u001b[39;49m\u001b[43m:\u001b[49m\u001b[43m \u001b[49m\u001b[38;5;28;43;01mTrue\u001b[39;49;00m\u001b[43m,\u001b[49m\n\u001b[1;32m     12\u001b[0m \u001b[43m        \u001b[49m\u001b[38;5;124;43m\"\u001b[39;49m\u001b[38;5;124;43mframework\u001b[39;49m\u001b[38;5;124;43m\"\u001b[39;49m\u001b[43m:\u001b[49m\u001b[43m \u001b[49m\u001b[38;5;124;43m\"\u001b[39;49m\u001b[38;5;124;43mtorch\u001b[39;49m\u001b[38;5;124;43m\"\u001b[39;49m\u001b[43m,\u001b[49m\n\u001b[1;32m     13\u001b[0m \u001b[43m        \u001b[49m\u001b[38;5;124;43m\"\u001b[39;49m\u001b[38;5;124;43mnum_cpus_per_worker\u001b[39;49m\u001b[38;5;124;43m\"\u001b[39;49m\u001b[43m:\u001b[49m\u001b[43m \u001b[49m\u001b[38;5;241;43m2\u001b[39;49m\u001b[43m,\u001b[49m\n\u001b[1;32m     14\u001b[0m \u001b[43m        \u001b[49m\u001b[38;5;124;43m\"\u001b[39;49m\u001b[38;5;124;43mnum_gpus\u001b[39;49m\u001b[38;5;124;43m\"\u001b[39;49m\u001b[43m:\u001b[49m\u001b[43m \u001b[49m\u001b[38;5;241;43m2\u001b[39;49m\u001b[43m,\u001b[49m\n\u001b[1;32m     15\u001b[0m \u001b[43m        \u001b[49m\u001b[38;5;124;43m\"\u001b[39;49m\u001b[38;5;124;43mnum_workers\u001b[39;49m\u001b[38;5;124;43m\"\u001b[39;49m\u001b[43m:\u001b[49m\u001b[43m \u001b[49m\u001b[38;5;241;43m4\u001b[39;49m\u001b[43m,\u001b[49m\n\u001b[1;32m     16\u001b[0m \u001b[43m    \u001b[49m\u001b[43m}\u001b[49m\u001b[43m,\u001b[49m\n\u001b[1;32m     17\u001b[0m \u001b[43m    \u001b[49m\u001b[38;5;66;43;03m#local_dir=\"logs\",\u001b[39;49;00m\n\u001b[1;32m     18\u001b[0m \u001b[43m    \u001b[49m\u001b[38;5;66;43;03m#callbacks=[WandbLoggerCallback(api_key=\"c36c598399c6c7f2f0b446aac164da6c7956a263\", project=\"NasBenchV1\")],\u001b[39;49;00m\n\u001b[1;32m     19\u001b[0m \u001b[43m)\u001b[49m\n\u001b[1;32m     22\u001b[0m trainer\u001b[38;5;241m.\u001b[39mevaluate()\n",
      "File \u001b[0;32m~/.conda/envs/RL/lib/python3.9/site-packages/ray/tune/tune.py:741\u001b[0m, in \u001b[0;36mrun\u001b[0;34m(run_or_experiment, name, metric, mode, stop, time_budget_s, config, resources_per_trial, num_samples, local_dir, search_alg, scheduler, keep_checkpoints_num, checkpoint_score_attr, checkpoint_freq, checkpoint_at_end, verbose, progress_reporter, log_to_file, trial_name_creator, trial_dirname_creator, sync_config, export_formats, max_failures, fail_fast, restore, server_port, resume, reuse_actors, trial_executor, raise_on_failed_trial, callbacks, max_concurrent_trials, _experiment_checkpoint_dir, loggers, _remote)\u001b[0m\n\u001b[1;32m    739\u001b[0m \u001b[38;5;28;01mif\u001b[39;00m incomplete_trials:\n\u001b[1;32m    740\u001b[0m     \u001b[38;5;28;01mif\u001b[39;00m raise_on_failed_trial \u001b[38;5;129;01mand\u001b[39;00m \u001b[38;5;129;01mnot\u001b[39;00m state[\u001b[38;5;124m\"\u001b[39m\u001b[38;5;124msignal\u001b[39m\u001b[38;5;124m\"\u001b[39m]:\n\u001b[0;32m--> 741\u001b[0m         \u001b[38;5;28;01mraise\u001b[39;00m TuneError(\u001b[38;5;124m\"\u001b[39m\u001b[38;5;124mTrials did not complete\u001b[39m\u001b[38;5;124m\"\u001b[39m, incomplete_trials)\n\u001b[1;32m    742\u001b[0m     \u001b[38;5;28;01melse\u001b[39;00m:\n\u001b[1;32m    743\u001b[0m         logger\u001b[38;5;241m.\u001b[39merror(\u001b[38;5;124m\"\u001b[39m\u001b[38;5;124mTrials did not complete: \u001b[39m\u001b[38;5;132;01m%s\u001b[39;00m\u001b[38;5;124m\"\u001b[39m, incomplete_trials)\n",
      "\u001b[0;31mTuneError\u001b[0m: ('Trials did not complete', [PPO_NasBench_d22f3_00000])"
     ]
    }
   ],
   "source": [
    "SELECT_ENV = NasBench\n",
    "N_ITER = 20\n",
    "\n",
    "\n",
    "ray.init()\n",
    "ray.tune.run(\n",
    "    \"PPO\",\n",
    "    stop={\"training_iteration\": 15},\n",
    "    config={\n",
    "        \"env\": SELECT_ENV,\n",
    "        \"record_env\": True,\n",
    "        \"framework\": \"torch\",\n",
    "        \"num_cpus_per_worker\": 2,\n",
    "        \"num_gpus\": 2,\n",
    "        \"num_workers\": 4,\n",
    "    },\n",
    "    #local_dir=\"logs\",\n",
    "    #callbacks=[WandbLoggerCallback(api_key=\"c36c598399c6c7f2f0b446aac164da6c7956a263\", project=\"NasBenchV1\")],\n",
    ")\n",
    "\n",
    "\n",
    "trainer.evaluate()"
   ]
  },
  {
   "cell_type": "code",
   "execution_count": 9,
   "id": "8307c673",
   "metadata": {},
   "outputs": [],
   "source": [
    "ray.shutdown()"
   ]
  },
  {
   "cell_type": "code",
   "execution_count": 12,
   "id": "a79705e8",
   "metadata": {},
   "outputs": [],
   "source": [
    "b = NasBench(v=3)"
   ]
  },
  {
   "cell_type": "code",
   "execution_count": 14,
   "id": "efc9d7d5",
   "metadata": {},
   "outputs": [
    {
     "data": {
      "text/plain": [
       "(None, 0, 0, None)"
      ]
     },
     "execution_count": 14,
     "metadata": {},
     "output_type": "execute_result"
    }
   ],
   "source": [
    "b.step(1)"
   ]
  },
  {
   "cell_type": "code",
   "execution_count": 15,
   "id": "a08428ea",
   "metadata": {},
   "outputs": [
    {
     "ename": "ValueError",
     "evalue": "shape mismatch: value array of shape (2,) could not be broadcast to indexing result of shape (6,)",
     "output_type": "error",
     "traceback": [
      "\u001b[0;31m---------------------------------------------------------------------------\u001b[0m",
      "\u001b[0;31mValueError\u001b[0m                                Traceback (most recent call last)",
      "Input \u001b[0;32mIn [15]\u001b[0m, in \u001b[0;36m<cell line: 1>\u001b[0;34m()\u001b[0m\n\u001b[0;32m----> 1\u001b[0m \u001b[43mb\u001b[49m\u001b[38;5;241;43m.\u001b[39;49m\u001b[43mreset\u001b[49m\u001b[43m(\u001b[49m\u001b[43m)\u001b[49m\n",
      "Input \u001b[0;32mIn [6]\u001b[0m, in \u001b[0;36mNasBench.reset\u001b[0;34m(self)\u001b[0m\n\u001b[1;32m     46\u001b[0m \u001b[38;5;28;01mdef\u001b[39;00m \u001b[38;5;21mreset\u001b[39m(\u001b[38;5;28mself\u001b[39m):\n\u001b[0;32m---> 47\u001b[0m     \u001b[38;5;28mself\u001b[39m\u001b[38;5;241m.\u001b[39madjacency_mat[\u001b[38;5;28mself\u001b[39m\u001b[38;5;241m.\u001b[39midx_upper] \u001b[38;5;241m=\u001b[39m np\u001b[38;5;241m.\u001b[39mrandom\u001b[38;5;241m.\u001b[39mrandint(\u001b[38;5;241m0\u001b[39m,\u001b[38;5;241m2\u001b[39m,\u001b[38;5;28mlen\u001b[39m(\u001b[38;5;28mself\u001b[39m\u001b[38;5;241m.\u001b[39midx_upper))\n\u001b[1;32m     48\u001b[0m     \u001b[38;5;28mself\u001b[39m\u001b[38;5;241m.\u001b[39mlabeling \u001b[38;5;241m=\u001b[39m np\u001b[38;5;241m.\u001b[39mrandom\u001b[38;5;241m.\u001b[39mrandint(\u001b[38;5;241m0\u001b[39m,\u001b[38;5;241m3\u001b[39m,\u001b[38;5;28mlen\u001b[39m(\u001b[38;5;28mself\u001b[39m\u001b[38;5;241m.\u001b[39mlabeling))\n",
      "\u001b[0;31mValueError\u001b[0m: shape mismatch: value array of shape (2,) could not be broadcast to indexing result of shape (6,)"
     ]
    }
   ],
   "source": [
    "b.reset()"
   ]
  },
  {
   "cell_type": "code",
   "execution_count": 16,
   "id": "f5541dfb",
   "metadata": {},
   "outputs": [
    {
     "data": {
      "text/plain": [
       "(array([0, 0, 0, 0, 0, 0, 0, 1, 1, 1, 1, 1, 1, 2, 2, 2, 2, 2, 3, 3, 3, 3,\n",
       "        4, 4, 4, 5, 5, 6]),\n",
       " array([0, 1, 2, 3, 4, 5, 6, 1, 2, 3, 4, 5, 6, 2, 3, 4, 5, 6, 3, 4, 5, 6,\n",
       "        4, 5, 6, 5, 6, 6]))"
      ]
     },
     "execution_count": 16,
     "metadata": {},
     "output_type": "execute_result"
    }
   ],
   "source": [
    "np.triu_indices(7)"
   ]
  },
  {
   "cell_type": "code",
   "execution_count": null,
   "id": "c4169c0b",
   "metadata": {},
   "outputs": [],
   "source": []
  }
 ],
 "metadata": {
  "kernelspec": {
   "display_name": "Python 3 (ipykernel)",
   "language": "python",
   "name": "python3"
  },
  "language_info": {
   "codemirror_mode": {
    "name": "ipython",
    "version": 3
   },
   "file_extension": ".py",
   "mimetype": "text/x-python",
   "name": "python",
   "nbconvert_exporter": "python",
   "pygments_lexer": "ipython3",
   "version": "3.9.12"
  }
 },
 "nbformat": 4,
 "nbformat_minor": 5
}
