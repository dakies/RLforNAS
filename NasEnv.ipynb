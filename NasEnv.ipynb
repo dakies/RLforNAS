{
 "cells": [
  {
   "cell_type": "code",
   "execution_count": 86,
   "id": "661d31ff",
   "metadata": {},
   "outputs": [
    {
     "name": "stderr",
     "output_type": "stream",
     "text": [
      "2022-07-22 08:25:21.298020: W tensorflow/stream_executor/platform/default/dso_loader.cc:64] Could not load dynamic library 'libcudart.so.11.0'; dlerror: libcudart.so.11.0: cannot open shared object file: No such file or directory\n",
      "2022-07-22 08:25:21.298092: I tensorflow/stream_executor/cuda/cudart_stub.cc:29] Ignore above cudart dlerror if you do not have a GPU set up on your machine.\n"
     ]
    }
   ],
   "source": [
    "import gym\n",
    "from gym import spaces\n",
    "import numpy as np\n",
    "from nasbench import api"
   ]
  },
  {
   "cell_type": "code",
   "execution_count": 87,
   "id": "ed26a6e0",
   "metadata": {
    "pycharm": {
     "is_executing": true
    }
   },
   "outputs": [
    {
     "name": "stdout",
     "output_type": "stream",
     "text": [
      "Loading dataset from file... This may take a few minutes...\n",
      "WARNING:tensorflow:From /home/sem22h2/Documents/nasbench/nasbench/api.py:146: tf_record_iterator (from tensorflow.python.lib.io.tf_record) is deprecated and will be removed in a future version.\n",
      "Instructions for updating:\n",
      "Use eager execution and: \n",
      "`tf.data.TFRecordDataset(path)`\n"
     ]
    },
    {
     "ename": "KeyboardInterrupt",
     "evalue": "",
     "output_type": "error",
     "traceback": [
      "\u001b[0;31m---------------------------------------------------------------------------\u001b[0m",
      "\u001b[0;31mKeyboardInterrupt\u001b[0m                         Traceback (most recent call last)",
      "Input \u001b[0;32mIn [87]\u001b[0m, in \u001b[0;36m<cell line: 1>\u001b[0;34m()\u001b[0m\n\u001b[0;32m----> 1\u001b[0m dataset \u001b[38;5;241m=\u001b[39m \u001b[43mapi\u001b[49m\u001b[38;5;241;43m.\u001b[39;49m\u001b[43mNASBench\u001b[49m\u001b[43m(\u001b[49m\u001b[38;5;124;43m\"\u001b[39;49m\u001b[38;5;124;43m/scratch2/sem22hs2/nasbench_full.tfrecord\u001b[39;49m\u001b[38;5;124;43m\"\u001b[39;49m\u001b[43m)\u001b[49m\n",
      "File \u001b[0;32m~/Documents/nasbench/nasbench/api.py:149\u001b[0m, in \u001b[0;36mNASBench.__init__\u001b[0;34m(self, dataset_file, seed)\u001b[0m\n\u001b[1;32m    144\u001b[0m \u001b[38;5;28mself\u001b[39m\u001b[38;5;241m.\u001b[39mvalid_epochs \u001b[38;5;241m=\u001b[39m \u001b[38;5;28mset\u001b[39m()\n\u001b[1;32m    146\u001b[0m \u001b[38;5;28;01mfor\u001b[39;00m serialized_row \u001b[38;5;129;01min\u001b[39;00m tf\u001b[38;5;241m.\u001b[39mcompat\u001b[38;5;241m.\u001b[39mv1\u001b[38;5;241m.\u001b[39mio\u001b[38;5;241m.\u001b[39mtf_record_iterator(dataset_file):\n\u001b[1;32m    147\u001b[0m   \u001b[38;5;66;03m# Parse the data from the data file.\u001b[39;00m\n\u001b[1;32m    148\u001b[0m   module_hash, epochs, raw_adjacency, raw_operations, raw_metrics \u001b[38;5;241m=\u001b[39m (\n\u001b[0;32m--> 149\u001b[0m       \u001b[43mjson\u001b[49m\u001b[38;5;241;43m.\u001b[39;49m\u001b[43mloads\u001b[49m\u001b[43m(\u001b[49m\u001b[43mserialized_row\u001b[49m\u001b[38;5;241;43m.\u001b[39;49m\u001b[43mdecode\u001b[49m\u001b[43m(\u001b[49m\u001b[38;5;124;43m'\u001b[39;49m\u001b[38;5;124;43mutf-8\u001b[39;49m\u001b[38;5;124;43m'\u001b[39;49m\u001b[43m)\u001b[49m\u001b[43m)\u001b[49m)\n\u001b[1;32m    151\u001b[0m   dim \u001b[38;5;241m=\u001b[39m \u001b[38;5;28mint\u001b[39m(np\u001b[38;5;241m.\u001b[39msqrt(\u001b[38;5;28mlen\u001b[39m(raw_adjacency)))\n\u001b[1;32m    152\u001b[0m   adjacency \u001b[38;5;241m=\u001b[39m np\u001b[38;5;241m.\u001b[39marray([\u001b[38;5;28mint\u001b[39m(e) \u001b[38;5;28;01mfor\u001b[39;00m e \u001b[38;5;129;01min\u001b[39;00m \u001b[38;5;28mlist\u001b[39m(raw_adjacency)], dtype\u001b[38;5;241m=\u001b[39mnp\u001b[38;5;241m.\u001b[39mint8)\n",
      "File \u001b[0;32m~/.conda/envs/RL/lib/python3.9/json/__init__.py:346\u001b[0m, in \u001b[0;36mloads\u001b[0;34m(s, cls, object_hook, parse_float, parse_int, parse_constant, object_pairs_hook, **kw)\u001b[0m\n\u001b[1;32m    341\u001b[0m     s \u001b[38;5;241m=\u001b[39m s\u001b[38;5;241m.\u001b[39mdecode(detect_encoding(s), \u001b[38;5;124m'\u001b[39m\u001b[38;5;124msurrogatepass\u001b[39m\u001b[38;5;124m'\u001b[39m)\n\u001b[1;32m    343\u001b[0m \u001b[38;5;28;01mif\u001b[39;00m (\u001b[38;5;28mcls\u001b[39m \u001b[38;5;129;01mis\u001b[39;00m \u001b[38;5;28;01mNone\u001b[39;00m \u001b[38;5;129;01mand\u001b[39;00m object_hook \u001b[38;5;129;01mis\u001b[39;00m \u001b[38;5;28;01mNone\u001b[39;00m \u001b[38;5;129;01mand\u001b[39;00m\n\u001b[1;32m    344\u001b[0m         parse_int \u001b[38;5;129;01mis\u001b[39;00m \u001b[38;5;28;01mNone\u001b[39;00m \u001b[38;5;129;01mand\u001b[39;00m parse_float \u001b[38;5;129;01mis\u001b[39;00m \u001b[38;5;28;01mNone\u001b[39;00m \u001b[38;5;129;01mand\u001b[39;00m\n\u001b[1;32m    345\u001b[0m         parse_constant \u001b[38;5;129;01mis\u001b[39;00m \u001b[38;5;28;01mNone\u001b[39;00m \u001b[38;5;129;01mand\u001b[39;00m object_pairs_hook \u001b[38;5;129;01mis\u001b[39;00m \u001b[38;5;28;01mNone\u001b[39;00m \u001b[38;5;129;01mand\u001b[39;00m \u001b[38;5;129;01mnot\u001b[39;00m kw):\n\u001b[0;32m--> 346\u001b[0m     \u001b[38;5;28;01mreturn\u001b[39;00m \u001b[43m_default_decoder\u001b[49m\u001b[38;5;241;43m.\u001b[39;49m\u001b[43mdecode\u001b[49m\u001b[43m(\u001b[49m\u001b[43ms\u001b[49m\u001b[43m)\u001b[49m\n\u001b[1;32m    347\u001b[0m \u001b[38;5;28;01mif\u001b[39;00m \u001b[38;5;28mcls\u001b[39m \u001b[38;5;129;01mis\u001b[39;00m \u001b[38;5;28;01mNone\u001b[39;00m:\n\u001b[1;32m    348\u001b[0m     \u001b[38;5;28mcls\u001b[39m \u001b[38;5;241m=\u001b[39m JSONDecoder\n",
      "File \u001b[0;32m~/.conda/envs/RL/lib/python3.9/json/decoder.py:337\u001b[0m, in \u001b[0;36mJSONDecoder.decode\u001b[0;34m(self, s, _w)\u001b[0m\n\u001b[1;32m    332\u001b[0m \u001b[38;5;28;01mdef\u001b[39;00m \u001b[38;5;21mdecode\u001b[39m(\u001b[38;5;28mself\u001b[39m, s, _w\u001b[38;5;241m=\u001b[39mWHITESPACE\u001b[38;5;241m.\u001b[39mmatch):\n\u001b[1;32m    333\u001b[0m     \u001b[38;5;124;03m\"\"\"Return the Python representation of ``s`` (a ``str`` instance\u001b[39;00m\n\u001b[1;32m    334\u001b[0m \u001b[38;5;124;03m    containing a JSON document).\u001b[39;00m\n\u001b[1;32m    335\u001b[0m \n\u001b[1;32m    336\u001b[0m \u001b[38;5;124;03m    \"\"\"\u001b[39;00m\n\u001b[0;32m--> 337\u001b[0m     obj, end \u001b[38;5;241m=\u001b[39m \u001b[38;5;28mself\u001b[39m\u001b[38;5;241m.\u001b[39mraw_decode(s, idx\u001b[38;5;241m=\u001b[39m\u001b[43m_w\u001b[49m\u001b[43m(\u001b[49m\u001b[43ms\u001b[49m\u001b[43m,\u001b[49m\u001b[43m \u001b[49m\u001b[38;5;241;43m0\u001b[39;49m\u001b[43m)\u001b[49m\u001b[38;5;241m.\u001b[39mend())\n\u001b[1;32m    338\u001b[0m     end \u001b[38;5;241m=\u001b[39m _w(s, end)\u001b[38;5;241m.\u001b[39mend()\n\u001b[1;32m    339\u001b[0m     \u001b[38;5;28;01mif\u001b[39;00m end \u001b[38;5;241m!=\u001b[39m \u001b[38;5;28mlen\u001b[39m(s):\n",
      "\u001b[0;31mKeyboardInterrupt\u001b[0m: "
     ]
    }
   ],
   "source": [
    "dataset = api.NASBench(\"/scratch2/sem22hs2/nasbench_full.tfrecord\")"
   ]
  },
  {
   "cell_type": "code",
   "execution_count": 5,
   "id": "9b2533f4",
   "metadata": {
    "collapsed": true
   },
   "outputs": [],
   "source": [
    "def objective_function(adjacency_mat,labeling, budget=108):\n",
    "    labeling = ['input'] + list(labeling) + ['output']\n",
    "    model_spec = api.ModelSpec(adjacency_mat, labeling)\n",
    "    try:\n",
    "        data = dataset.query(model_spec, epochs=budget)\n",
    "    except api.OutOfDomainError:\n",
    "        # self.record_invalid(adjacency_mat, labeling, 1, 1, 0)\n",
    "        return 0, 0\n",
    "\n",
    "    # self.record_valid(adjacency_mat, labeling, data, model_spec)\n",
    "    return data[\"validation_accuracy\"], data[\"training_time\"]"
   ]
  },
  {
   "cell_type": "code",
   "execution_count": 6,
   "id": "0950bd08",
   "metadata": {
    "collapsed": true
   },
   "outputs": [],
   "source": [
    "# Todo: sample architecture\n",
    "# Todo: Check architecture validity. Neg reward if not.\n",
    "\n",
    "class NasBench101(gym.Env):\n",
    "    metadata = {\"render_modes\": [], \"render_fps\": 1}\n",
    "    def __init__(self, v=7, e=9, ops=['conv1x1-bn-relu', 'conv3x3-bn-relu', 'maxpool3x3'], step_max=1000, \n",
    "                 render_mode: Optional[str] = None):\n",
    "        assert render_mode is None # or render_mode in self.metadata[\"render_modes\"]\n",
    "        # Environment definition\n",
    "        self.max_edges = e\n",
    "        self.vertices = v\n",
    "        self.ops = ops\n",
    "\n",
    "        # Current state\n",
    "        self.adjacency_mat = np.zeros([v,v])\n",
    "        self.labeling = (v-2)*[ops[0]] # Initialize op for all layers that are not input or output layer\n",
    "        \n",
    "        # Helper\n",
    "        self.idx_upper = np.triu_indices(v) # Indices of upper triangular matrix\n",
    "\n",
    "        self.num_step = 0\n",
    "        self.step_max =  step_max\n",
    "        num_indecies_triu = len(self.idx_upper[0])\n",
    "        self.observation_space = spaces.Dict(\n",
    "            {\n",
    "                \"adjacency_mat\": spaces.MultiBinary(num_indecies_triu),\n",
    "                \"labels\": spaces.MultiDiscrete(np.array((v-2)*[len(ops)])),\n",
    "            }\n",
    "        )\n",
    "\n",
    "        \n",
    "    def step(self, action):\n",
    "        e=self.max_edges\n",
    "        v=self.vertices\n",
    "        n = (v*(v+1)/2) # Number of indices in upper triag. part of matrix\n",
    "        if action < n:\n",
    "            # Todo: Check this changes matrix at right place\n",
    "            iu = self.idx_upper\n",
    "            self.adjacency_mat[iu[0][action],iu[1][action]] = not self.adjacency_mat[iu[0][action],iu[1][action]]\n",
    "        else:\n",
    "            o=len(self.ops)\n",
    "            action = action - n\n",
    "            [label_row, op] = np.unravel_index(action,[v, o])\n",
    "            self.labeling[label_row] = op\n",
    "\n",
    "        y, c = objective_function(self.adjacency_mat, self.labeling)\n",
    "        reward = y\n",
    "        if self.step == self.step_max:\n",
    "            done = 1\n",
    "        else: done = 0\n",
    "\n",
    "        observation = None\n",
    "        info = None\n",
    "        return observation, reward, done, info\n",
    "\n",
    "    def reset(self):\n",
    "        self.adjacency_mat[self.idx_upper] = np.random.randint(0,2,len(self.idx_upper))\n",
    "        self.labeling = np.random.randint(0,3,len(self.labeling))"
   ]
  },
  {
   "cell_type": "code",
   "execution_count": 135,
   "id": "1b4bec0d",
   "metadata": {},
   "outputs": [],
   "source": [
    "# Create the API instance for the topology search space in NATS\n",
    "from nats_bench import create\n",
    "api = create(\"/scratch2/sem22hs2/NATS-tss-v1_0-3ffb9-simple\", 'tss', fast_mode=True, verbose=False)"
   ]
  },
  {
   "cell_type": "code",
   "execution_count": null,
   "id": "45841e36",
   "metadata": {
    "collapsed": true
   },
   "outputs": [],
   "source": [
    "# Show the architecture topology string of the 12-th architecture\n",
    "# For the topology search space, the string is interpreted as\n",
    "# arch = '|{}~0|+|{}~0|{}~1|+|{}~0|{}~1|{}~2|'.format(\n",
    "#         edge_node_0_to_node_1,\n",
    "#         edge_node_0_to_node_2,\n",
    "#         edge_node_1_to_node_2,\n",
    "#         edge_node_0_to_node_3,\n",
    "#         edge_node_1_to_node_3,\n",
    "#         edge_node_2_to_node_3,\n",
    "#         )"
   ]
  },
  {
   "cell_type": "code",
   "execution_count": 136,
   "id": "43324290",
   "metadata": {},
   "outputs": [
    {
     "name": "stdout",
     "output_type": "stream",
     "text": [
      "|none~0|+|none~0|none~1|+|none~0|nor_conv_3x3~1|avg_pool_3x3~2|\n"
     ]
    }
   ],
   "source": [
    "architecture_str = api.arch(12)\n",
    "print(architecture_str)"
   ]
  },
  {
   "cell_type": "code",
   "execution_count": 137,
   "id": "17d05653",
   "metadata": {},
   "outputs": [
    {
     "name": "stdout",
     "output_type": "stream",
     "text": [
      "{'train-loss': 2.302620864105225, 'train-accuracy': 9.866, 'train-per-time': 13.317416548728943, 'train-all-time': 159.80899858474731, 'comment': 'In this dict, train-loss/accuracy/time is the metric on the train+valid sets of CIFAR-10. The test-loss/accuracy/time is the performance of the CIFAR-10 test set after training on the train+valid sets by 12 epochs. The per-time and total-time indicate the per epoch and total time costs, respectively.', 'test-loss': 2.3025942649841307, 'test-accuracy': 10.0, 'test-per-time': 1.0880018813269479, 'test-all-time': 13.056022575923373}\n"
     ]
    }
   ],
   "source": [
    "info = api.get_more_info(architecture_str, 'cifar10')\n",
    "print(info)\n"
   ]
  },
  {
   "cell_type": "code",
   "execution_count": 130,
   "id": "c3c9f6e7",
   "metadata": {},
   "outputs": [],
   "source": [
    "from typing import Optional\n",
    "class NasBench201Tensor(gym.Env):\n",
    "    metadata = {\"render_modes\": [], \"render_fps\": 1}\n",
    "    def __init__(self, step_max=1000, render_mode: Optional[str] = None):\n",
    "        assert render_mode is None # or render_mode in self.metadata[\"render_modes\"]\n",
    "        \n",
    "        # Environment definition\n",
    "        self.vertices = 4\n",
    "        self.ops = ['nor_conv_1x1', 'nor_conv_3x3', 'avg_pool_3x3', 'skip_connect']\n",
    "\n",
    "        # Current state\n",
    "        v = self.vertices\n",
    "        no_ops = len(self.ops)\n",
    "        self.adjacency_tensor = np.zeros([v,v,no_ops])\n",
    "        \n",
    "        # Helper\n",
    "        self.triu_y, self.triu_x = np.triu_indices(v, 1) # Indices of upper triangular matrix\n",
    "        self.num_triu = len(self.triu_y) # Number of upper triangular elements in matrix\n",
    "        num_triu = self.num_triu\n",
    "        self._label_to_op = {\n",
    "            0: 'nor_conv_1x1',\n",
    "            1: 'nor_conv_3x3',\n",
    "            2: 'avg_pool_3x3',\n",
    "            3: 'skip_connect',\n",
    "        }\n",
    "        self.observation_space = spaces.MultiBinary(no_ops * num_triu)\n",
    "        self.action_space = spaces.Discrete(no_ops * num_triu)\n",
    "        \n",
    "        # Len intervals\n",
    "        self.num_step = 0\n",
    "        self.step_max =  step_max\n",
    "        \n",
    "        #if self.render_mode == \"human\":\n",
    "        #    pass\n",
    "        return\n",
    "        \n",
    "    def _tensor2obs(self, tensor):\n",
    "        obs=[]\n",
    "        for i in range(tensor.shape[2]):\n",
    "            obs.extend(tensor[self.triu_x,self.triu_y,i])\n",
    "        return obs\n",
    "    \n",
    "    def _action2tensor(self, action):\n",
    "        no_triu = self.num_triu\n",
    "        tensor_z = int(action/no_triu)\n",
    "        triu_idx = action%no_triu\n",
    "        tensor_x = self.triu_x[triu_idx]\n",
    "        tensor_y = self.triu_y[triu_idx]\n",
    "        \n",
    "        element =  self.observation_space[action]\n",
    "        new_element = not element\n",
    "        if new_element is True:\n",
    "            # Enforce whole row to be zero\n",
    "            self.adjacency_tensor[tensor_y, tensor_x, :] = np.zeros(4, dtype=int)\n",
    "        self.adjacency_tensor[tensor_y, tensor_x, tensor_z] = new_element\n",
    "        return\n",
    "    \n",
    "    def ten2str(self,tensor):\n",
    "        adj_str = \"|\"\n",
    "        for j in range(tensor.shape[1]): #to\n",
    "            for k in range(tensor.shape[0]): #from\n",
    "                if j <= k:\n",
    "                    continue\n",
    "                if k==0 and j != 1:\n",
    "                    adj_str += \"+|\"\n",
    "                    \n",
    "                for i in range(tensor.shape[2]):#op\n",
    "                    if not tensor[:,k,j].any():\n",
    "                        adj_str += \"none~\"+str(k)+\"|\"\n",
    "                        break\n",
    "                    if tensor[i,k,j] == 1:\n",
    "                        adj_str +=_label_to_op[i] +\"~\"+str(k)+ \"|\"\n",
    "        return adj_str\n",
    "    \n",
    "    def nb201_lookup(self,tensor):\n",
    "        arch=self.ten2str(tensor)\n",
    "        acc=api.get_more_info(architecture_str, 'cifar10')\n",
    "        return acc\n",
    "                           \n",
    "                       \n",
    "    def step(self, action):\n",
    "        # Determine new adjacency matrix and observation space\n",
    "        self._action2tensor(action)\n",
    "        self.observation = self._tensor2obs(self.adjacency_tensor)\n",
    "        # Calculate reward\n",
    "        acc = self.nb201_lookup(self.adjacency_tensor)\n",
    "        reward = acc\n",
    "        if self.step == self.step_max:\n",
    "            done = 1\n",
    "        else: done = 0\n",
    "\n",
    "        observation = self.observation\n",
    "        info = None\n",
    "        return observation, reward, done, info\n",
    "\n",
    "    def reset(self):\n",
    "        v = self.vertices\n",
    "        no_ops = len(self.ops)\n",
    "        self.adjacency_tensor = np.zeros([v,v,no_ops])\n",
    "        self.adjacency_tensor[0,3] = 1\n",
    "        self.obervation=self._tensor2obs(self.adjacency_tensor)\n",
    "        self.num_step = 0\n",
    "        return self.obervation\n",
    "        "
   ]
  },
  {
   "cell_type": "code",
   "execution_count": 102,
   "id": "4c8be146",
   "metadata": {
    "pycharm": {
     "name": "#%%\n"
    }
   },
   "outputs": [],
   "source": [
    "import ray\n",
    "from ray.tune.integration.wandb import WandbLoggerCallback"
   ]
  },
  {
   "cell_type": "code",
   "execution_count": 92,
   "id": "97aa4074",
   "metadata": {
    "pycharm": {
     "name": "#%%\n"
    }
   },
   "outputs": [
    {
     "name": "stderr",
     "output_type": "stream",
     "text": [
      "/home/sem22h2/.conda/envs/RL/lib/python3.9/site-packages/tqdm/auto.py:22: TqdmWarning: IProgress not found. Please update jupyter and ipywidgets. See https://ipywidgets.readthedocs.io/en/stable/user_install.html\n",
      "  from .autonotebook import tqdm as notebook_tqdm\n",
      "\u001b[2m\u001b[36m(PPOTrainer pid=14980)\u001b[0m 2022-07-22 08:33:30,537\tINFO ppo.py:414 -- In multi-agent mode, policies will be optimized sequentially by the multi-GPU optimizer. Consider setting simple_optimizer=True if this doesn't work for you.\n",
      "\u001b[2m\u001b[36m(PPOTrainer pid=14980)\u001b[0m 2022-07-22 08:33:30,538\tINFO trainer.py:903 -- Current log_level is WARN. For more information, set 'log_level': 'INFO' / 'DEBUG' or use the -v and -vv flags.\n",
      "\u001b[2m\u001b[36m(RolloutWorker pid=15028)\u001b[0m 2022-07-22 08:33:36,116\tERROR worker.py:451 -- Exception raised in creation task: The actor died because of an error raised in its creation task, \u001b[36mray::RolloutWorker.__init__()\u001b[39m (pid=15028, ip=129.132.4.157, repr=<ray.rllib.evaluation.rollout_worker.RolloutWorker object at 0x7feaccf802e0>)\n",
      "\u001b[2m\u001b[36m(RolloutWorker pid=15028)\u001b[0m   File \"/home/sem22h2/.conda/envs/RL/lib/python3.9/site-packages/ray/rllib/evaluation/rollout_worker.py\", line 506, in __init__\n",
      "\u001b[2m\u001b[36m(RolloutWorker pid=15028)\u001b[0m     self.env = env_creator(copy.deepcopy(self.env_context))\n",
      "\u001b[2m\u001b[36m(RolloutWorker pid=15028)\u001b[0m   File \"/home/sem22h2/.conda/envs/RL/lib/python3.9/site-packages/ray/rllib/agents/trainer.py\", line 2775, in <lambda>\n",
      "\u001b[2m\u001b[36m(RolloutWorker pid=15028)\u001b[0m     register_env(name, lambda cfg: env_object(cfg))\n",
      "\u001b[2m\u001b[36m(RolloutWorker pid=15028)\u001b[0m   File \"/tmp/ipykernel_1775/3287456080.py\", line 18, in __init__\n",
      "\u001b[2m\u001b[36m(RolloutWorker pid=15028)\u001b[0m TypeError: object of type 'numpy.int64' has no len()\n",
      "\u001b[2m\u001b[36m(RolloutWorker pid=15029)\u001b[0m 2022-07-22 08:33:36,105\tERROR worker.py:451 -- Exception raised in creation task: The actor died because of an error raised in its creation task, \u001b[36mray::RolloutWorker.__init__()\u001b[39m (pid=15029, ip=129.132.4.157, repr=<ray.rllib.evaluation.rollout_worker.RolloutWorker object at 0x7ef6c77b52e0>)\n",
      "\u001b[2m\u001b[36m(RolloutWorker pid=15029)\u001b[0m   File \"/home/sem22h2/.conda/envs/RL/lib/python3.9/site-packages/ray/rllib/evaluation/rollout_worker.py\", line 506, in __init__\n",
      "\u001b[2m\u001b[36m(RolloutWorker pid=15029)\u001b[0m     self.env = env_creator(copy.deepcopy(self.env_context))\n",
      "\u001b[2m\u001b[36m(RolloutWorker pid=15029)\u001b[0m   File \"/home/sem22h2/.conda/envs/RL/lib/python3.9/site-packages/ray/rllib/agents/trainer.py\", line 2775, in <lambda>\n",
      "\u001b[2m\u001b[36m(RolloutWorker pid=15029)\u001b[0m     register_env(name, lambda cfg: env_object(cfg))\n",
      "\u001b[2m\u001b[36m(RolloutWorker pid=15029)\u001b[0m   File \"/tmp/ipykernel_1775/3287456080.py\", line 18, in __init__\n",
      "\u001b[2m\u001b[36m(RolloutWorker pid=15029)\u001b[0m TypeError: object of type 'numpy.int64' has no len()\n"
     ]
    },
    {
     "data": {
      "text/html": [
       "== Status ==<br>Current time: 2022-07-22 08:33:36 (running for 00:00:11.64)<br>Memory usage on this node: 12.8/125.6 GiB<br>Using FIFO scheduling algorithm.<br>Resources requested: 9.0/40 CPUs, 2.0/4 GPUs, 0.0/72.89 GiB heap, 0.0/35.23 GiB objects<br>Result logdir: /home/sem22h2/ray_results/PPO<br>Number of trials: 1/1 (1 RUNNING)<br><table>\n",
       "<thead>\n",
       "<tr><th>Trial name                       </th><th>status  </th><th>loc  </th></tr>\n",
       "</thead>\n",
       "<tbody>\n",
       "<tr><td>PPO_NasBench201Tensor_301de_00000</td><td>RUNNING </td><td>     </td></tr>\n",
       "</tbody>\n",
       "</table><br><br>"
      ],
      "text/plain": [
       "<IPython.core.display.HTML object>"
      ]
     },
     "metadata": {},
     "output_type": "display_data"
    },
    {
     "name": "stderr",
     "output_type": "stream",
     "text": [
      "2022-07-22 08:33:36,385\tERROR trial_runner.py:886 -- Trial PPO_NasBench201Tensor_301de_00000: Error processing event.\n",
      "NoneType: None\n"
     ]
    },
    {
     "name": "stdout",
     "output_type": "stream",
     "text": [
      "Result for PPO_NasBench201Tensor_301de_00000:\n",
      "  trial_id: 301de_00000\n",
      "  \n"
     ]
    },
    {
     "name": "stderr",
     "output_type": "stream",
     "text": [
      "\u001b[2m\u001b[36m(PPOTrainer pid=14980)\u001b[0m 2022-07-22 08:33:36,350\tERROR worker.py:451 -- Exception raised in creation task: The actor died because of an error raised in its creation task, \u001b[36mray::PPOTrainer.__init__()\u001b[39m (pid=14980, ip=129.132.4.157, repr=PPOTrainer)\n",
      "\u001b[2m\u001b[36m(PPOTrainer pid=14980)\u001b[0m   File \"/home/sem22h2/.conda/envs/RL/lib/python3.9/site-packages/ray/rllib/agents/trainer.py\", line 1074, in _init\n",
      "\u001b[2m\u001b[36m(PPOTrainer pid=14980)\u001b[0m     raise NotImplementedError\n",
      "\u001b[2m\u001b[36m(PPOTrainer pid=14980)\u001b[0m NotImplementedError\n",
      "\u001b[2m\u001b[36m(PPOTrainer pid=14980)\u001b[0m \n",
      "\u001b[2m\u001b[36m(PPOTrainer pid=14980)\u001b[0m During handling of the above exception, another exception occurred:\n",
      "\u001b[2m\u001b[36m(PPOTrainer pid=14980)\u001b[0m \n",
      "\u001b[2m\u001b[36m(PPOTrainer pid=14980)\u001b[0m \u001b[36mray::PPOTrainer.__init__()\u001b[39m (pid=14980, ip=129.132.4.157, repr=PPOTrainer)\n",
      "\u001b[2m\u001b[36m(PPOTrainer pid=14980)\u001b[0m   File \"/home/sem22h2/.conda/envs/RL/lib/python3.9/site-packages/ray/rllib/agents/trainer.py\", line 870, in __init__\n",
      "\u001b[2m\u001b[36m(PPOTrainer pid=14980)\u001b[0m     super().__init__(\n",
      "\u001b[2m\u001b[36m(PPOTrainer pid=14980)\u001b[0m   File \"/home/sem22h2/.conda/envs/RL/lib/python3.9/site-packages/ray/tune/trainable.py\", line 156, in __init__\n",
      "\u001b[2m\u001b[36m(PPOTrainer pid=14980)\u001b[0m     self.setup(copy.deepcopy(self.config))\n",
      "\u001b[2m\u001b[36m(PPOTrainer pid=14980)\u001b[0m   File \"/home/sem22h2/.conda/envs/RL/lib/python3.9/site-packages/ray/rllib/agents/trainer.py\", line 950, in setup\n",
      "\u001b[2m\u001b[36m(PPOTrainer pid=14980)\u001b[0m     self.workers = WorkerSet(\n",
      "\u001b[2m\u001b[36m(PPOTrainer pid=14980)\u001b[0m   File \"/home/sem22h2/.conda/envs/RL/lib/python3.9/site-packages/ray/rllib/evaluation/worker_set.py\", line 142, in __init__\n",
      "\u001b[2m\u001b[36m(PPOTrainer pid=14980)\u001b[0m     remote_spaces = ray.get(\n",
      "\u001b[2m\u001b[36m(PPOTrainer pid=14980)\u001b[0m ray.exceptions.RayActorError: The actor died because of an error raised in its creation task, \u001b[36mray::RolloutWorker.__init__()\u001b[39m (pid=15026, ip=129.132.4.157, repr=<ray.rllib.evaluation.rollout_worker.RolloutWorker object at 0x7f5579d7b280>)\n",
      "\u001b[2m\u001b[36m(PPOTrainer pid=14980)\u001b[0m   File \"/home/sem22h2/.conda/envs/RL/lib/python3.9/site-packages/ray/rllib/evaluation/rollout_worker.py\", line 506, in __init__\n",
      "\u001b[2m\u001b[36m(PPOTrainer pid=14980)\u001b[0m     self.env = env_creator(copy.deepcopy(self.env_context))\n",
      "\u001b[2m\u001b[36m(PPOTrainer pid=14980)\u001b[0m   File \"/home/sem22h2/.conda/envs/RL/lib/python3.9/site-packages/ray/rllib/agents/trainer.py\", line 2775, in <lambda>\n",
      "\u001b[2m\u001b[36m(PPOTrainer pid=14980)\u001b[0m     register_env(name, lambda cfg: env_object(cfg))\n",
      "\u001b[2m\u001b[36m(PPOTrainer pid=14980)\u001b[0m   File \"/tmp/ipykernel_1775/3287456080.py\", line 18, in __init__\n",
      "\u001b[2m\u001b[36m(PPOTrainer pid=14980)\u001b[0m TypeError: object of type 'numpy.int64' has no len()\n",
      "\u001b[2m\u001b[36m(RolloutWorker pid=15026)\u001b[0m 2022-07-22 08:33:36,322\tERROR worker.py:451 -- Exception raised in creation task: The actor died because of an error raised in its creation task, \u001b[36mray::RolloutWorker.__init__()\u001b[39m (pid=15026, ip=129.132.4.157, repr=<ray.rllib.evaluation.rollout_worker.RolloutWorker object at 0x7f5579d7b280>)\n",
      "\u001b[2m\u001b[36m(RolloutWorker pid=15026)\u001b[0m   File \"/home/sem22h2/.conda/envs/RL/lib/python3.9/site-packages/ray/rllib/evaluation/rollout_worker.py\", line 506, in __init__\n",
      "\u001b[2m\u001b[36m(RolloutWorker pid=15026)\u001b[0m     self.env = env_creator(copy.deepcopy(self.env_context))\n",
      "\u001b[2m\u001b[36m(RolloutWorker pid=15026)\u001b[0m   File \"/home/sem22h2/.conda/envs/RL/lib/python3.9/site-packages/ray/rllib/agents/trainer.py\", line 2775, in <lambda>\n",
      "\u001b[2m\u001b[36m(RolloutWorker pid=15026)\u001b[0m     register_env(name, lambda cfg: env_object(cfg))\n",
      "\u001b[2m\u001b[36m(RolloutWorker pid=15026)\u001b[0m   File \"/tmp/ipykernel_1775/3287456080.py\", line 18, in __init__\n",
      "\u001b[2m\u001b[36m(RolloutWorker pid=15026)\u001b[0m TypeError: object of type 'numpy.int64' has no len()\n",
      "\u001b[2m\u001b[36m(RolloutWorker pid=15027)\u001b[0m 2022-07-22 08:33:36,322\tERROR worker.py:451 -- Exception raised in creation task: The actor died because of an error raised in its creation task, \u001b[36mray::RolloutWorker.__init__()\u001b[39m (pid=15027, ip=129.132.4.157, repr=<ray.rllib.evaluation.rollout_worker.RolloutWorker object at 0x7fc07e0d72e0>)\n",
      "\u001b[2m\u001b[36m(RolloutWorker pid=15027)\u001b[0m   File \"/home/sem22h2/.conda/envs/RL/lib/python3.9/site-packages/ray/rllib/evaluation/rollout_worker.py\", line 506, in __init__\n",
      "\u001b[2m\u001b[36m(RolloutWorker pid=15027)\u001b[0m     self.env = env_creator(copy.deepcopy(self.env_context))\n",
      "\u001b[2m\u001b[36m(RolloutWorker pid=15027)\u001b[0m   File \"/home/sem22h2/.conda/envs/RL/lib/python3.9/site-packages/ray/rllib/agents/trainer.py\", line 2775, in <lambda>\n",
      "\u001b[2m\u001b[36m(RolloutWorker pid=15027)\u001b[0m     register_env(name, lambda cfg: env_object(cfg))\n",
      "\u001b[2m\u001b[36m(RolloutWorker pid=15027)\u001b[0m   File \"/tmp/ipykernel_1775/3287456080.py\", line 18, in __init__\n",
      "\u001b[2m\u001b[36m(RolloutWorker pid=15027)\u001b[0m TypeError: object of type 'numpy.int64' has no len()\n"
     ]
    },
    {
     "data": {
      "text/html": [
       "== Status ==<br>Current time: 2022-07-22 08:33:36 (running for 00:00:11.71)<br>Memory usage on this node: 12.8/125.6 GiB<br>Using FIFO scheduling algorithm.<br>Resources requested: 0/40 CPUs, 0/4 GPUs, 0.0/72.89 GiB heap, 0.0/35.23 GiB objects<br>Result logdir: /home/sem22h2/ray_results/PPO<br>Number of trials: 1/1 (1 ERROR)<br><table>\n",
       "<thead>\n",
       "<tr><th>Trial name                       </th><th>status  </th><th>loc  </th></tr>\n",
       "</thead>\n",
       "<tbody>\n",
       "<tr><td>PPO_NasBench201Tensor_301de_00000</td><td>ERROR   </td><td>     </td></tr>\n",
       "</tbody>\n",
       "</table><br>Number of errored trials: 1<br><table>\n",
       "<thead>\n",
       "<tr><th>Trial name                       </th><th style=\"text-align: right;\">  # failures</th><th>error file                                                                                     </th></tr>\n",
       "</thead>\n",
       "<tbody>\n",
       "<tr><td>PPO_NasBench201Tensor_301de_00000</td><td style=\"text-align: right;\">           1</td><td>/home/sem22h2/ray_results/PPO/PPO_NasBench201Tensor_301de_00000_0_2022-07-22_08-33-24/error.txt</td></tr>\n",
       "</tbody>\n",
       "</table><br>"
      ],
      "text/plain": [
       "<IPython.core.display.HTML object>"
      ]
     },
     "metadata": {},
     "output_type": "display_data"
    },
    {
     "data": {
      "text/html": [
       "== Status ==<br>Current time: 2022-07-22 08:33:36 (running for 00:00:11.74)<br>Memory usage on this node: 12.8/125.6 GiB<br>Using FIFO scheduling algorithm.<br>Resources requested: 0/40 CPUs, 0/4 GPUs, 0.0/72.89 GiB heap, 0.0/35.23 GiB objects<br>Result logdir: /home/sem22h2/ray_results/PPO<br>Number of trials: 1/1 (1 ERROR)<br><table>\n",
       "<thead>\n",
       "<tr><th>Trial name                       </th><th>status  </th><th>loc  </th></tr>\n",
       "</thead>\n",
       "<tbody>\n",
       "<tr><td>PPO_NasBench201Tensor_301de_00000</td><td>ERROR   </td><td>     </td></tr>\n",
       "</tbody>\n",
       "</table><br>Number of errored trials: 1<br><table>\n",
       "<thead>\n",
       "<tr><th>Trial name                       </th><th style=\"text-align: right;\">  # failures</th><th>error file                                                                                     </th></tr>\n",
       "</thead>\n",
       "<tbody>\n",
       "<tr><td>PPO_NasBench201Tensor_301de_00000</td><td style=\"text-align: right;\">           1</td><td>/home/sem22h2/ray_results/PPO/PPO_NasBench201Tensor_301de_00000_0_2022-07-22_08-33-24/error.txt</td></tr>\n",
       "</tbody>\n",
       "</table><br>"
      ],
      "text/plain": [
       "<IPython.core.display.HTML object>"
      ]
     },
     "metadata": {},
     "output_type": "display_data"
    },
    {
     "name": "stderr",
     "output_type": "stream",
     "text": [
      "2022-07-22 08:33:36,460\tERROR ray_trial_executor.py:107 -- An exception occurred when trying to stop the Ray actor:Traceback (most recent call last):\n",
      "  File \"/home/sem22h2/.conda/envs/RL/lib/python3.9/site-packages/ray/tune/ray_trial_executor.py\", line 98, in post_stop_cleanup\n",
      "    ray.get(future, timeout=0)\n",
      "  File \"/home/sem22h2/.conda/envs/RL/lib/python3.9/site-packages/ray/_private/client_mode_hook.py\", line 105, in wrapper\n",
      "    return func(*args, **kwargs)\n",
      "  File \"/home/sem22h2/.conda/envs/RL/lib/python3.9/site-packages/ray/worker.py\", line 1833, in get\n",
      "    raise value\n",
      "ray.exceptions.RayActorError: The actor died because of an error raised in its creation task, \u001b[36mray::PPOTrainer.__init__()\u001b[39m (pid=14980, ip=129.132.4.157, repr=PPOTrainer)\n",
      "  File \"/home/sem22h2/.conda/envs/RL/lib/python3.9/site-packages/ray/rllib/agents/trainer.py\", line 1074, in _init\n",
      "    raise NotImplementedError\n",
      "NotImplementedError\n",
      "\n",
      "During handling of the above exception, another exception occurred:\n",
      "\n",
      "\u001b[36mray::PPOTrainer.__init__()\u001b[39m (pid=14980, ip=129.132.4.157, repr=PPOTrainer)\n",
      "  File \"/home/sem22h2/.conda/envs/RL/lib/python3.9/site-packages/ray/rllib/agents/trainer.py\", line 870, in __init__\n",
      "    super().__init__(\n",
      "  File \"/home/sem22h2/.conda/envs/RL/lib/python3.9/site-packages/ray/tune/trainable.py\", line 156, in __init__\n",
      "    self.setup(copy.deepcopy(self.config))\n",
      "  File \"/home/sem22h2/.conda/envs/RL/lib/python3.9/site-packages/ray/rllib/agents/trainer.py\", line 950, in setup\n",
      "    self.workers = WorkerSet(\n",
      "  File \"/home/sem22h2/.conda/envs/RL/lib/python3.9/site-packages/ray/rllib/evaluation/worker_set.py\", line 142, in __init__\n",
      "    remote_spaces = ray.get(\n",
      "ray.exceptions.RayActorError: The actor died because of an error raised in its creation task, \u001b[36mray::RolloutWorker.__init__()\u001b[39m (pid=15026, ip=129.132.4.157, repr=<ray.rllib.evaluation.rollout_worker.RolloutWorker object at 0x7f5579d7b280>)\n",
      "  File \"/home/sem22h2/.conda/envs/RL/lib/python3.9/site-packages/ray/rllib/evaluation/rollout_worker.py\", line 506, in __init__\n",
      "    self.env = env_creator(copy.deepcopy(self.env_context))\n",
      "  File \"/home/sem22h2/.conda/envs/RL/lib/python3.9/site-packages/ray/rllib/agents/trainer.py\", line 2775, in <lambda>\n",
      "    register_env(name, lambda cfg: env_object(cfg))\n",
      "  File \"/tmp/ipykernel_1775/3287456080.py\", line 18, in __init__\n",
      "TypeError: object of type 'numpy.int64' has no len()\n",
      "\n"
     ]
    },
    {
     "ename": "TuneError",
     "evalue": "('Trials did not complete', [PPO_NasBench201Tensor_301de_00000])",
     "output_type": "error",
     "traceback": [
      "\u001b[0;31m---------------------------------------------------------------------------\u001b[0m",
      "\u001b[0;31mTuneError\u001b[0m                                 Traceback (most recent call last)",
      "Input \u001b[0;32mIn [92]\u001b[0m, in \u001b[0;36m<cell line: 6>\u001b[0;34m()\u001b[0m\n\u001b[1;32m      2\u001b[0m N_ITER \u001b[38;5;241m=\u001b[39m \u001b[38;5;241m20\u001b[39m\n\u001b[1;32m      5\u001b[0m ray\u001b[38;5;241m.\u001b[39minit()\n\u001b[0;32m----> 6\u001b[0m \u001b[43mray\u001b[49m\u001b[38;5;241;43m.\u001b[39;49m\u001b[43mtune\u001b[49m\u001b[38;5;241;43m.\u001b[39;49m\u001b[43mrun\u001b[49m\u001b[43m(\u001b[49m\n\u001b[1;32m      7\u001b[0m \u001b[43m    \u001b[49m\u001b[38;5;124;43m\"\u001b[39;49m\u001b[38;5;124;43mPPO\u001b[39;49m\u001b[38;5;124;43m\"\u001b[39;49m\u001b[43m,\u001b[49m\n\u001b[1;32m      8\u001b[0m \u001b[43m    \u001b[49m\u001b[43mstop\u001b[49m\u001b[38;5;241;43m=\u001b[39;49m\u001b[43m{\u001b[49m\u001b[38;5;124;43m\"\u001b[39;49m\u001b[38;5;124;43mtraining_iteration\u001b[39;49m\u001b[38;5;124;43m\"\u001b[39;49m\u001b[43m:\u001b[49m\u001b[43m \u001b[49m\u001b[38;5;241;43m15\u001b[39;49m\u001b[43m}\u001b[49m\u001b[43m,\u001b[49m\n\u001b[1;32m      9\u001b[0m \u001b[43m    \u001b[49m\u001b[43mconfig\u001b[49m\u001b[38;5;241;43m=\u001b[39;49m\u001b[43m{\u001b[49m\n\u001b[1;32m     10\u001b[0m \u001b[43m        \u001b[49m\u001b[38;5;124;43m\"\u001b[39;49m\u001b[38;5;124;43menv\u001b[39;49m\u001b[38;5;124;43m\"\u001b[39;49m\u001b[43m:\u001b[49m\u001b[43m \u001b[49m\u001b[43mSELECT_ENV\u001b[49m\u001b[43m,\u001b[49m\n\u001b[1;32m     11\u001b[0m \u001b[43m        \u001b[49m\u001b[38;5;124;43m\"\u001b[39;49m\u001b[38;5;124;43mrecord_env\u001b[39;49m\u001b[38;5;124;43m\"\u001b[39;49m\u001b[43m:\u001b[49m\u001b[43m \u001b[49m\u001b[38;5;28;43;01mTrue\u001b[39;49;00m\u001b[43m,\u001b[49m\n\u001b[1;32m     12\u001b[0m \u001b[43m        \u001b[49m\u001b[38;5;124;43m\"\u001b[39;49m\u001b[38;5;124;43mframework\u001b[39;49m\u001b[38;5;124;43m\"\u001b[39;49m\u001b[43m:\u001b[49m\u001b[43m \u001b[49m\u001b[38;5;124;43m\"\u001b[39;49m\u001b[38;5;124;43mtorch\u001b[39;49m\u001b[38;5;124;43m\"\u001b[39;49m\u001b[43m,\u001b[49m\n\u001b[1;32m     13\u001b[0m \u001b[43m        \u001b[49m\u001b[38;5;124;43m\"\u001b[39;49m\u001b[38;5;124;43mnum_cpus_per_worker\u001b[39;49m\u001b[38;5;124;43m\"\u001b[39;49m\u001b[43m:\u001b[49m\u001b[43m \u001b[49m\u001b[38;5;241;43m2\u001b[39;49m\u001b[43m,\u001b[49m\n\u001b[1;32m     14\u001b[0m \u001b[43m        \u001b[49m\u001b[38;5;124;43m\"\u001b[39;49m\u001b[38;5;124;43mnum_gpus\u001b[39;49m\u001b[38;5;124;43m\"\u001b[39;49m\u001b[43m:\u001b[49m\u001b[43m \u001b[49m\u001b[38;5;241;43m2\u001b[39;49m\u001b[43m,\u001b[49m\n\u001b[1;32m     15\u001b[0m \u001b[43m        \u001b[49m\u001b[38;5;124;43m\"\u001b[39;49m\u001b[38;5;124;43mnum_workers\u001b[39;49m\u001b[38;5;124;43m\"\u001b[39;49m\u001b[43m:\u001b[49m\u001b[43m \u001b[49m\u001b[38;5;241;43m4\u001b[39;49m\u001b[43m,\u001b[49m\n\u001b[1;32m     16\u001b[0m \u001b[43m    \u001b[49m\u001b[43m}\u001b[49m\u001b[43m,\u001b[49m\n\u001b[1;32m     17\u001b[0m \u001b[43m    \u001b[49m\u001b[38;5;66;43;03m#local_dir=\"logs\",\u001b[39;49;00m\n\u001b[1;32m     18\u001b[0m \u001b[43m    \u001b[49m\u001b[38;5;66;43;03m#callbacks=[WandbLoggerCallback(api_key=\"c36c598399c6c7f2f0b446aac164da6c7956a263\", project=\"NasBenchV1\")],\u001b[39;49;00m\n\u001b[1;32m     19\u001b[0m \u001b[43m)\u001b[49m\n\u001b[1;32m     22\u001b[0m trainer\u001b[38;5;241m.\u001b[39mevaluate()\n",
      "File \u001b[0;32m~/.conda/envs/RL/lib/python3.9/site-packages/ray/tune/tune.py:741\u001b[0m, in \u001b[0;36mrun\u001b[0;34m(run_or_experiment, name, metric, mode, stop, time_budget_s, config, resources_per_trial, num_samples, local_dir, search_alg, scheduler, keep_checkpoints_num, checkpoint_score_attr, checkpoint_freq, checkpoint_at_end, verbose, progress_reporter, log_to_file, trial_name_creator, trial_dirname_creator, sync_config, export_formats, max_failures, fail_fast, restore, server_port, resume, reuse_actors, trial_executor, raise_on_failed_trial, callbacks, max_concurrent_trials, _experiment_checkpoint_dir, loggers, _remote)\u001b[0m\n\u001b[1;32m    739\u001b[0m \u001b[38;5;28;01mif\u001b[39;00m incomplete_trials:\n\u001b[1;32m    740\u001b[0m     \u001b[38;5;28;01mif\u001b[39;00m raise_on_failed_trial \u001b[38;5;129;01mand\u001b[39;00m \u001b[38;5;129;01mnot\u001b[39;00m state[\u001b[38;5;124m\"\u001b[39m\u001b[38;5;124msignal\u001b[39m\u001b[38;5;124m\"\u001b[39m]:\n\u001b[0;32m--> 741\u001b[0m         \u001b[38;5;28;01mraise\u001b[39;00m TuneError(\u001b[38;5;124m\"\u001b[39m\u001b[38;5;124mTrials did not complete\u001b[39m\u001b[38;5;124m\"\u001b[39m, incomplete_trials)\n\u001b[1;32m    742\u001b[0m     \u001b[38;5;28;01melse\u001b[39;00m:\n\u001b[1;32m    743\u001b[0m         logger\u001b[38;5;241m.\u001b[39merror(\u001b[38;5;124m\"\u001b[39m\u001b[38;5;124mTrials did not complete: \u001b[39m\u001b[38;5;132;01m%s\u001b[39;00m\u001b[38;5;124m\"\u001b[39m, incomplete_trials)\n",
      "\u001b[0;31mTuneError\u001b[0m: ('Trials did not complete', [PPO_NasBench201Tensor_301de_00000])"
     ]
    }
   ],
   "source": [
    "SELECT_ENV = NasBench201Tensor\n",
    "N_ITER = 20\n",
    "\n",
    "\n",
    "ray.init()\n",
    "ray.tune.run(\n",
    "    \"PPO\",\n",
    "    stop={\"training_iteration\": 15},\n",
    "    config={\n",
    "        \"env\": SELECT_ENV,\n",
    "        \"record_env\": True,\n",
    "        \"framework\": \"torch\",\n",
    "        \"num_cpus_per_worker\": 2,\n",
    "        \"num_gpus\": 2,\n",
    "        \"num_workers\": 4,\n",
    "    },\n",
    "    #local_dir=\"logs\",\n",
    "    #callbacks=[WandbLoggerCallback(api_key=\"c36c598399c6c7f2f0b446aac164da6c7956a263\", project=\"NasBenchV1\")],\n",
    ")\n",
    "\n",
    "\n",
    "trainer.evaluate()"
   ]
  },
  {
   "cell_type": "code",
   "execution_count": null,
   "id": "9fc10d56",
   "metadata": {},
   "outputs": [],
   "source": [
    "ray.shutdown()"
   ]
  },
  {
   "cell_type": "code",
   "execution_count": 12,
   "id": "2e9a36c1",
   "metadata": {
    "collapsed": true
   },
   "outputs": [],
   "source": [
    "b = NasBench(v=3)"
   ]
  },
  {
   "cell_type": "code",
   "execution_count": 14,
   "id": "2197ddee",
   "metadata": {},
   "outputs": [
    {
     "data": {
      "text/plain": [
       "(None, 0, 0, None)"
      ]
     },
     "execution_count": 14,
     "metadata": {},
     "output_type": "execute_result"
    }
   ],
   "source": [
    "b.step(1)"
   ]
  },
  {
   "cell_type": "code",
   "execution_count": 16,
   "id": "f52bc268",
   "metadata": {
    "collapsed": true
   },
   "outputs": [],
   "source": [
    "b=[1,2,3]"
   ]
  },
  {
   "cell_type": "code",
   "execution_count": 16,
   "id": "5f48084e",
   "metadata": {
    "collapsed": true
   },
   "outputs": [],
   "source": [
    "import numpy as np\n",
    "y,x =np.triu_indices(4,1)\n",
    "mat=np.arange(16).reshape(4, 4)"
   ]
  },
  {
   "cell_type": "code",
   "execution_count": 20,
   "id": "51afb5b0",
   "metadata": {
    "collapsed": true
   },
   "outputs": [],
   "source": [
    "mat[y[0],x[0]]=90"
   ]
  },
  {
   "cell_type": "code",
   "execution_count": 117,
   "id": "217e9a38",
   "metadata": {},
   "outputs": [
    {
     "data": {
      "text/plain": [
       "0"
      ]
     },
     "execution_count": 117,
     "metadata": {},
     "output_type": "execute_result"
    }
   ],
   "source": [
    "from gym import spaces\n",
    "b=spaces.MultiBinary(3 * 3)\n",
    "b.sample()[0]"
   ]
  },
  {
   "cell_type": "code",
   "execution_count": 115,
   "id": "59900052",
   "metadata": {},
   "outputs": [
    {
     "ename": "TypeError",
     "evalue": "'MultiBinary' object is not subscriptable",
     "output_type": "error",
     "traceback": [
      "\u001b[0;31m---------------------------------------------------------------------------\u001b[0m",
      "\u001b[0;31mTypeError\u001b[0m                                 Traceback (most recent call last)",
      "Input \u001b[0;32mIn [115]\u001b[0m, in \u001b[0;36m<cell line: 1>\u001b[0;34m()\u001b[0m\n\u001b[0;32m----> 1\u001b[0m \u001b[43mb\u001b[49m\u001b[43m[\u001b[49m\u001b[38;5;241;43m0\u001b[39;49m\u001b[43m]\u001b[49m\n",
      "\u001b[0;31mTypeError\u001b[0m: 'MultiBinary' object is not subscriptable"
     ]
    }
   ],
   "source": [
    "b[0]"
   ]
  },
  {
   "cell_type": "code",
   "execution_count": 49,
   "id": "e2e1c6fc",
   "metadata": {},
   "outputs": [
    {
     "name": "stdout",
     "output_type": "stream",
     "text": [
      "[0 1 0]\n",
      "[[[0 1 0]\n",
      "  [0 0 0]\n",
      "  [0 0 0]]\n",
      "\n",
      " [[0 0 0]\n",
      "  [0 0 1]\n",
      "  [0 0 0]]\n",
      "\n",
      " [[0 0 0]\n",
      "  [0 0 0]\n",
      "  [0 0 0]]]\n"
     ]
    }
   ],
   "source": [
    "print(p[:,1,2])\n",
    "print(p)"
   ]
  },
  {
   "cell_type": "code",
   "execution_count": 131,
   "id": "6ebf76d2",
   "metadata": {},
   "outputs": [
    {
     "ename": "TypeError",
     "evalue": "'MultiBinary' object is not subscriptable",
     "output_type": "error",
     "traceback": [
      "\u001b[0;31m---------------------------------------------------------------------------\u001b[0m",
      "\u001b[0;31mTypeError\u001b[0m                                 Traceback (most recent call last)",
      "Input \u001b[0;32mIn [131]\u001b[0m, in \u001b[0;36m<cell line: 3>\u001b[0;34m()\u001b[0m\n\u001b[1;32m      1\u001b[0m a\u001b[38;5;241m=\u001b[39mNasBench201Tensor()\n\u001b[1;32m      2\u001b[0m a\u001b[38;5;241m.\u001b[39mreset()\n\u001b[0;32m----> 3\u001b[0m \u001b[43ma\u001b[49m\u001b[38;5;241;43m.\u001b[39;49m\u001b[43mstep\u001b[49m\u001b[43m(\u001b[49m\u001b[38;5;241;43m3\u001b[39;49m\u001b[43m)\u001b[49m\n",
      "Input \u001b[0;32mIn [130]\u001b[0m, in \u001b[0;36mNasBench201Tensor.step\u001b[0;34m(self, action)\u001b[0m\n\u001b[1;32m     81\u001b[0m \u001b[38;5;28;01mdef\u001b[39;00m \u001b[38;5;21mstep\u001b[39m(\u001b[38;5;28mself\u001b[39m, action):\n\u001b[1;32m     82\u001b[0m     \u001b[38;5;66;03m# Determine new adjacency matrix and observation space\u001b[39;00m\n\u001b[0;32m---> 83\u001b[0m     \u001b[38;5;28;43mself\u001b[39;49m\u001b[38;5;241;43m.\u001b[39;49m\u001b[43m_action2tensor\u001b[49m\u001b[43m(\u001b[49m\u001b[43maction\u001b[49m\u001b[43m)\u001b[49m\n\u001b[1;32m     84\u001b[0m     \u001b[38;5;28mself\u001b[39m\u001b[38;5;241m.\u001b[39mobservation \u001b[38;5;241m=\u001b[39m \u001b[38;5;28mself\u001b[39m\u001b[38;5;241m.\u001b[39m_tensor2obs(\u001b[38;5;28mself\u001b[39m\u001b[38;5;241m.\u001b[39madjacency_tensor)\n\u001b[1;32m     85\u001b[0m     \u001b[38;5;66;03m# Calculate reward\u001b[39;00m\n",
      "Input \u001b[0;32mIn [130]\u001b[0m, in \u001b[0;36mNasBench201Tensor._action2tensor\u001b[0;34m(self, action)\u001b[0m\n\u001b[1;32m     47\u001b[0m tensor_x \u001b[38;5;241m=\u001b[39m \u001b[38;5;28mself\u001b[39m\u001b[38;5;241m.\u001b[39mtriu_x[triu_idx]\n\u001b[1;32m     48\u001b[0m tensor_y \u001b[38;5;241m=\u001b[39m \u001b[38;5;28mself\u001b[39m\u001b[38;5;241m.\u001b[39mtriu_y[triu_idx]\n\u001b[0;32m---> 50\u001b[0m element \u001b[38;5;241m=\u001b[39m  \u001b[38;5;28;43mself\u001b[39;49m\u001b[38;5;241;43m.\u001b[39;49m\u001b[43mobservation_space\u001b[49m\u001b[43m[\u001b[49m\u001b[43maction\u001b[49m\u001b[43m]\u001b[49m\n\u001b[1;32m     51\u001b[0m new_element \u001b[38;5;241m=\u001b[39m \u001b[38;5;129;01mnot\u001b[39;00m element\n\u001b[1;32m     52\u001b[0m \u001b[38;5;28;01mif\u001b[39;00m new_element \u001b[38;5;129;01mis\u001b[39;00m \u001b[38;5;28;01mTrue\u001b[39;00m:\n\u001b[1;32m     53\u001b[0m     \u001b[38;5;66;03m# Enforce whole row to be zero\u001b[39;00m\n",
      "\u001b[0;31mTypeError\u001b[0m: 'MultiBinary' object is not subscriptable"
     ]
    }
   ],
   "source": [
    "a=NasBench201Tensor()\n",
    "a.reset()\n",
    "a.step(3)"
   ]
  },
  {
   "cell_type": "code",
   "execution_count": null,
   "id": "95e84727",
   "metadata": {},
   "outputs": [],
   "source": []
  }
 ],
 "metadata": {
  "kernelspec": {
   "display_name": "Python 3 (ipykernel)",
   "language": "python",
   "name": "python3"
  },
  "language_info": {
   "codemirror_mode": {
    "name": "ipython",
    "version": 3
   },
   "file_extension": ".py",
   "mimetype": "text/x-python",
   "name": "python",
   "nbconvert_exporter": "python",
   "pygments_lexer": "ipython3",
   "version": "3.9.12"
  }
 },
 "nbformat": 4,
 "nbformat_minor": 5
}
