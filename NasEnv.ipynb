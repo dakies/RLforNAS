{
 "cells": [
  {
   "cell_type": "code",
   "execution_count": 1,
   "id": "661d31ff",
   "metadata": {},
   "outputs": [],
   "source": [
    "import gym\n",
    "import numpy as np"
   ]
  },
  {
   "cell_type": "markdown",
   "id": "966bb803",
   "metadata": {},
   "source": [
    "## NasBench101"
   ]
  },
  {
   "cell_type": "code",
   "execution_count": 2,
   "id": "ed26a6e0",
   "metadata": {
    "pycharm": {
     "is_executing": true
    }
   },
   "outputs": [
    {
     "name": "stdout",
     "output_type": "stream",
     "text": [
      "Loading dataset from file... This may take a few minutes...\n",
      "WARNING:tensorflow:From /home/sem22h2/Documents/nasbench/nasbench/api.py:146: tf_record_iterator (from tensorflow.python.lib.io.tf_record) is deprecated and will be removed in a future version.\n",
      "Instructions for updating:\n",
      "Use eager execution and: \n",
      "`tf.data.TFRecordDataset(path)`\n"
     ]
    },
    {
     "ename": "KeyboardInterrupt",
     "evalue": "",
     "output_type": "error",
     "traceback": [
      "\u001b[0;31m---------------------------------------------------------------------------\u001b[0m",
      "\u001b[0;31mKeyboardInterrupt\u001b[0m                         Traceback (most recent call last)",
      "Input \u001b[0;32mIn [2]\u001b[0m, in \u001b[0;36m<cell line: 1>\u001b[0;34m()\u001b[0m\n\u001b[0;32m----> 1\u001b[0m dataset \u001b[38;5;241m=\u001b[39m \u001b[43mapi\u001b[49m\u001b[38;5;241;43m.\u001b[39;49m\u001b[43mNASBench\u001b[49m\u001b[43m(\u001b[49m\u001b[38;5;124;43m\"\u001b[39;49m\u001b[38;5;124;43m/scratch2/sem22hs2/nasbench_full.tfrecord\u001b[39;49m\u001b[38;5;124;43m\"\u001b[39;49m\u001b[43m)\u001b[49m\n",
      "File \u001b[0;32m~/Documents/nasbench/nasbench/api.py:146\u001b[0m, in \u001b[0;36mNASBench.__init__\u001b[0;34m(self, dataset_file, seed)\u001b[0m\n\u001b[1;32m    142\u001b[0m \u001b[38;5;66;03m# Valid queriable epoch lengths. {4, 12, 36, 108} for the full dataset or\u001b[39;00m\n\u001b[1;32m    143\u001b[0m \u001b[38;5;66;03m# {108} for the smaller dataset with only the 108 epochs.\u001b[39;00m\n\u001b[1;32m    144\u001b[0m \u001b[38;5;28mself\u001b[39m\u001b[38;5;241m.\u001b[39mvalid_epochs \u001b[38;5;241m=\u001b[39m \u001b[38;5;28mset\u001b[39m()\n\u001b[0;32m--> 146\u001b[0m \u001b[38;5;28;01mfor\u001b[39;00m serialized_row \u001b[38;5;129;01min\u001b[39;00m tf\u001b[38;5;241m.\u001b[39mcompat\u001b[38;5;241m.\u001b[39mv1\u001b[38;5;241m.\u001b[39mio\u001b[38;5;241m.\u001b[39mtf_record_iterator(dataset_file):\n\u001b[1;32m    147\u001b[0m   \u001b[38;5;66;03m# Parse the data from the data file.\u001b[39;00m\n\u001b[1;32m    148\u001b[0m   module_hash, epochs, raw_adjacency, raw_operations, raw_metrics \u001b[38;5;241m=\u001b[39m (\n\u001b[1;32m    149\u001b[0m       json\u001b[38;5;241m.\u001b[39mloads(serialized_row\u001b[38;5;241m.\u001b[39mdecode(\u001b[38;5;124m'\u001b[39m\u001b[38;5;124mutf-8\u001b[39m\u001b[38;5;124m'\u001b[39m)))\n\u001b[1;32m    151\u001b[0m   dim \u001b[38;5;241m=\u001b[39m \u001b[38;5;28mint\u001b[39m(np\u001b[38;5;241m.\u001b[39msqrt(\u001b[38;5;28mlen\u001b[39m(raw_adjacency)))\n",
      "\u001b[0;31mKeyboardInterrupt\u001b[0m: "
     ]
    }
   ],
   "source": [
    "from nasbench import api\n",
    "dataset = api.NASBench(\"/scratch2/sem22hs2/nasbench_full.tfrecord\")"
   ]
  },
  {
   "cell_type": "code",
   "execution_count": 5,
   "id": "9b2533f4",
   "metadata": {
    "collapsed": true
   },
   "outputs": [],
   "source": [
    "def objective_function(adjacency_mat,labeling, budget=108):\n",
    "    labeling = ['input'] + list(labeling) + ['output']\n",
    "    model_spec = api.ModelSpec(adjacency_mat, labeling)\n",
    "    try:\n",
    "        data = dataset.query(model_spec, epochs=budget)\n",
    "    except api.OutOfDomainError:\n",
    "        # self.record_invalid(adjacency_mat, labeling, 1, 1, 0)\n",
    "        return 0, 0\n",
    "\n",
    "    # self.record_valid(adjacency_mat, labeling, data, model_spec)\n",
    "    return data[\"validation_accuracy\"], data[\"training_time\"]"
   ]
  },
  {
   "cell_type": "code",
   "execution_count": 6,
   "id": "0950bd08",
   "metadata": {
    "collapsed": true
   },
   "outputs": [],
   "source": [
    "# Todo: sample architecture\n",
    "# Todo: Check architecture validity. Neg reward if not.\n",
    "\n",
    "class NasBench101(gym.Env):\n",
    "    metadata = {\"render_modes\": [], \"render_fps\": 1}\n",
    "    def __init__(self, v=7, e=9, ops=['conv1x1-bn-relu', 'conv3x3-bn-relu', 'maxpool3x3'], step_max=1000, \n",
    "                 render_mode: Optional[str] = None):\n",
    "        assert render_mode is None # or render_mode in self.metadata[\"render_modes\"]\n",
    "        # Environment definition\n",
    "        self.max_edges = e\n",
    "        self.vertices = v\n",
    "        self.ops = ops\n",
    "\n",
    "        # Current state\n",
    "        self.adjacency_mat = np.zeros([v,v])\n",
    "        self.labeling = (v-2)*[ops[0]] # Initialize op for all layers that are not input or output layer\n",
    "        \n",
    "        # Helper\n",
    "        self.idx_upper = np.triu_indices(v) # Indices of upper triangular matrix\n",
    "\n",
    "        self.num_step = 0\n",
    "        self.step_max =  step_max\n",
    "        num_indecies_triu = len(self.idx_upper[0])\n",
    "        self.observation_space = spaces.Dict(\n",
    "            {\n",
    "                \"adjacency_mat\": spaces.MultiBinary(num_indecies_triu),\n",
    "                \"labels\": spaces.MultiDiscrete(np.array((v-2)*[len(ops)])),\n",
    "            }\n",
    "        )\n",
    "\n",
    "        \n",
    "    def step(self, action):\n",
    "        e=self.max_edges\n",
    "        v=self.vertices\n",
    "        n = (v*(v+1)/2) # Number of indices in upper triag. part of matrix\n",
    "        if action < n:\n",
    "            # Todo: Check this changes matrix at right place\n",
    "            iu = self.idx_upper\n",
    "            self.adjacency_mat[iu[0][action],iu[1][action]] = not self.adjacency_mat[iu[0][action],iu[1][action]]\n",
    "        else:\n",
    "            o=len(self.ops)\n",
    "            action = action - n\n",
    "            [label_row, op] = np.unravel_index(action,[v, o])\n",
    "            self.labeling[label_row] = op\n",
    "\n",
    "        y, c = objective_function(self.adjacency_mat, self.labeling)\n",
    "        reward = y\n",
    "        if self.step == self.step_max:\n",
    "            done = 1\n",
    "        else: done = 0\n",
    "\n",
    "        observation = None\n",
    "        info = None\n",
    "        return observation, reward, done, info\n",
    "\n",
    "    def reset(self):\n",
    "        self.adjacency_mat[self.idx_upper] = np.random.randint(0,2,len(self.idx_upper))\n",
    "        self.labeling = np.random.randint(0,3,len(self.labeling))"
   ]
  },
  {
   "cell_type": "markdown",
   "id": "6737c2e9",
   "metadata": {},
   "source": [
    "## NATS Bench (same topology space as NasBench 201)"
   ]
  },
  {
   "cell_type": "code",
   "execution_count": 1,
   "id": "5591f673",
   "metadata": {},
   "outputs": [],
   "source": [
    "import gym\n",
    "import os\n",
    "import sys\n",
    "import ray\n",
    "from ray.tune.integration.wandb import WandbLoggerCallback\n",
    "module_path = os.path.abspath(os.path.join('nas-bench-envs'))\n",
    "if module_path not in sys.path:\n",
    "    sys.path.append(module_path)\n",
    "    os.environ['PYTHONPATH'] = module_path"
   ]
  },
  {
   "cell_type": "code",
   "execution_count": 2,
   "id": "258fdb3e",
   "metadata": {},
   "outputs": [],
   "source": [
    "from nas_bench_envs.envs.nas_bench_201_envs import NasBench201\n",
    "from ray.tune.registry import register_env\n",
    "\n",
    "select_env = \"nas_bench_envs/NasBench201-v0\"\n",
    "register_env(select_env, lambda config: NasBench201(config))"
   ]
  },
  {
   "cell_type": "code",
   "execution_count": 3,
   "id": "45841e36",
   "metadata": {},
   "outputs": [],
   "source": [
    "# Show the architecture topology string of the 12-th architecture\n",
    "# For the topology search space, the string is interpreted as\n",
    "# arch = '|{}~0|+|{}~0|{}~1|+|{}~0|{}~1|{}~2|'.format(\n",
    "#         edge_node_0_to_node_1,\n",
    "#         edge_node_0_to_node_2,\n",
    "#         edge_node_1_to_node_2,\n",
    "#         edge_node_0_to_node_3,\n",
    "#         edge_node_1_to_node_3,\n",
    "#         edge_node_2_to_node_3,\n",
    "#         )"
   ]
  },
  {
   "cell_type": "code",
   "execution_count": 4,
   "id": "17d05653",
   "metadata": {},
   "outputs": [
    {
     "name": "stdout",
     "output_type": "stream",
     "text": [
      "|none~0|+|none~0|none~1|+|none~0|nor_conv_3x3~1|avg_pool_3x3~2|\n",
      "\n",
      "{'train-loss': 2.302620864105225, 'train-accuracy': 9.866, 'train-per-time': 13.317416548728943, 'train-all-time': 159.80899858474731, 'comment': 'In this dict, train-loss/accuracy/time is the metric on the train+valid sets of CIFAR-10. The test-loss/accuracy/time is the performance of the CIFAR-10 test set after training on the train+valid sets by 12 epochs. The per-time and total-time indicate the per epoch and total time costs, respectively.', 'test-loss': 2.3025942649841307, 'test-accuracy': 10.0, 'test-per-time': 1.0880018813269479, 'test-all-time': 13.056022575923373}\n"
     ]
    }
   ],
   "source": [
    "from nats_bench import create\n",
    "# Create the API instance for the topology search space in NATS\n",
    "api = create(\"/scratch2/sem22hs2/NATS-tss-v1_0-3ffb9-simple\", 'tss', fast_mode=True, verbose=False)\n",
    "architecture_str = api.arch(12)\n",
    "print(architecture_str)\n",
    "print()\n",
    "info = api.get_more_info(architecture_str, 'cifar10')\n",
    "print(info)"
   ]
  },
  {
   "cell_type": "code",
   "execution_count": 14,
   "id": "97aa4074",
   "metadata": {
    "pycharm": {
     "name": "#%%\n"
    }
   },
   "outputs": [
    {
     "name": "stderr",
     "output_type": "stream",
     "text": [
      "2022-07-28 15:37:19,167\tINFO packaging.py:388 -- Creating a file package for local directory './'.\n",
      "2022-07-28 15:37:19,760\tINFO packaging.py:241 -- Pushing file package 'gcs://_ray_pkg_f6f72a63941ab217.zip' (9.29MiB) to Ray cluster...\n",
      "2022-07-28 15:37:19,962\tINFO packaging.py:243 -- Successfully pushed file package 'gcs://_ray_pkg_f6f72a63941ab217.zip'.\n",
      "2022-07-28 15:37:21,345\tINFO trial_runner.py:803 -- starting PPO_NasBench201Env_6757b_00000\n",
      "\u001b[2m\u001b[36m(PPOTrainer pid=16583)\u001b[0m 2022-07-28 15:37:26,858\tINFO ppo.py:268 -- In multi-agent mode, policies will be optimized sequentially by the multi-GPU optimizer. Consider setting simple_optimizer=True if this doesn't work for you.\n",
      "\u001b[2m\u001b[36m(PPOTrainer pid=16583)\u001b[0m 2022-07-28 15:37:26,858\tINFO trainer.py:864 -- Current log_level is WARN. For more information, set 'log_level': 'INFO' / 'DEBUG' or use the -v and -vv flags.\n"
     ]
    },
    {
     "name": "stdout",
     "output_type": "stream",
     "text": [
      "\u001b[2m\u001b[36m(RolloutWorker pid=16643)\u001b[0m Setting the path for recording to /home/sem22h2/ray_results/PPO/PPO_NasBench201Env_6757b_00000_0_2022-07-28_15-37-21/\n"
     ]
    },
    {
     "name": "stderr",
     "output_type": "stream",
     "text": [
      "\u001b[2m\u001b[36m(RolloutWorker pid=16643)\u001b[0m 2022-07-28 15:37:32,547\tWARNING rollout_worker.py:498 -- We've added a module for checking environments that are used in experiments. It will cause your environment to fail if your environment is not set upcorrectly. You can disable check env by setting `disable_env_checking` to True in your experiment config dictionary. You can run the environment checking module standalone by calling ray.rllib.utils.check_env(env).\n",
      "\u001b[2m\u001b[36m(RolloutWorker pid=16643)\u001b[0m 2022-07-28 15:37:32,548\tWARNING env.py:120 -- Your env doesn't have a .spec.max_episode_steps attribute. This is fine if you have set 'horizon' in your config dictionary, or `soft_horizon`. However, if you haven't, 'horizon' will default to infinity, and your environment will not be reset.\n",
      "\u001b[2m\u001b[36m(RolloutWorker pid=16643)\u001b[0m /home/sem22h2/.conda/envs/RL/lib/python3.9/site-packages/gym/wrappers/monitor.py:86: UserWarning: \u001b[33mWARN: Trying to monitor an environment which has no 'spec' set. This usually means you did not create it via 'gym.make', and is recommended only for advanced users.\u001b[0m\n",
      "\u001b[2m\u001b[36m(RolloutWorker pid=16643)\u001b[0m   logger.warn(\n"
     ]
    },
    {
     "data": {
      "text/html": [
       "== Status ==<br>Current time: 2022-07-28 15:37:32 (running for 00:00:12.61)<br>Memory usage on this node: 7.5/125.6 GiB<br>Using FIFO scheduling algorithm.<br>Resources requested: 9.0/40 CPUs, 0/4 GPUs, 0.0/75.24 GiB heap, 0.0/36.24 GiB objects<br>Result logdir: /home/sem22h2/ray_results/PPO<br>Number of trials: 1/1 (1 RUNNING)<br><table>\n",
       "<thead>\n",
       "<tr><th>Trial name                    </th><th>status  </th><th>loc                </th></tr>\n",
       "</thead>\n",
       "<tbody>\n",
       "<tr><td>PPO_NasBench201Env_6757b_00000</td><td>RUNNING </td><td>129.132.4.157:16583</td></tr>\n",
       "</tbody>\n",
       "</table><br><br>"
      ],
      "text/plain": [
       "<IPython.core.display.HTML object>"
      ]
     },
     "metadata": {},
     "output_type": "display_data"
    },
    {
     "name": "stdout",
     "output_type": "stream",
     "text": [
      "\u001b[2m\u001b[36m(RolloutWorker pid=16642)\u001b[0m Setting the path for recording to /home/sem22h2/ray_results/PPO/PPO_NasBench201Env_6757b_00000_0_2022-07-28_15-37-21/\n"
     ]
    },
    {
     "name": "stderr",
     "output_type": "stream",
     "text": [
      "\u001b[2m\u001b[36m(PPOTrainer pid=16583)\u001b[0m 2022-07-28 15:37:32,736\tWARNING util.py:60 -- Install gputil for GPU system monitoring.\n",
      "\u001b[2m\u001b[36m(RolloutWorker pid=16642)\u001b[0m 2022-07-28 15:37:32,658\tWARNING rollout_worker.py:498 -- We've added a module for checking environments that are used in experiments. It will cause your environment to fail if your environment is not set upcorrectly. You can disable check env by setting `disable_env_checking` to True in your experiment config dictionary. You can run the environment checking module standalone by calling ray.rllib.utils.check_env(env).\n",
      "\u001b[2m\u001b[36m(RolloutWorker pid=16642)\u001b[0m 2022-07-28 15:37:32,658\tWARNING env.py:120 -- Your env doesn't have a .spec.max_episode_steps attribute. This is fine if you have set 'horizon' in your config dictionary, or `soft_horizon`. However, if you haven't, 'horizon' will default to infinity, and your environment will not be reset.\n",
      "\u001b[2m\u001b[36m(RolloutWorker pid=16642)\u001b[0m /home/sem22h2/.conda/envs/RL/lib/python3.9/site-packages/gym/wrappers/monitor.py:86: UserWarning: \u001b[33mWARN: Trying to monitor an environment which has no 'spec' set. This usually means you did not create it via 'gym.make', and is recommended only for advanced users.\u001b[0m\n",
      "\u001b[2m\u001b[36m(RolloutWorker pid=16642)\u001b[0m   logger.warn(\n",
      "\u001b[2m\u001b[36m(RolloutWorker pid=16645)\u001b[0m 2022-07-28 15:37:32,770\tWARNING rollout_worker.py:498 -- We've added a module for checking environments that are used in experiments. It will cause your environment to fail if your environment is not set upcorrectly. You can disable check env by setting `disable_env_checking` to True in your experiment config dictionary. You can run the environment checking module standalone by calling ray.rllib.utils.check_env(env).\n",
      "\u001b[2m\u001b[36m(RolloutWorker pid=16645)\u001b[0m 2022-07-28 15:37:32,770\tWARNING env.py:120 -- Your env doesn't have a .spec.max_episode_steps attribute. This is fine if you have set 'horizon' in your config dictionary, or `soft_horizon`. However, if you haven't, 'horizon' will default to infinity, and your environment will not be reset.\n",
      "\u001b[2m\u001b[36m(RolloutWorker pid=16645)\u001b[0m /home/sem22h2/.conda/envs/RL/lib/python3.9/site-packages/gym/wrappers/monitor.py:86: UserWarning: \u001b[33mWARN: Trying to monitor an environment which has no 'spec' set. This usually means you did not create it via 'gym.make', and is recommended only for advanced users.\u001b[0m\n",
      "\u001b[2m\u001b[36m(RolloutWorker pid=16645)\u001b[0m   logger.warn(\n",
      "\u001b[2m\u001b[36m(RolloutWorker pid=16644)\u001b[0m 2022-07-28 15:37:32,772\tWARNING rollout_worker.py:498 -- We've added a module for checking environments that are used in experiments. It will cause your environment to fail if your environment is not set upcorrectly. You can disable check env by setting `disable_env_checking` to True in your experiment config dictionary. You can run the environment checking module standalone by calling ray.rllib.utils.check_env(env).\n",
      "\u001b[2m\u001b[36m(RolloutWorker pid=16644)\u001b[0m 2022-07-28 15:37:32,772\tWARNING env.py:120 -- Your env doesn't have a .spec.max_episode_steps attribute. This is fine if you have set 'horizon' in your config dictionary, or `soft_horizon`. However, if you haven't, 'horizon' will default to infinity, and your environment will not be reset.\n",
      "\u001b[2m\u001b[36m(RolloutWorker pid=16644)\u001b[0m /home/sem22h2/.conda/envs/RL/lib/python3.9/site-packages/gym/wrappers/monitor.py:86: UserWarning: \u001b[33mWARN: Trying to monitor an environment which has no 'spec' set. This usually means you did not create it via 'gym.make', and is recommended only for advanced users.\u001b[0m\n",
      "\u001b[2m\u001b[36m(RolloutWorker pid=16644)\u001b[0m   logger.warn(\n"
     ]
    },
    {
     "name": "stdout",
     "output_type": "stream",
     "text": [
      "\u001b[2m\u001b[36m(RolloutWorker pid=16645)\u001b[0m Setting the path for recording to /home/sem22h2/ray_results/PPO/PPO_NasBench201Env_6757b_00000_0_2022-07-28_15-37-21/\n",
      "\u001b[2m\u001b[36m(RolloutWorker pid=16644)\u001b[0m Setting the path for recording to /home/sem22h2/ray_results/PPO/PPO_NasBench201Env_6757b_00000_0_2022-07-28_15-37-21/\n"
     ]
    },
    {
     "name": "stderr",
     "output_type": "stream",
     "text": [
      "\u001b[2m\u001b[36m(PPOTrainer pid=16583)\u001b[0m 2022-07-28 15:37:33,269\tWARNING trainer.py:1083 -- Worker crashed during call to `step_attempt()`. To try to continue training without the failed worker, set `ignore_worker_failures=True`.\n",
      "2022-07-28 15:37:33,278\tERROR trial_runner.py:876 -- Trial PPO_NasBench201Env_6757b_00000: Error processing event.\n",
      "NoneType: None\n"
     ]
    },
    {
     "name": "stdout",
     "output_type": "stream",
     "text": [
      "Result for PPO_NasBench201Env_6757b_00000:\n",
      "  date: 2022-07-28_15-37-32\n",
      "  experiment_id: 5e65395c3ce14a6284df16b04d9fdd29\n",
      "  hostname: sassauna4.ee.ethz.ch\n",
      "  node_ip: 129.132.4.157\n",
      "  pid: 16583\n",
      "  timestamp: 1659015452\n",
      "  trial_id: 6757b_00000\n",
      "  \n"
     ]
    },
    {
     "data": {
      "text/html": [
       "== Status ==<br>Current time: 2022-07-28 15:37:33 (running for 00:00:13.17)<br>Memory usage on this node: 7.5/125.6 GiB<br>Using FIFO scheduling algorithm.<br>Resources requested: 0/40 CPUs, 0/4 GPUs, 0.0/75.24 GiB heap, 0.0/36.24 GiB objects<br>Result logdir: /home/sem22h2/ray_results/PPO<br>Number of trials: 1/1 (1 ERROR)<br><table>\n",
       "<thead>\n",
       "<tr><th>Trial name                    </th><th>status  </th><th>loc                </th></tr>\n",
       "</thead>\n",
       "<tbody>\n",
       "<tr><td>PPO_NasBench201Env_6757b_00000</td><td>ERROR   </td><td>129.132.4.157:16583</td></tr>\n",
       "</tbody>\n",
       "</table><br>Number of errored trials: 1<br><table>\n",
       "<thead>\n",
       "<tr><th>Trial name                    </th><th style=\"text-align: right;\">  # failures</th><th>error file                                                                                  </th></tr>\n",
       "</thead>\n",
       "<tbody>\n",
       "<tr><td>PPO_NasBench201Env_6757b_00000</td><td style=\"text-align: right;\">           1</td><td>/home/sem22h2/ray_results/PPO/PPO_NasBench201Env_6757b_00000_0_2022-07-28_15-37-21/error.txt</td></tr>\n",
       "</tbody>\n",
       "</table><br>"
      ],
      "text/plain": [
       "<IPython.core.display.HTML object>"
      ]
     },
     "metadata": {},
     "output_type": "display_data"
    },
    {
     "data": {
      "text/html": [
       "== Status ==<br>Current time: 2022-07-28 15:37:33 (running for 00:00:13.19)<br>Memory usage on this node: 7.5/125.6 GiB<br>Using FIFO scheduling algorithm.<br>Resources requested: 0/40 CPUs, 0/4 GPUs, 0.0/75.24 GiB heap, 0.0/36.24 GiB objects<br>Result logdir: /home/sem22h2/ray_results/PPO<br>Number of trials: 1/1 (1 ERROR)<br><table>\n",
       "<thead>\n",
       "<tr><th>Trial name                    </th><th>status  </th><th>loc                </th></tr>\n",
       "</thead>\n",
       "<tbody>\n",
       "<tr><td>PPO_NasBench201Env_6757b_00000</td><td>ERROR   </td><td>129.132.4.157:16583</td></tr>\n",
       "</tbody>\n",
       "</table><br>Number of errored trials: 1<br><table>\n",
       "<thead>\n",
       "<tr><th>Trial name                    </th><th style=\"text-align: right;\">  # failures</th><th>error file                                                                                  </th></tr>\n",
       "</thead>\n",
       "<tbody>\n",
       "<tr><td>PPO_NasBench201Env_6757b_00000</td><td style=\"text-align: right;\">           1</td><td>/home/sem22h2/ray_results/PPO/PPO_NasBench201Env_6757b_00000_0_2022-07-28_15-37-21/error.txt</td></tr>\n",
       "</tbody>\n",
       "</table><br>"
      ],
      "text/plain": [
       "<IPython.core.display.HTML object>"
      ]
     },
     "metadata": {},
     "output_type": "display_data"
    },
    {
     "name": "stderr",
     "output_type": "stream",
     "text": [
      "\u001b[2m\u001b[36m(PPOTrainer pid=16583)\u001b[0m 2022-07-28 15:37:33,703\tERROR worker.py:92 -- Unhandled error (suppress with 'RAY_IGNORE_UNHANDLED_ERRORS=1'): \u001b[36mray::RolloutWorker.par_iter_next()\u001b[39m (pid=16645, ip=129.132.4.157, repr=<ray.rllib.evaluation.rollout_worker.RolloutWorker object at 0x7f59282dbc70>)\n",
      "\u001b[2m\u001b[36m(PPOTrainer pid=16583)\u001b[0m   File \"/home/sem22h2/.conda/envs/RL/lib/python3.9/site-packages/ray/util/iter.py\", line 1186, in par_iter_next\n",
      "\u001b[2m\u001b[36m(PPOTrainer pid=16583)\u001b[0m     return next(self.local_it)\n",
      "\u001b[2m\u001b[36m(PPOTrainer pid=16583)\u001b[0m   File \"/home/sem22h2/.conda/envs/RL/lib/python3.9/site-packages/ray/rllib/evaluation/rollout_worker.py\", line 404, in gen_rollouts\n",
      "\u001b[2m\u001b[36m(PPOTrainer pid=16583)\u001b[0m     yield self.sample()\n",
      "\u001b[2m\u001b[36m(PPOTrainer pid=16583)\u001b[0m   File \"/home/sem22h2/.conda/envs/RL/lib/python3.9/site-packages/ray/rllib/evaluation/rollout_worker.py\", line 815, in sample\n",
      "\u001b[2m\u001b[36m(PPOTrainer pid=16583)\u001b[0m     batches = [self.input_reader.next()]\n",
      "\u001b[2m\u001b[36m(PPOTrainer pid=16583)\u001b[0m   File \"/home/sem22h2/.conda/envs/RL/lib/python3.9/site-packages/ray/rllib/evaluation/sampler.py\", line 116, in next\n",
      "\u001b[2m\u001b[36m(PPOTrainer pid=16583)\u001b[0m     batches = [self.get_data()]\n",
      "\u001b[2m\u001b[36m(PPOTrainer pid=16583)\u001b[0m   File \"/home/sem22h2/.conda/envs/RL/lib/python3.9/site-packages/ray/rllib/evaluation/sampler.py\", line 289, in get_data\n",
      "\u001b[2m\u001b[36m(PPOTrainer pid=16583)\u001b[0m     item = next(self._env_runner)\n",
      "\u001b[2m\u001b[36m(PPOTrainer pid=16583)\u001b[0m   File \"/home/sem22h2/.conda/envs/RL/lib/python3.9/site-packages/ray/rllib/evaluation/sampler.py\", line 729, in _env_runner\n",
      "\u001b[2m\u001b[36m(PPOTrainer pid=16583)\u001b[0m     base_env.send_actions(actions_to_send)\n",
      "\u001b[2m\u001b[36m(PPOTrainer pid=16583)\u001b[0m   File \"/home/sem22h2/.conda/envs/RL/lib/python3.9/site-packages/ray/rllib/env/vector_env.py\", line 320, in send_actions\n",
      "\u001b[2m\u001b[36m(PPOTrainer pid=16583)\u001b[0m     ) = self.vector_env.vector_step(action_vector)\n",
      "\u001b[2m\u001b[36m(PPOTrainer pid=16583)\u001b[0m   File \"/home/sem22h2/.conda/envs/RL/lib/python3.9/site-packages/ray/rllib/env/vector_env.py\", line 239, in vector_step\n",
      "\u001b[2m\u001b[36m(PPOTrainer pid=16583)\u001b[0m     obs, r, done, info = self.envs[i].step(actions[i])\n",
      "\u001b[2m\u001b[36m(PPOTrainer pid=16583)\u001b[0m   File \"/home/sem22h2/.conda/envs/RL/lib/python3.9/site-packages/gym/wrappers/monitor.py\", line 48, in step\n",
      "\u001b[2m\u001b[36m(PPOTrainer pid=16583)\u001b[0m     observation, reward, done, info = self.env.step(action)\n",
      "\u001b[2m\u001b[36m(PPOTrainer pid=16583)\u001b[0m   File \"/home/sem22h2/Documents/ExploringRL/nas-bench-envs/nas_bench_envs/envs/nas_bench_201_envs.py\", line 99, in step\n",
      "\u001b[2m\u001b[36m(PPOTrainer pid=16583)\u001b[0m     info = self._nb201_lookup(self.adjacency_tensor)\n",
      "\u001b[2m\u001b[36m(PPOTrainer pid=16583)\u001b[0m   File \"/home/sem22h2/Documents/ExploringRL/nas-bench-envs/nas_bench_envs/envs/nas_bench_201_envs.py\", line 91, in _nb201_lookup\n",
      "\u001b[2m\u001b[36m(PPOTrainer pid=16583)\u001b[0m     info = api.get_more_info(arch_str, 'cifar10')\n",
      "\u001b[2m\u001b[36m(PPOTrainer pid=16583)\u001b[0m   File \"/home/sem22h2/.conda/envs/RL/lib/python3.9/site-packages/nats_bench/api_topology.py\", line 262, in get_more_info\n",
      "\u001b[2m\u001b[36m(PPOTrainer pid=16583)\u001b[0m     self._prepare_info(index)\n",
      "\u001b[2m\u001b[36m(PPOTrainer pid=16583)\u001b[0m   File \"/home/sem22h2/.conda/envs/RL/lib/python3.9/site-packages/nats_bench/api_utils.py\", line 395, in _prepare_info\n",
      "\u001b[2m\u001b[36m(PPOTrainer pid=16583)\u001b[0m     self.reload(self.archive_dir, index)\n",
      "\u001b[2m\u001b[36m(PPOTrainer pid=16583)\u001b[0m   File \"/home/sem22h2/.conda/envs/RL/lib/python3.9/site-packages/nats_bench/api_utils.py\", line 317, in reload\n",
      "\u001b[2m\u001b[36m(PPOTrainer pid=16583)\u001b[0m     raise ValueError(\"invalid index of {:}\".format(idx))\n",
      "\u001b[2m\u001b[36m(PPOTrainer pid=16583)\u001b[0m ValueError: invalid index of -1\n",
      "\u001b[2m\u001b[36m(PPOTrainer pid=16583)\u001b[0m 2022-07-28 15:37:33,723\tERROR worker.py:92 -- Unhandled error (suppress with 'RAY_IGNORE_UNHANDLED_ERRORS=1'): \u001b[36mray::RolloutWorker.par_iter_next()\u001b[39m (pid=16642, ip=129.132.4.157, repr=<ray.rllib.evaluation.rollout_worker.RolloutWorker object at 0x7f4f8f5d1c70>)\n",
      "\u001b[2m\u001b[36m(PPOTrainer pid=16583)\u001b[0m   File \"/home/sem22h2/.conda/envs/RL/lib/python3.9/site-packages/ray/util/iter.py\", line 1186, in par_iter_next\n",
      "\u001b[2m\u001b[36m(PPOTrainer pid=16583)\u001b[0m     return next(self.local_it)\n",
      "\u001b[2m\u001b[36m(PPOTrainer pid=16583)\u001b[0m   File \"/home/sem22h2/.conda/envs/RL/lib/python3.9/site-packages/ray/rllib/evaluation/rollout_worker.py\", line 404, in gen_rollouts\n",
      "\u001b[2m\u001b[36m(PPOTrainer pid=16583)\u001b[0m     yield self.sample()\n",
      "\u001b[2m\u001b[36m(PPOTrainer pid=16583)\u001b[0m   File \"/home/sem22h2/.conda/envs/RL/lib/python3.9/site-packages/ray/rllib/evaluation/rollout_worker.py\", line 815, in sample\n",
      "\u001b[2m\u001b[36m(PPOTrainer pid=16583)\u001b[0m     batches = [self.input_reader.next()]\n",
      "\u001b[2m\u001b[36m(PPOTrainer pid=16583)\u001b[0m   File \"/home/sem22h2/.conda/envs/RL/lib/python3.9/site-packages/ray/rllib/evaluation/sampler.py\", line 116, in next\n",
      "\u001b[2m\u001b[36m(PPOTrainer pid=16583)\u001b[0m     batches = [self.get_data()]\n",
      "\u001b[2m\u001b[36m(PPOTrainer pid=16583)\u001b[0m   File \"/home/sem22h2/.conda/envs/RL/lib/python3.9/site-packages/ray/rllib/evaluation/sampler.py\", line 289, in get_data\n",
      "\u001b[2m\u001b[36m(PPOTrainer pid=16583)\u001b[0m     item = next(self._env_runner)\n",
      "\u001b[2m\u001b[36m(PPOTrainer pid=16583)\u001b[0m   File \"/home/sem22h2/.conda/envs/RL/lib/python3.9/site-packages/ray/rllib/evaluation/sampler.py\", line 729, in _env_runner\n",
      "\u001b[2m\u001b[36m(PPOTrainer pid=16583)\u001b[0m     base_env.send_actions(actions_to_send)\n",
      "\u001b[2m\u001b[36m(PPOTrainer pid=16583)\u001b[0m   File \"/home/sem22h2/.conda/envs/RL/lib/python3.9/site-packages/ray/rllib/env/vector_env.py\", line 320, in send_actions\n",
      "\u001b[2m\u001b[36m(PPOTrainer pid=16583)\u001b[0m     ) = self.vector_env.vector_step(action_vector)\n",
      "\u001b[2m\u001b[36m(PPOTrainer pid=16583)\u001b[0m   File \"/home/sem22h2/.conda/envs/RL/lib/python3.9/site-packages/ray/rllib/env/vector_env.py\", line 239, in vector_step\n",
      "\u001b[2m\u001b[36m(PPOTrainer pid=16583)\u001b[0m     obs, r, done, info = self.envs[i].step(actions[i])\n",
      "\u001b[2m\u001b[36m(PPOTrainer pid=16583)\u001b[0m   File \"/home/sem22h2/.conda/envs/RL/lib/python3.9/site-packages/gym/wrappers/monitor.py\", line 48, in step\n",
      "\u001b[2m\u001b[36m(PPOTrainer pid=16583)\u001b[0m     observation, reward, done, info = self.env.step(action)\n",
      "\u001b[2m\u001b[36m(PPOTrainer pid=16583)\u001b[0m   File \"/home/sem22h2/Documents/ExploringRL/nas-bench-envs/nas_bench_envs/envs/nas_bench_201_envs.py\", line 99, in step\n",
      "\u001b[2m\u001b[36m(PPOTrainer pid=16583)\u001b[0m     info = self._nb201_lookup(self.adjacency_tensor)\n",
      "\u001b[2m\u001b[36m(PPOTrainer pid=16583)\u001b[0m   File \"/home/sem22h2/Documents/ExploringRL/nas-bench-envs/nas_bench_envs/envs/nas_bench_201_envs.py\", line 91, in _nb201_lookup\n",
      "\u001b[2m\u001b[36m(PPOTrainer pid=16583)\u001b[0m     info = api.get_more_info(arch_str, 'cifar10')\n",
      "\u001b[2m\u001b[36m(PPOTrainer pid=16583)\u001b[0m   File \"/home/sem22h2/.conda/envs/RL/lib/python3.9/site-packages/nats_bench/api_topology.py\", line 262, in get_more_info\n",
      "\u001b[2m\u001b[36m(PPOTrainer pid=16583)\u001b[0m     self._prepare_info(index)\n",
      "\u001b[2m\u001b[36m(PPOTrainer pid=16583)\u001b[0m   File \"/home/sem22h2/.conda/envs/RL/lib/python3.9/site-packages/nats_bench/api_utils.py\", line 395, in _prepare_info\n",
      "\u001b[2m\u001b[36m(PPOTrainer pid=16583)\u001b[0m     self.reload(self.archive_dir, index)\n",
      "\u001b[2m\u001b[36m(PPOTrainer pid=16583)\u001b[0m   File \"/home/sem22h2/.conda/envs/RL/lib/python3.9/site-packages/nats_bench/api_utils.py\", line 317, in reload\n",
      "\u001b[2m\u001b[36m(PPOTrainer pid=16583)\u001b[0m     raise ValueError(\"invalid index of {:}\".format(idx))\n",
      "\u001b[2m\u001b[36m(PPOTrainer pid=16583)\u001b[0m ValueError: invalid index of -1\n",
      "\u001b[2m\u001b[36m(PPOTrainer pid=16583)\u001b[0m 2022-07-28 15:37:34,436\tERROR worker.py:92 -- Unhandled error (suppress with 'RAY_IGNORE_UNHANDLED_ERRORS=1'): \u001b[36mray::RolloutWorker.par_iter_next()\u001b[39m (pid=16643, ip=129.132.4.157, repr=<ray.rllib.evaluation.rollout_worker.RolloutWorker object at 0x7f2ffe14ec70>)\n",
      "\u001b[2m\u001b[36m(PPOTrainer pid=16583)\u001b[0m   File \"/home/sem22h2/.conda/envs/RL/lib/python3.9/site-packages/ray/util/iter.py\", line 1186, in par_iter_next\n",
      "\u001b[2m\u001b[36m(PPOTrainer pid=16583)\u001b[0m     return next(self.local_it)\n",
      "\u001b[2m\u001b[36m(PPOTrainer pid=16583)\u001b[0m   File \"/home/sem22h2/.conda/envs/RL/lib/python3.9/site-packages/ray/rllib/evaluation/rollout_worker.py\", line 404, in gen_rollouts\n",
      "\u001b[2m\u001b[36m(PPOTrainer pid=16583)\u001b[0m     yield self.sample()\n",
      "\u001b[2m\u001b[36m(PPOTrainer pid=16583)\u001b[0m   File \"/home/sem22h2/.conda/envs/RL/lib/python3.9/site-packages/ray/rllib/evaluation/rollout_worker.py\", line 815, in sample\n",
      "\u001b[2m\u001b[36m(PPOTrainer pid=16583)\u001b[0m     batches = [self.input_reader.next()]\n",
      "\u001b[2m\u001b[36m(PPOTrainer pid=16583)\u001b[0m   File \"/home/sem22h2/.conda/envs/RL/lib/python3.9/site-packages/ray/rllib/evaluation/sampler.py\", line 116, in next\n",
      "\u001b[2m\u001b[36m(PPOTrainer pid=16583)\u001b[0m     batches = [self.get_data()]\n",
      "\u001b[2m\u001b[36m(PPOTrainer pid=16583)\u001b[0m   File \"/home/sem22h2/.conda/envs/RL/lib/python3.9/site-packages/ray/rllib/evaluation/sampler.py\", line 289, in get_data\n",
      "\u001b[2m\u001b[36m(PPOTrainer pid=16583)\u001b[0m     item = next(self._env_runner)\n",
      "\u001b[2m\u001b[36m(PPOTrainer pid=16583)\u001b[0m   File \"/home/sem22h2/.conda/envs/RL/lib/python3.9/site-packages/ray/rllib/evaluation/sampler.py\", line 729, in _env_runner\n",
      "\u001b[2m\u001b[36m(PPOTrainer pid=16583)\u001b[0m     base_env.send_actions(actions_to_send)\n",
      "\u001b[2m\u001b[36m(PPOTrainer pid=16583)\u001b[0m   File \"/home/sem22h2/.conda/envs/RL/lib/python3.9/site-packages/ray/rllib/env/vector_env.py\", line 320, in send_actions\n",
      "\u001b[2m\u001b[36m(PPOTrainer pid=16583)\u001b[0m     ) = self.vector_env.vector_step(action_vector)\n",
      "\u001b[2m\u001b[36m(PPOTrainer pid=16583)\u001b[0m   File \"/home/sem22h2/.conda/envs/RL/lib/python3.9/site-packages/ray/rllib/env/vector_env.py\", line 239, in vector_step\n",
      "\u001b[2m\u001b[36m(PPOTrainer pid=16583)\u001b[0m     obs, r, done, info = self.envs[i].step(actions[i])\n",
      "\u001b[2m\u001b[36m(PPOTrainer pid=16583)\u001b[0m   File \"/home/sem22h2/.conda/envs/RL/lib/python3.9/site-packages/gym/wrappers/monitor.py\", line 48, in step\n",
      "\u001b[2m\u001b[36m(PPOTrainer pid=16583)\u001b[0m     observation, reward, done, info = self.env.step(action)\n",
      "\u001b[2m\u001b[36m(PPOTrainer pid=16583)\u001b[0m   File \"/home/sem22h2/Documents/ExploringRL/nas-bench-envs/nas_bench_envs/envs/nas_bench_201_envs.py\", line 99, in step\n",
      "\u001b[2m\u001b[36m(PPOTrainer pid=16583)\u001b[0m     info = self._nb201_lookup(self.adjacency_tensor)\n",
      "\u001b[2m\u001b[36m(PPOTrainer pid=16583)\u001b[0m   File \"/home/sem22h2/Documents/ExploringRL/nas-bench-envs/nas_bench_envs/envs/nas_bench_201_envs.py\", line 91, in _nb201_lookup\n",
      "\u001b[2m\u001b[36m(PPOTrainer pid=16583)\u001b[0m     info = api.get_more_info(arch_str, 'cifar10')\n",
      "\u001b[2m\u001b[36m(PPOTrainer pid=16583)\u001b[0m   File \"/home/sem22h2/.conda/envs/RL/lib/python3.9/site-packages/nats_bench/api_topology.py\", line 262, in get_more_info\n",
      "\u001b[2m\u001b[36m(PPOTrainer pid=16583)\u001b[0m     self._prepare_info(index)\n",
      "\u001b[2m\u001b[36m(PPOTrainer pid=16583)\u001b[0m   File \"/home/sem22h2/.conda/envs/RL/lib/python3.9/site-packages/nats_bench/api_utils.py\", line 395, in _prepare_info\n",
      "\u001b[2m\u001b[36m(PPOTrainer pid=16583)\u001b[0m     self.reload(self.archive_dir, index)\n",
      "\u001b[2m\u001b[36m(PPOTrainer pid=16583)\u001b[0m   File \"/home/sem22h2/.conda/envs/RL/lib/python3.9/site-packages/nats_bench/api_utils.py\", line 317, in reload\n",
      "\u001b[2m\u001b[36m(PPOTrainer pid=16583)\u001b[0m     raise ValueError(\"invalid index of {:}\".format(idx))\n",
      "\u001b[2m\u001b[36m(PPOTrainer pid=16583)\u001b[0m ValueError: invalid index of -1\n"
     ]
    },
    {
     "ename": "TuneError",
     "evalue": "('Trials did not complete', [PPO_NasBench201Env_6757b_00000])",
     "output_type": "error",
     "traceback": [
      "\u001b[0;31m---------------------------------------------------------------------------\u001b[0m",
      "\u001b[0;31mTuneError\u001b[0m                                 Traceback (most recent call last)",
      "Input \u001b[0;32mIn [14]\u001b[0m, in \u001b[0;36m<cell line: 4>\u001b[0;34m()\u001b[0m\n\u001b[1;32m      1\u001b[0m N_ITER \u001b[38;5;241m=\u001b[39m \u001b[38;5;241m20\u001b[39m\n\u001b[1;32m      3\u001b[0m ray\u001b[38;5;241m.\u001b[39minit(runtime_env\u001b[38;5;241m=\u001b[39m{\u001b[38;5;124m\"\u001b[39m\u001b[38;5;124mworking_dir\u001b[39m\u001b[38;5;124m\"\u001b[39m: \u001b[38;5;124m\"\u001b[39m\u001b[38;5;124m./\u001b[39m\u001b[38;5;124m\"\u001b[39m})\n\u001b[0;32m----> 4\u001b[0m \u001b[43mray\u001b[49m\u001b[38;5;241;43m.\u001b[39;49m\u001b[43mtune\u001b[49m\u001b[38;5;241;43m.\u001b[39;49m\u001b[43mrun\u001b[49m\u001b[43m(\u001b[49m\n\u001b[1;32m      5\u001b[0m \u001b[43m    \u001b[49m\u001b[38;5;124;43m\"\u001b[39;49m\u001b[38;5;124;43mPPO\u001b[39;49m\u001b[38;5;124;43m\"\u001b[39;49m\u001b[43m,\u001b[49m\n\u001b[1;32m      6\u001b[0m \u001b[43m    \u001b[49m\u001b[43mstop\u001b[49m\u001b[38;5;241;43m=\u001b[39;49m\u001b[43m{\u001b[49m\u001b[38;5;124;43m\"\u001b[39;49m\u001b[38;5;124;43mtraining_iteration\u001b[39;49m\u001b[38;5;124;43m\"\u001b[39;49m\u001b[43m:\u001b[49m\u001b[43m \u001b[49m\u001b[38;5;241;43m15\u001b[39;49m\u001b[43m}\u001b[49m\u001b[43m,\u001b[49m\n\u001b[1;32m      7\u001b[0m \u001b[43m    \u001b[49m\u001b[43mconfig\u001b[49m\u001b[38;5;241;43m=\u001b[39;49m\u001b[43m{\u001b[49m\n\u001b[1;32m      8\u001b[0m \u001b[43m        \u001b[49m\u001b[38;5;124;43m\"\u001b[39;49m\u001b[38;5;124;43menv\u001b[39;49m\u001b[38;5;124;43m\"\u001b[39;49m\u001b[43m:\u001b[49m\u001b[43m \u001b[49m\u001b[43mNasBench201Env\u001b[49m\u001b[43m,\u001b[49m\n\u001b[1;32m      9\u001b[0m \u001b[43m        \u001b[49m\u001b[38;5;124;43m\"\u001b[39;49m\u001b[38;5;124;43mrecord_env\u001b[39;49m\u001b[38;5;124;43m\"\u001b[39;49m\u001b[43m:\u001b[49m\u001b[43m \u001b[49m\u001b[38;5;28;43;01mTrue\u001b[39;49;00m\u001b[43m,\u001b[49m\n\u001b[1;32m     10\u001b[0m \u001b[43m        \u001b[49m\u001b[38;5;124;43m\"\u001b[39;49m\u001b[38;5;124;43mframework\u001b[39;49m\u001b[38;5;124;43m\"\u001b[39;49m\u001b[43m:\u001b[49m\u001b[43m \u001b[49m\u001b[38;5;124;43m\"\u001b[39;49m\u001b[38;5;124;43mtorch\u001b[39;49m\u001b[38;5;124;43m\"\u001b[39;49m\u001b[43m,\u001b[49m\n\u001b[1;32m     11\u001b[0m \u001b[43m        \u001b[49m\u001b[38;5;124;43m\"\u001b[39;49m\u001b[38;5;124;43mnum_cpus_per_worker\u001b[39;49m\u001b[38;5;124;43m\"\u001b[39;49m\u001b[43m:\u001b[49m\u001b[43m \u001b[49m\u001b[38;5;241;43m2\u001b[39;49m\u001b[43m,\u001b[49m\n\u001b[1;32m     12\u001b[0m \u001b[43m        \u001b[49m\u001b[38;5;124;43m\"\u001b[39;49m\u001b[38;5;124;43mnum_gpus\u001b[39;49m\u001b[38;5;124;43m\"\u001b[39;49m\u001b[43m:\u001b[49m\u001b[43m \u001b[49m\u001b[38;5;241;43m0\u001b[39;49m\u001b[43m,\u001b[49m\n\u001b[1;32m     13\u001b[0m \u001b[43m        \u001b[49m\u001b[38;5;124;43m\"\u001b[39;49m\u001b[38;5;124;43mnum_workers\u001b[39;49m\u001b[38;5;124;43m\"\u001b[39;49m\u001b[43m:\u001b[49m\u001b[43m \u001b[49m\u001b[38;5;241;43m4\u001b[39;49m\n\u001b[1;32m     14\u001b[0m \u001b[43m    \u001b[49m\u001b[43m}\u001b[49m\u001b[43m,\u001b[49m\n\u001b[1;32m     15\u001b[0m \u001b[43m    \u001b[49m\n\u001b[1;32m     16\u001b[0m \u001b[43m    \u001b[49m\u001b[38;5;66;43;03m#local_dir=\"logs\",\u001b[39;49;00m\n\u001b[1;32m     17\u001b[0m \u001b[43m    \u001b[49m\u001b[38;5;66;43;03m#callbacks=[WandbLoggerCallback(api_key=\"c36c598399c6c7f2f0b446aac164da6c7956a263\", project=\"NasBenchV1\")],\u001b[39;49;00m\n\u001b[1;32m     18\u001b[0m \u001b[43m)\u001b[49m\n",
      "File \u001b[0;32m~/.conda/envs/RL/lib/python3.9/site-packages/ray/tune/tune.py:695\u001b[0m, in \u001b[0;36mrun\u001b[0;34m(run_or_experiment, name, metric, mode, stop, time_budget_s, config, resources_per_trial, num_samples, local_dir, search_alg, scheduler, keep_checkpoints_num, checkpoint_score_attr, checkpoint_freq, checkpoint_at_end, verbose, progress_reporter, log_to_file, trial_name_creator, trial_dirname_creator, sync_config, export_formats, max_failures, fail_fast, restore, server_port, resume, reuse_actors, trial_executor, raise_on_failed_trial, callbacks, max_concurrent_trials, _experiment_checkpoint_dir, queue_trials, loggers, _remote)\u001b[0m\n\u001b[1;32m    693\u001b[0m \u001b[38;5;28;01mif\u001b[39;00m incomplete_trials:\n\u001b[1;32m    694\u001b[0m     \u001b[38;5;28;01mif\u001b[39;00m raise_on_failed_trial \u001b[38;5;129;01mand\u001b[39;00m \u001b[38;5;129;01mnot\u001b[39;00m state[signal\u001b[38;5;241m.\u001b[39mSIGINT]:\n\u001b[0;32m--> 695\u001b[0m         \u001b[38;5;28;01mraise\u001b[39;00m TuneError(\u001b[38;5;124m\"\u001b[39m\u001b[38;5;124mTrials did not complete\u001b[39m\u001b[38;5;124m\"\u001b[39m, incomplete_trials)\n\u001b[1;32m    696\u001b[0m     \u001b[38;5;28;01melse\u001b[39;00m:\n\u001b[1;32m    697\u001b[0m         logger\u001b[38;5;241m.\u001b[39merror(\u001b[38;5;124m\"\u001b[39m\u001b[38;5;124mTrials did not complete: \u001b[39m\u001b[38;5;132;01m%s\u001b[39;00m\u001b[38;5;124m\"\u001b[39m, incomplete_trials)\n",
      "\u001b[0;31mTuneError\u001b[0m: ('Trials did not complete', [PPO_NasBench201Env_6757b_00000])"
     ]
    }
   ],
   "source": [
    "N_ITER = 20\n",
    "\n",
    "ray.init(runtime_env={\"working_dir\": \"./\"})\n",
    "ray.tune.run(\n",
    "    \"PPO\",\n",
    "    stop={\"training_iteration\": 15},\n",
    "    config={\n",
    "        \"env\": NasBench201,\n",
    "        \"record_env\": True,\n",
    "        \"framework\": \"torch\",\n",
    "        \"num_cpus_per_worker\": 2,\n",
    "        \"num_gpus\": 0,\n",
    "        \"num_workers\": 4\n",
    "    },\n",
    "    \n",
    "    #local_dir=\"logs\",\n",
    "    #callbacks=[WandbLoggerCallback(api_key=\"c36c598399c6c7f2f0b446aac164da6c7956a263\", project=\"NasBenchV1\")],\n",
    ")"
   ]
  },
  {
   "cell_type": "code",
   "execution_count": 13,
   "id": "dc7040dd",
   "metadata": {},
   "outputs": [],
   "source": [
    "ray.shutdown()"
   ]
  },
  {
   "cell_type": "code",
   "execution_count": 2,
   "id": "a8fff3bc",
   "metadata": {},
   "outputs": [],
   "source": []
  },
  {
   "cell_type": "code",
   "execution_count": 3,
   "id": "0e3eb470",
   "metadata": {},
   "outputs": [
    {
     "data": {
      "text/plain": [
       "<TimeLimit<NasBench201<nas_bench_envs/NasBench201-v0>>>"
      ]
     },
     "execution_count": 3,
     "metadata": {},
     "output_type": "execute_result"
    }
   ],
   "source": []
  },
  {
   "cell_type": "markdown",
   "id": "55c3d570",
   "metadata": {},
   "source": [
    "Ray Gym Environment checker"
   ]
  },
  {
   "cell_type": "code",
   "execution_count": 21,
   "id": "d17aef19",
   "metadata": {},
   "outputs": [
    {
     "name": "stderr",
     "output_type": "stream",
     "text": [
      "2022-07-28 15:12:42,615\tWARNING env.py:120 -- Your env doesn't have a .spec.max_episode_steps attribute. This is fine if you have set 'horizon' in your config dictionary, or `soft_horizon`. However, if you haven't, 'horizon' will default to infinity, and your environment will not be reset.\n"
     ]
    }
   ],
   "source": [
    "ray.rllib.utils.check_env(NasBench201())"
   ]
  }
 ],
 "metadata": {
  "kernelspec": {
   "display_name": "Python 3 (ipykernel)",
   "language": "python",
   "name": "python3"
  },
  "language_info": {
   "codemirror_mode": {
    "name": "ipython",
    "version": 3
   },
   "file_extension": ".py",
   "mimetype": "text/x-python",
   "name": "python",
   "nbconvert_exporter": "python",
   "pygments_lexer": "ipython3",
   "version": "3.9.12"
  }
 },
 "nbformat": 4,
 "nbformat_minor": 5
}
