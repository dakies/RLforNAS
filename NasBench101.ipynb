{
 "cells": [
  {
   "cell_type": "code",
   "execution_count": null,
   "id": "cec1b423-e9a2-47db-b471-dec7d5c36478",
   "metadata": {
    "tags": [],
    "pycharm": {
     "name": "#%%\n"
    }
   },
   "outputs": [],
   "source": [
    "import gym\n",
    "import numpy as np"
   ]
  },
  {
   "cell_type": "markdown",
   "id": "0fadba4f-2378-4d05-b009-ee9f1e961f1c",
   "metadata": {
    "pycharm": {
     "name": "#%% md\n"
    }
   },
   "source": [
    "## NasBench101"
   ]
  },
  {
   "cell_type": "code",
   "execution_count": null,
   "id": "c13e808e-374c-4deb-b63d-90393570e040",
   "metadata": {
    "pycharm": {
     "is_executing": true,
     "name": "#%%\n"
    }
   },
   "outputs": [],
   "source": [
    "from nasbench import api\n",
    "dataset = api.NASBench(\"/scratch2/sem22hs2/nasbench_full.tfrecord\")"
   ]
  },
  {
   "cell_type": "code",
   "execution_count": null,
   "id": "803b8fd1-71e3-4fa6-8e1d-2f7715c15129",
   "metadata": {
    "tags": [],
    "pycharm": {
     "name": "#%%\n"
    }
   },
   "outputs": [],
   "source": [
    "def objective_function(adjacency_mat,labeling, budget=108):\n",
    "    labeling = ['input'] + list(labeling) + ['output']\n",
    "    model_spec = api.ModelSpec(adjacency_mat, labeling)\n",
    "    try:\n",
    "        data = dataset.query(model_spec, epochs=budget)\n",
    "    except api.OutOfDomainError:\n",
    "        # self.record_invalid(adjacency_mat, labeling, 1, 1, 0)\n",
    "        return 0, 0\n",
    "\n",
    "    # self.record_valid(adjacency_mat, labeling, data, model_spec)\n",
    "    return data[\"validation_accuracy\"], data[\"training_time\"]"
   ]
  },
  {
   "cell_type": "code",
   "execution_count": null,
   "id": "9c559075-bf4f-472f-972f-f83bcbd6feef",
   "metadata": {
    "tags": [],
    "pycharm": {
     "name": "#%%\n"
    }
   },
   "outputs": [],
   "source": [
    "# Todo: sample architecture\n",
    "# Todo: Check architecture validity. Neg reward if not.\n",
    "\n",
    "class NasBench101(gym.Env):\n",
    "    metadata = {\"render_modes\": [], \"render_fps\": 1}\n",
    "    def __init__(self, v=7, e=9, ops=['conv1x1-bn-relu', 'conv3x3-bn-relu', 'maxpool3x3'], step_max=1000, \n",
    "                 render_mode: Optional[str] = None):\n",
    "        assert render_mode is None # or render_mode in self.metadata[\"render_modes\"]\n",
    "        # Environment definition\n",
    "        self.max_edges = e\n",
    "        self.vertices = v\n",
    "        self.ops = ops\n",
    "\n",
    "        # Current state\n",
    "        self.adjacency_mat = np.zeros([v,v])\n",
    "        self.labeling = (v-2)*[ops[0]] # Initialize op for all layers that are not input or output layer\n",
    "        \n",
    "        # Helper\n",
    "        self.idx_upper = np.triu_indices(v) # Indices of upper triangular matrix\n",
    "\n",
    "        self.num_step = 0\n",
    "        self.step_max =  step_max\n",
    "        num_indecies_triu = len(self.idx_upper[0])\n",
    "        self.observation_space = spaces.Dict(\n",
    "            {\n",
    "                \"adjacency_mat\": spaces.MultiBinary(num_indecies_triu),\n",
    "                \"labels\": spaces.MultiDiscrete(np.array((v-2)*[len(ops)])),\n",
    "            }\n",
    "        )\n",
    "\n",
    "        \n",
    "    def step(self, action):\n",
    "        e=self.max_edges\n",
    "        v=self.vertices\n",
    "        n = (v*(v+1)/2) # Number of indices in upper triag. part of matrix\n",
    "        if action < n:\n",
    "            # Todo: Check this changes matrix at right place\n",
    "            iu = self.idx_upper\n",
    "            self.adjacency_mat[iu[0][action],iu[1][action]] = not self.adjacency_mat[iu[0][action],iu[1][action]]\n",
    "        else:\n",
    "            o=len(self.ops)\n",
    "            action = action - n\n",
    "            [label_row, op] = np.unravel_index(action,[v, o])\n",
    "            self.labeling[label_row] = op\n",
    "\n",
    "        y, c = objective_function(self.adjacency_mat, self.labeling)\n",
    "        reward = y\n",
    "        if self.step == self.step_max:\n",
    "            done = 1\n",
    "        else: done = 0\n",
    "\n",
    "        observation = None\n",
    "        info = None\n",
    "        return observation, reward, done, info\n",
    "\n",
    "    def reset(self):\n",
    "        self.adjacency_mat[self.idx_upper] = np.random.randint(0,2,len(self.idx_upper))\n",
    "        self.labeling = np.random.randint(0,3,len(self.labeling))"
   ]
  }
 ],
 "metadata": {
  "kernelspec": {
   "display_name": "RL",
   "language": "python",
   "name": "rl"
  },
  "language_info": {
   "codemirror_mode": {
    "name": "ipython",
    "version": 3
   },
   "file_extension": ".py",
   "mimetype": "text/x-python",
   "name": "python",
   "nbconvert_exporter": "python",
   "pygments_lexer": "ipython3",
   "version": "3.10.4"
  }
 },
 "nbformat": 4,
 "nbformat_minor": 5
}