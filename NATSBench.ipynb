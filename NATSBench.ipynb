{
 "cells": [
  {
   "cell_type": "markdown",
   "id": "623b94a1",
   "metadata": {},
   "source": [
    "# NATS Bench (same topology space as NasBench 201)"
   ]
  },
  {
   "cell_type": "code",
   "execution_count": null,
   "outputs": [],
   "source": [
    "import os\n",
    "import sys\n",
    "\n",
    "import gym\n",
    "import ray\n",
    "from ray import tune\n",
    "#from ray.rllib.agents.ppo import ppo \n",
    "from ray.rllib.algorithms.ppo import PPO, PPOConfig\n",
    "from ray.rllib.algorithms.callbacks import MultiCallbacks\n",
    "from ray.tune.registry import register_env\n",
    "\n",
    "from ray.air.callbacks.wandb import WandbLoggerCallback\n",
    "\n",
    "module_path = os.path.abspath(os.path.join('nas-bench-envs'))\n",
    "if module_path not in sys.path:\n",
    "    sys.path.append(module_path)\n",
    "    os.environ['PYTHONPATH'] = module_path\n",
    "from nas_bench_envs.envs.nas_bench_201_envs import NasBench201, NasBench201Clusters\n",
    "from nas_bench_envs.callbacks import MetricsCallbacks\n"
   ],
   "metadata": {
    "collapsed": false,
    "pycharm": {
     "name": "#%%\n"
    }
   }
  },
  {
   "cell_type": "markdown",
   "source": [
    "#### Test NatsBench"
   ],
   "metadata": {
    "collapsed": false,
    "pycharm": {
     "name": "#%% md\n"
    }
   }
  },
  {
   "cell_type": "code",
   "execution_count": null,
   "outputs": [],
   "source": [
    "from nats_bench import create\n",
    "\n",
    "api = create(\"/scratch2/sem22hs2/NATS-tss-v1_0-3ffb9-simple\", 'tss', fast_mode=True, verbose=False)\n",
    "print(api.get_more_info(1234, 'cifar10'))\n",
    "print()\n",
    "print(api.get_latency(1234, 'cifar10'))\n",
    "print()\n",
    "print(api.get_cost_info(1234, 'cifar10'))"
   ],
   "metadata": {
    "collapsed": false,
    "pycharm": {
     "name": "#%%\n"
    }
   }
  },
  {
   "cell_type": "markdown",
   "source": [
    "## Train using RLlib"
   ],
   "metadata": {
    "collapsed": false,
    "pycharm": {
     "name": "#%% md\n"
    }
   }
  },
  {
   "cell_type": "markdown",
   "source": [
    "#### Whole NasBench Dataset"
   ],
   "metadata": {
    "collapsed": false,
    "pycharm": {
     "name": "#%% md\n"
    }
   }
  },
  {
   "cell_type": "code",
   "execution_count": null,
   "outputs": [],
   "source": [
    "def env_creator(env_config):\n",
    "    return NasBench201(env_config)\n",
    "\n",
    "\n",
    "select_env = \"NasBench201\"\n",
    "register_env(select_env, env_creator)"
   ],
   "metadata": {
    "collapsed": false,
    "pycharm": {
     "name": "#%%\n"
    }
   }
  },
  {
   "cell_type": "code",
   "execution_count": null,
   "outputs": [],
   "source": [
    "config = (\n",
    "    PPOConfig()\n",
    "    .framework(\"torch\")\n",
    "    .resources(num_gpus=1, num_cpus_per_worker=1)\n",
    "    .environment(env=NasBench201, render_env=False)\n",
    "    .rollouts(horizon=1000, num_rollout_workers=8)\n",
    "    .callbacks(MetricsCallbacks)\n",
    ")\n",
    "ray.init(ignore_reinit_error=True)\n",
    "tune.run(\n",
    "    PPO,\n",
    "    config=config.to_dict(),\n",
    "    stop={\"training_iteration\": 100},\n",
    "    callbacks=[WandbLoggerCallback(api_key=\"c36c598399c6c7f2f0b446aac164da6c7956a263\", project=\"RayNasBenchV0\")]\n",
    ")\n",
    "ray.shutdown()"
   ],
   "metadata": {
    "collapsed": false,
    "pycharm": {
     "name": "#%%\n"
    }
   }
  },
  {
   "cell_type": "markdown",
   "source": [
    "#### On selected clusters"
   ],
   "metadata": {
    "collapsed": false,
    "pycharm": {
     "name": "#%% md\n"
    }
   }
  },
  {
   "cell_type": "code",
   "execution_count": null,
   "outputs": [],
   "source": [
    "ray.shutdown()"
   ],
   "metadata": {
    "collapsed": false,
    "pycharm": {
     "name": "#%%\n"
    }
   }
  },
  {
   "cell_type": "code",
   "execution_count": null,
   "outputs": [],
   "source": [
    "env_config = {\"cluster\": 11, \"network_init\": \"cluster\", \"dataset\": \"cifar100\"}\n",
    "config = (\n",
    "    PPOConfig()\n",
    "    .framework(\"torch\")\n",
    "    .resources(num_gpus=1, num_cpus_per_worker=1)\n",
    "    .environment(env=NasBench201Clusters, render_env=False, env_config=env_config)\n",
    "    .rollouts(horizon=1000, num_rollout_workers=8)\n",
    "    .reporting()  # keep_per_episode_custom_metrics= True\n",
    "    .callbacks(MetricsCallbacks)\n",
    ")\n",
    "ray.init(ignore_reinit_error=True)\n",
    "tune.run(\n",
    "    PPO,\n",
    "    config=config.to_dict(),\n",
    "    stop={\"training_iteration\": 100},\n",
    "    callbacks=[WandbLoggerCallback(api_key=\"c36c598399c6c7f2f0b446aac164da6c7956a263\", project=\"RayNasBenchClustersV0\")]\n",
    ")\n",
    "ray.shutdown()"
   ],
   "metadata": {
    "collapsed": false,
    "pycharm": {
     "name": "#%%\n"
    }
   }
  },
  {
   "cell_type": "code",
   "execution_count": null,
   "outputs": [],
   "source": [
    "from ray.tune.schedulers import PopulationBasedTraining\n",
    "\n",
    "env_config = {\"cluster\": 11, \"network_init\": \"cluster\", \"dataset\": \"cifar10\"}\n",
    "config = (\n",
    "    PPOConfig()\n",
    "    .framework(\"torch\")\n",
    "    .resources(num_gpus=1, num_cpus_per_worker=1)\n",
    "    .environment(env=NasBench201Clusters, render_env=False, env_config=env_config)\n",
    "    .rollouts(horizon=1000, num_rollout_workers=8)\n",
    "    .callbacks(MetricsCallbacks)\n",
    ")\n",
    "\n",
    "\n",
    "# Postprocess the perturbed config to ensure it's still valid\n",
    "def explore(config):\n",
    "    # ensure we collect enough timesteps to do sgd\n",
    "    if config[\"train_batch_size\"] < config[\"sgd_minibatch_size\"] * 2:\n",
    "        config[\"train_batch_size\"] = config[\"sgd_minibatch_size\"] * 2\n",
    "    # ensure we run at least one sgd iter\n",
    "    if config[\"num_sgd_iter\"] < 1:\n",
    "        config[\"num_sgd_iter\"] = 1\n",
    "    return config\n",
    "\n",
    "\n",
    "pbt = PopulationBasedTraining(\n",
    "    time_attr=\"time_total_s\",\n",
    "    perturbation_interval=120,\n",
    "    resample_probability=0.25,\n",
    "    # Specifies the mutations of these hyperparams\n",
    "    hyperparam_mutations={\n",
    "        \"lambda\": lambda: random.uniform(0.9, 1.0),\n",
    "        \"clip_param\": lambda: random.uniform(0.01, 0.5),\n",
    "        \"lr\": [1e-3, 5e-4, 1e-4, 5e-5, 1e-5],\n",
    "        \"num_sgd_iter\": lambda: random.randint(1, 30),\n",
    "        \"sgd_minibatch_size\": lambda: random.randint(128, 16384),\n",
    "        \"train_batch_size\": lambda: random.randint(2000, 160000),\n",
    "    },\n",
    "    custom_explore_fn=explore,\n",
    ")\n",
    "\n",
    "tuner = tune.Tuner(\n",
    "    PPO,\n",
    "    tune_config=tune.TuneConfig(\n",
    "        metric=\"episode_reward_max\",\n",
    "        mode=\"max\",\n",
    "        scheduler=pbt,\n",
    "        num_samples=1,\n",
    "    ),\n",
    "    param_space=config.to_dict(),\n",
    "\n",
    ")\n",
    "results = tuner.fit()\n",
    "\n",
    "print(\"best hyperparameters: \", results.get_best_result().config)"
   ],
   "metadata": {
    "collapsed": false,
    "pycharm": {
     "name": "#%%\n"
    }
   }
  },
  {
   "cell_type": "markdown",
   "source": [
    "Train using rllib trainer in for loop"
   ],
   "metadata": {
    "collapsed": false,
    "pycharm": {
     "name": "#%% md\n"
    }
   }
  },
  {
   "cell_type": "code",
   "execution_count": null,
   "outputs": [],
   "source": [
    "# Import the RL algorithm (Trainer) we would like to use.\n",
    "from ray.rllib.agents.ppo import PPOTrainer\n",
    "\n",
    "# Configure the algorithm.\n",
    "config = {\n",
    "    # Environment (RLlib understands openAI gym registered strings).\n",
    "    \"env\": NasBench201Env,\n",
    "    # Use 2 environment workers (aka \"rollout workers\") that parallelly\n",
    "    # collect samples from their own environment clone(s).\n",
    "    \"num_workers\": 2,\n",
    "    # Change this to \"framework: torch\", if you are using PyTorch.\n",
    "    # Also, use \"framework: tf2\" for tf2.x eager execution.\n",
    "    \"framework\": \"torch\",\n",
    "    # Set up a separate evaluation worker set for the\n",
    "    # `trainer.evaluate()` call after training (see below).\n",
    "    \"evaluation_num_workers\": 1,\n",
    "    # Only for evaluation runs, render the env.\n",
    "    \"evaluation_config\": {\n",
    "        \"render_env\": False,\n",
    "    },\n",
    "    \"horizon\": 10\n",
    "}\n",
    "\n",
    "# Create our RLlib Trainer.\n",
    "trainer = PPOTrainer(config=config)\n",
    "\n",
    "# Run it for n training iterations. A training iteration includes\n",
    "# parallel sample collection by the environment workers as well as\n",
    "# loss calculation on the collected batch and a model update.\n",
    "for _ in range(3):\n",
    "    print(trainer.train())\n",
    "\n",
    "# Evaluate the trained Trainer (and render each timestep to the shell's\n",
    "# output).\n",
    "trainer.evaluate()\n"
   ],
   "metadata": {
    "collapsed": false,
    "pycharm": {
     "name": "#%%\n"
    }
   }
  },
  {
   "cell_type": "markdown",
   "source": [
    "Ray Gym Environment checker"
   ],
   "metadata": {
    "collapsed": false,
    "pycharm": {
     "name": "#%% md\n"
    }
   }
  },
  {
   "cell_type": "code",
   "execution_count": null,
   "outputs": [],
   "source": [
    "ray.rllib.utils.check_env(NasBench201Clusters())"
   ],
   "metadata": {
    "collapsed": false,
    "pycharm": {
     "name": "#%%\n"
    }
   }
  },
  {
   "cell_type": "markdown",
   "source": [
    "Stable Baselines"
   ],
   "metadata": {
    "collapsed": false,
    "pycharm": {
     "name": "#%% md\n"
    }
   }
  },
  {
   "cell_type": "code",
   "execution_count": null,
   "outputs": [],
   "source": [
    "import os\n",
    "import sys\n",
    "\n",
    "module_path = os.path.abspath(os.path.join('nas-bench-envs'))\n",
    "if module_path not in sys.path:\n",
    "    sys.path.append(module_path)\n",
    "import gym\n",
    "from nas_bench_envs.envs.nas_bench_201_envs import NasBench201\n",
    "from stable_baselines3 import PPO\n",
    "from wandb.integration.sb3 import WandbCallback\n",
    "from stable_baselines3.common.monitor import Monitor\n",
    "\n",
    "config = {\n",
    "    \"policy_type\": \"MlpPolicy\",\n",
    "    \"total_timesteps\": 25000,\n",
    "    \"env_name\": \"nas_bench_envs/NasBench201Env-v0\",\n",
    "}\n",
    "\n",
    "\n",
    "def make_env():\n",
    "    env = gym.make(config[\"env_name\"])\n",
    "    env = Monitor(env)  # record stats such as returns\n",
    "    return env\n",
    "\n",
    "\n",
    "env = make_env()\n",
    "\n",
    "run = wandb.init(\n",
    "    project=\"debug\",\n",
    "    config=config,\n",
    "    sync_tensorboard=True,  # auto-upload sb3's tensorboard metrics\n",
    "    monitor_gym=True,  # auto-upload the videos of agents playing the game\n",
    "    save_code=True,  # optional\n",
    ")\n",
    "\n",
    "model = PPO(config[\"policy_type\"], env, verbose=1, tensorboard_log=f\"runs/{run.id}\")\n",
    "model.learn(config[\"total_timesteps\"],\n",
    "            callback=WandbCallback(\n",
    "                gradient_save_freq=100,\n",
    "                model_save_path=f\"models/{run.id}\",\n",
    "                verbose=2,\n",
    "            ), )\n",
    "\n",
    "obs = env.reset()\n",
    "for i in range(1000):\n",
    "    action, _states = model.predict(obs, deterministic=True)\n",
    "    obs, reward, done, info = env.step(action)\n",
    "    # env.render()\n",
    "    if done:\n",
    "        obs = env.reset()\n",
    "env.close()\n",
    "run.finish()"
   ],
   "metadata": {
    "collapsed": false,
    "pycharm": {
     "name": "#%%\n"
    }
   }
  },
  {
   "cell_type": "code",
   "execution_count": null,
   "outputs": [],
   "source": [
    "print(PPOConfig().)"
   ],
   "metadata": {
    "collapsed": false,
    "pycharm": {
     "name": "#%%\n"
    }
   }
  },
  {
   "cell_type": "markdown",
   "source": [
    "Test functionality of NastBench and Env"
   ],
   "metadata": {
    "collapsed": false,
    "pycharm": {
     "name": "#%% md\n"
    }
   }
  },
  {
   "cell_type": "code",
   "execution_count": null,
   "outputs": [],
   "source": [
    "from nats_bench import create\n",
    "\n",
    "# Create the API instance for the topology search space in NATS\n",
    "api = create(\"/scratch2/sem22hs2/NATS-tss-v1_0-3ffb9-simple\", 'tss', fast_mode=True, verbose=False)\n",
    "architecture_str = api.arch(12)\n",
    "print(architecture_str)\n",
    "info = api.get_more_info(architecture_str, 'cifar10')\n",
    "print(info)"
   ],
   "metadata": {
    "collapsed": false,
    "pycharm": {
     "name": "#%%\n"
    }
   }
  },
  {
   "cell_type": "code",
   "execution_count": null,
   "outputs": [],
   "source": [
    "import gym.spaces as spaces\n",
    "\n",
    "env = gym.make(\"nas_bench_envs/NasBench201Env-v0\")\n",
    "env.reset()\n",
    "print(env.adjacency_tensor)\n",
    "env.step(20)\n",
    "env.step(1)\n",
    "# print(arch_str)\n",
    "# api.get_more_info(\"|none~0|+|avg_pool_3x3~0|skip_connect~1|+|nor_conv_3x3~0|skip_connect~0|none~1|\", 'cifar10')\n",
    "env.spec.max_episode_steps = 100\n",
    "print(env.observation_space.shape)\n",
    "print(env.action_space)"
   ],
   "metadata": {
    "collapsed": false,
    "pycharm": {
     "name": "#%%\n"
    }
   }
  },
  {
   "cell_type": "code",
   "execution_count": null,
   "outputs": [],
   "source": [
    "config = {\"render_mode\": \"human\"}\n",
    "env = NasBench201Clusters(config)\n",
    "env.reset()\n",
    "print(env._nb201_lookup()['train-all-time'])\n",
    "env.step(3)\n",
    "env.render()\n",
    "env._render_frame(\"human\")"
   ],
   "metadata": {
    "collapsed": false,
    "pycharm": {
     "name": "#%%\n"
    }
   }
  },
  {
   "cell_type": "code",
   "execution_count": null,
   "outputs": [],
   "source": [
    "env = NasBench201()\n",
    "env.reset()\n",
    "env.step(3)\n",
    "env._render_frame(\"human\")"
   ],
   "metadata": {
    "collapsed": false,
    "pycharm": {
     "name": "#%%\n"
    }
   }
  },
  {
   "cell_type": "code",
   "execution_count": null,
   "outputs": [],
   "source": [
    "env.adjacency_tensor[0, 1, :].nonzero()[0][0]"
   ],
   "metadata": {
    "collapsed": false,
    "pycharm": {
     "name": "#%%\n"
    }
   }
  },
  {
   "cell_type": "code",
   "execution_count": null,
   "id": "dbd03756",
   "metadata": {
    "collapsed": false,
    "jupyter": {
     "outputs_hidden": false
    },
    "pycharm": {
     "name": "#%%\n"
    }
   },
   "outputs": [],
   "source": [
    "env = NasBench201()\n",
    "env.reset()\n",
    "env.step(3)\n",
    "env._render_frame(\"human\")"
   ]
  },
  {
   "cell_type": "code",
   "execution_count": null,
   "id": "89151d32",
   "metadata": {
    "collapsed": false,
    "jupyter": {
     "outputs_hidden": false
    },
    "pycharm": {
     "name": "#%%\n"
    }
   },
   "outputs": [],
   "source": [
    "env.adjacency_tensor[0, 1, :].nonzero()[0][0]"
   ]
  },
  {
   "cell_type": "code",
   "execution_count": null,
   "id": "4645ff6c",
   "metadata": {
    "collapsed": false,
    "jupyter": {
     "outputs_hidden": false
    },
    "pycharm": {
     "name": "#%%\n"
    }
   },
   "outputs": [],
   "source": [
    "!pip install wandb --upgrade"
   ]
  },
  {
   "cell_type": "markdown",
   "id": "a993aa96-a0e7-46bd-b20f-9907294e688b",
   "metadata": {},
   "source": [
    "--------------------/scratch2/thorir/Data/Results----------------------\n",
    "Search space:                       nas-bench-201\n",
    "Data set:                           cifar100\n",
    "Used algorithm:                     random\n",
    "Search criterion:                   test_accuracy\n",
    "Number of runs:                     20\n",
    "Random Seed:                        3700\n",
    "Filter applied:                     0\n",
    "Clustering used:                    True\n",
    "Model selection method:             silhouette\n",
    "Cluster selection mode:             oracle\n",
    "Quantiling used:                    False\n",
    "Quantile:                           0.2\n",
    "Quantiling statistic:               naswot_v2_mean\n",
    "Number of networks:                 1638\n",
    "Random search mean performance:     71.64\n",
    "Random search performance STD:      0.85\n",
    "Random search performance median:   71.6\n",
    "Random search performance skew:     0.11\n",
    "Time taken:                         215.0s"
   ]
  }
 ],
 "metadata": {
  "kernelspec": {
   "display_name": "RL",
   "language": "python",
   "name": "rl"
  },
  "language_info": {
   "codemirror_mode": {
    "name": "ipython",
    "version": 3
   },
   "file_extension": ".py",
   "mimetype": "text/x-python",
   "name": "python",
   "nbconvert_exporter": "python",
   "pygments_lexer": "ipython3",
   "version": "3.9.12"
  }
 },
 "nbformat": 4,
 "nbformat_minor": 5
}