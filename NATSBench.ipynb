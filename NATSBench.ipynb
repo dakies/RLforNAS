{
 "cells": [
  {
   "cell_type": "markdown",
   "id": "623b94a1",
   "metadata": {},
   "source": [
    "# NATS Bench (same topology space as NasBench 201)"
   ]
  },
  {
   "cell_type": "code",
   "execution_count": 1,
   "id": "ac5f0a49",
   "metadata": {
    "tags": []
   },
   "outputs": [],
   "source": [
    "import os\n",
    "import sys\n",
    "\n",
    "import gym\n",
    "import ray\n",
    "from ray import tune\n",
    "#from ray.rllib.agents.ppo import ppo \n",
    "from ray.rllib.algorithms.ppo import PPO, PPOConfig\n",
    "from ray.tune.registry import register_env\n",
    "\n",
    "from ray.tune.integration.wandb import WandbLoggerCallback\n",
    "\n",
    "module_path = os.path.abspath(os.path.join('nas-bench-envs'))\n",
    "if module_path not in sys.path:\n",
    "    sys.path.append(module_path)\n",
    "    os.environ['PYTHONPATH'] = module_path\n",
    "from nas_bench_envs.envs.nas_bench_201_envs import NasBench201, NasBench201Clusters\n"
   ]
  },
  {
   "cell_type": "markdown",
   "id": "151ae29d-70c3-4927-a450-aefd5a499e32",
   "metadata": {},
   "source": [
    "## Train using RLlib"
   ]
  },
  {
   "cell_type": "markdown",
   "id": "38c1a4d2-4039-449c-99a1-62a21ecb6627",
   "metadata": {},
   "source": [
    "#### Whole NasBench Dataset"
   ]
  },
  {
   "cell_type": "code",
   "execution_count": null,
   "id": "0b56d7f8-bf2a-4a9d-95b7-a0859f280ac4",
   "metadata": {},
   "outputs": [],
   "source": [
    "def env_creator(env_config):\n",
    "    return NasBench201(env_config)\n",
    "select_env = \"NasBench201\"\n",
    "register_env(select_env, env_creator)"
   ]
  },
  {
   "cell_type": "code",
   "execution_count": null,
   "id": "462448ad-bbbd-446b-a096-9c700ee35c66",
   "metadata": {},
   "outputs": [],
   "source": [
    "config = (\n",
    "    PPOConfig()\n",
    "    .framework(\"torch\")\n",
    "    .resources(num_gpus=1, num_cpus_per_worker=1)\n",
    "    .environment(env=NasBench201, render_env=False)\n",
    "    .rollouts(horizon=1000)\n",
    "    \n",
    ")\n",
    "ray.init(ignore_reinit_error=True)\n",
    "tune.run(\n",
    "    PPO,\n",
    "    config=config.to_dict(),\n",
    "    stop={\"training_iteration\": 100},\n",
    "    callbacks=[WandbLoggerCallback(api_key=\"c36c598399c6c7f2f0b446aac164da6c7956a263\", project=\"RayNasBenchV0\")]\n",
    ")\n",
    "ray.shutdown()"
   ]
  },
  {
   "cell_type": "markdown",
   "id": "1ea1265e-2b5b-41e9-bfe0-cdd88eea085a",
   "metadata": {},
   "source": [
    "#### On selected clusters"
   ]
  },
  {
   "cell_type": "code",
   "execution_count": null,
   "id": "50d51d19-ec5e-4b6f-bfc6-e3060e39e7ac",
   "metadata": {},
   "outputs": [],
   "source": [
    "config = (\n",
    "    PPOConfig()\n",
    "    .framework(\"torch\")\n",
    "    .resources(num_gpus=1, num_cpus_per_worker=2)\n",
    "    .environment(env=NasBench201Clusters, render_env=False)\n",
    "    .rollouts(horizon=1000)\n",
    ")\n",
    "ray.init(ignore_reinit_error=True)\n",
    "tune.run(\n",
    "    PPO,\n",
    "    config=config.to_dict(),\n",
    "    stop={\"training_iteration\": 100},\n",
    "    callbacks=[WandbLoggerCallback(api_key=\"c36c598399c6c7f2f0b446aac164da6c7956a263\", project=\"RayNasBenchClustersV0\")]\n",
    ")\n",
    "ray.shutdown()"
   ]
  },
  {
   "cell_type": "code",
   "execution_count": null,
   "id": "4f30d49a",
   "metadata": {
    "pycharm": {
     "name": "#%%\n"
    }
   },
   "outputs": [],
   "source": [
    "from ray.tune.registry import register_env\n",
    "\n",
    "def env_creator(env_config):\n",
    "    return NasBench201(env_config)\n",
    "select_env = \"NasBench201\"\n",
    "register_env(select_env, env_creator)\n",
    "\n",
    "ray.init(ignore_reinit_error=True)\n",
    "ray.tune.run(\n",
    "    \"PPO\",\n",
    "    stop={\"training_iteration\": 100},\n",
    "    config={\n",
    "        \"env\": NasBench201,\n",
    "        #\"env_config\": {\"corridor_length\": 5,},\n",
    "        \"framework\": \"torch\",\n",
    "        \"num_cpus_per_worker\": 1,\n",
    "        \"log_level\": \"INFO\",\n",
    "        \"horizon\":1000,\n",
    "        #\"num_gpus\": 1,\n",
    "        \"num_workers\": 1,\n",
    "        \"render_env\": False\n",
    "    },\n",
    "    # local_dir=\"logs\",\n",
    "    # callbacks=[WandbLoggerCallback(api_key=\"c36c598399c6c7f2f0b446aac164da6c7956a263\", project=\"RayNasBenchV0\")],\n",
    ")\n",
    "ray.shutdown()"
   ]
  },
  {
   "cell_type": "code",
   "execution_count": null,
   "id": "ea5b79d8",
   "metadata": {},
   "outputs": [],
   "source": [
    "ray.shutdown()"
   ]
  },
  {
   "cell_type": "markdown",
   "id": "db3d13ec-0244-4803-be01-7b4e870ca838",
   "metadata": {},
   "source": [
    "Train using rllib trainer in for loop"
   ]
  },
  {
   "cell_type": "code",
   "execution_count": null,
   "id": "8e1a6ad0-ca8d-4917-aaa1-8770c87376a3",
   "metadata": {},
   "outputs": [],
   "source": [
    "# Import the RL algorithm (Trainer) we would like to use.\n",
    "from ray.rllib.agents.ppo import PPOTrainer\n",
    "# Configure the algorithm.\n",
    "config = {\n",
    "    # Environment (RLlib understands openAI gym registered strings).\n",
    "    \"env\": NasBench201Env,\n",
    "    # Use 2 environment workers (aka \"rollout workers\") that parallelly\n",
    "    # collect samples from their own environment clone(s).\n",
    "    \"num_workers\": 2,\n",
    "    # Change this to \"framework: torch\", if you are using PyTorch.\n",
    "    # Also, use \"framework: tf2\" for tf2.x eager execution.\n",
    "    \"framework\": \"torch\",\n",
    "    # Set up a separate evaluation worker set for the\n",
    "    # `trainer.evaluate()` call after training (see below).\n",
    "    \"evaluation_num_workers\": 1,\n",
    "    # Only for evaluation runs, render the env.\n",
    "    \"evaluation_config\": {\n",
    "        \"render_env\": False,\n",
    "    },\n",
    "    \"horizon\":10\n",
    "}\n",
    "\n",
    "# Create our RLlib Trainer.\n",
    "trainer = PPOTrainer(config=config)\n",
    "\n",
    "# Run it for n training iterations. A training iteration includes\n",
    "# parallel sample collection by the environment workers as well as\n",
    "# loss calculation on the collected batch and a model update.\n",
    "for _ in range(3):\n",
    "    print(trainer.train())\n",
    "\n",
    "# Evaluate the trained Trainer (and render each timestep to the shell's\n",
    "# output).\n",
    "trainer.evaluate()\n"
   ]
  },
  {
   "cell_type": "markdown",
   "id": "62e2bdca",
   "metadata": {},
   "source": [
    "Ray Gym Environment checker"
   ]
  },
  {
   "cell_type": "code",
   "execution_count": null,
   "id": "206f8a60",
   "metadata": {},
   "outputs": [],
   "source": [
    "ray.rllib.utils.check_env(NasBench201Clusters())"
   ]
  },
  {
   "cell_type": "markdown",
   "id": "21bbd332-72e2-48cd-93ea-115f326fcdd5",
   "metadata": {},
   "source": [
    "Stable Baselines"
   ]
  },
  {
   "cell_type": "code",
   "execution_count": null,
   "id": "634911e9-42bb-4dde-9351-7fd746701da1",
   "metadata": {},
   "outputs": [],
   "source": [
    "import os\n",
    "import sys\n",
    "module_path = os.path.abspath(os.path.join('nas-bench-envs'))\n",
    "if module_path not in sys.path:\n",
    "    sys.path.append(module_path)\n",
    "import gym\n",
    "from nas_bench_envs.envs.nas_bench_201_envs import NasBench201\n",
    "from stable_baselines3 import PPO\n",
    "from wandb.integration.sb3 import WandbCallback\n",
    "from stable_baselines3.common.monitor import Monitor\n",
    "\n",
    "config = {\n",
    "    \"policy_type\": \"MlpPolicy\",\n",
    "    \"total_timesteps\": 25000,\n",
    "    \"env_name\": \"nas_bench_envs/NasBench201Env-v0\",\n",
    "}\n",
    "\n",
    "def make_env():\n",
    "    env = gym.make(config[\"env_name\"])\n",
    "    env = Monitor(env)  # record stats such as returns\n",
    "    return env\n",
    "\n",
    "env = make_env()\n",
    "\n",
    "run = wandb.init(\n",
    "    project=\"debug\",\n",
    "    config=config,\n",
    "    sync_tensorboard=True,  # auto-upload sb3's tensorboard metrics\n",
    "    monitor_gym=True,  # auto-upload the videos of agents playing the game\n",
    "    save_code=True,  # optional\n",
    ")\n",
    "\n",
    "model = PPO(config[\"policy_type\"], env, verbose=1, tensorboard_log=f\"runs/{run.id}\")\n",
    "model.learn(config[\"total_timesteps\"],\n",
    "           callback=WandbCallback(\n",
    "        gradient_save_freq=100,\n",
    "        model_save_path=f\"models/{run.id}\",\n",
    "        verbose=2,\n",
    "    ),)\n",
    "\n",
    "obs = env.reset()\n",
    "for i in range(1000):\n",
    "    action, _states = model.predict(obs, deterministic=True)\n",
    "    obs, reward, done, info = env.step(action)\n",
    "    # env.render()\n",
    "    if done:\n",
    "      obs = env.reset()\n",
    "env.close()\n",
    "run.finish()"
   ]
  },
  {
   "cell_type": "code",
   "execution_count": null,
   "id": "6d4904a8-33f4-45bf-9c48-1f4121c78fd2",
   "metadata": {},
   "outputs": [],
   "source": [
    "print(PPOConfig().)"
   ]
  },
  {
   "cell_type": "markdown",
   "id": "fc929f2a-ca68-402e-b849-1f789e3e7d86",
   "metadata": {},
   "source": [
    "Test functionality of NastBench and Env"
   ]
  },
  {
   "cell_type": "code",
   "execution_count": null,
   "id": "46a8b6a1",
   "metadata": {
    "tags": []
   },
   "outputs": [],
   "source": [
    "from nats_bench import create\n",
    "# Create the API instance for the topology search space in NATS\n",
    "api = create(\"/scratch2/sem22hs2/NATS-tss-v1_0-3ffb9-simple\", 'tss', fast_mode=True, verbose=False)\n",
    "architecture_str = api.arch(12)\n",
    "print(architecture_str)\n",
    "info = api.get_more_info(architecture_str, 'cifar10')\n",
    "print(info)"
   ]
  },
  {
   "cell_type": "code",
   "execution_count": null,
   "id": "2a28e07c",
   "metadata": {},
   "outputs": [],
   "source": [
    "import gym.spaces as spaces\n",
    "env = gym.make(\"nas_bench_envs/NasBench201Env-v0\")\n",
    "env.reset()\n",
    "print(env.adjacency_tensor)\n",
    "env.step(20)\n",
    "env.step(1)\n",
    "# print(arch_str)\n",
    "# api.get_more_info(\"|none~0|+|avg_pool_3x3~0|skip_connect~1|+|nor_conv_3x3~0|skip_connect~0|none~1|\", 'cifar10')\n",
    "env.spec.max_episode_steps=100\n",
    "print(env.observation_space.shape)\n",
    "print(env.action_space)"
   ]
  },
  {
   "cell_type": "code",
   "execution_count": null,
   "id": "7e780f4e-b60c-433a-8ec6-92b9cec1cbfb",
   "metadata": {},
   "outputs": [],
   "source": [
    "env=NasBench201Clusters()\n",
    "env.reset()\n",
    "env.step(3)\n",
    "env.render()"
   ]
  },
  {
   "cell_type": "code",
   "execution_count": 2,
   "id": "c723108d-0a1a-49f2-b292-c5d74e99e0a7",
   "metadata": {},
   "outputs": [],
   "source": [
    "env=NasBench201()\n",
    "env.reset()\n",
    "env.step(3)\n",
    "env.render()"
   ]
  },
  {
   "cell_type": "code",
   "execution_count": null,
   "id": "5fc77f02-711b-4d71-bcf8-0c5c0b844613",
   "metadata": {},
   "outputs": [],
   "source": [
    "env.adjacency_tensor[0,1,:].nonzero()[0][0]"
   ]
  },
  {
   "cell_type": "code",
   "execution_count": null,
   "id": "5bf3768d-6ba4-4c94-8b61-1e1389cfa6aa",
   "metadata": {},
   "outputs": [],
   "source": []
  }
 ],
 "metadata": {
  "kernelspec": {
   "display_name": "RL",
   "language": "python",
   "name": "rl"
  },
  "language_info": {
   "codemirror_mode": {
    "name": "ipython",
    "version": 3
   },
   "file_extension": ".py",
   "mimetype": "text/x-python",
   "name": "python",
   "nbconvert_exporter": "python",
   "pygments_lexer": "ipython3",
   "version": "3.9.12"
  }
 },
 "nbformat": 4,
 "nbformat_minor": 5
}
